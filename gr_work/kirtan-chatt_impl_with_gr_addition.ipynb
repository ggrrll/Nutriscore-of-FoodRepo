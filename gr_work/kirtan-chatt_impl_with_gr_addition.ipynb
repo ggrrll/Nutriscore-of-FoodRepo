{
 "cells": [
  {
   "cell_type": "markdown",
   "metadata": {
    "heading_collapsed": true,
    "run_control": {
     "frozen": false,
     "read_only": false
    },
    "toc": "true"
   },
   "source": [
    "# Table of Contents\n",
    " <p><div class=\"lev3 toc-item\"><a href=\"#Define-all-dataframes\" data-toc-modified-id=\"Define-all-dataframes-001\"><span class=\"toc-item-num\">0.0.1&nbsp;&nbsp;</span>Define all dataframes</a></div><div class=\"lev1 toc-item\"><a href=\"#Nutrient-info\" data-toc-modified-id=\"Nutrient-info-1\"><span class=\"toc-item-num\">1&nbsp;&nbsp;</span>Nutrient info</a></div><div class=\"lev1 toc-item\"><a href=\"#Ingredient-info\" data-toc-modified-id=\"Ingredient-info-2\"><span class=\"toc-item-num\">2&nbsp;&nbsp;</span>Ingredient info</a></div><div class=\"lev1 toc-item\"><a href=\"#Info\" data-toc-modified-id=\"Info-3\"><span class=\"toc-item-num\">3&nbsp;&nbsp;</span>Info</a></div><div class=\"lev1 toc-item\"><a href=\"#combining-all-df\" data-toc-modified-id=\"combining-all-df-4\"><span class=\"toc-item-num\">4&nbsp;&nbsp;</span>combining all df</a></div><div class=\"lev1 toc-item\"><a href=\"#Nutriscore-Calculation\" data-toc-modified-id=\"Nutriscore-Calculation-5\"><span class=\"toc-item-num\">5&nbsp;&nbsp;</span>Nutriscore Calculation</a></div><div class=\"lev2 toc-item\"><a href=\"#Part-1\" data-toc-modified-id=\"Part-1-51\"><span class=\"toc-item-num\">5.1&nbsp;&nbsp;</span>Part 1</a></div><div class=\"lev3 toc-item\"><a href=\"#Points-A\" data-toc-modified-id=\"Points-A-511\"><span class=\"toc-item-num\">5.1.1&nbsp;&nbsp;</span>Points A</a></div><div class=\"lev3 toc-item\"><a href=\"#Points-C\" data-toc-modified-id=\"Points-C-512\"><span class=\"toc-item-num\">5.1.2&nbsp;&nbsp;</span>Points C</a></div><div class=\"lev2 toc-item\"><a href=\"#Part-2\" data-toc-modified-id=\"Part-2-52\"><span class=\"toc-item-num\">5.2&nbsp;&nbsp;</span>Part 2</a></div><div class=\"lev2 toc-item\"><a href=\"#saving-nutriscore\\score\" data-toc-modified-id=\"saving-nutriscore\\score-53\"><span class=\"toc-item-num\">5.3&nbsp;&nbsp;</span>saving nutriscore\\score</a></div><div class=\"lev1 toc-item\"><a href=\"#Statistics\" data-toc-modified-id=\"Statistics-6\"><span class=\"toc-item-num\">6&nbsp;&nbsp;</span>Statistics</a></div><div class=\"lev2 toc-item\"><a href=\"#score-stats\" data-toc-modified-id=\"score-stats-61\"><span class=\"toc-item-num\">6.1&nbsp;&nbsp;</span>score stats</a></div><div class=\"lev2 toc-item\"><a href=\"#nutri-score-stats\" data-toc-modified-id=\"nutri-score-stats-62\"><span class=\"toc-item-num\">6.2&nbsp;&nbsp;</span>nutri-score stats</a></div>"
   ]
  },
  {
   "cell_type": "code",
   "execution_count": 3,
   "metadata": {
    "hidden": true,
    "run_control": {
     "frozen": false,
     "read_only": false
    }
   },
   "outputs": [],
   "source": [
    "import numpy\n",
    "import pandas as pd"
   ]
  },
  {
   "cell_type": "markdown",
   "metadata": {
    "heading_collapsed": true,
    "hidden": true,
    "run_control": {
     "frozen": false,
     "read_only": false
    }
   },
   "source": [
    "### Define all dataframes"
   ]
  },
  {
   "cell_type": "code",
   "execution_count": 6,
   "metadata": {
    "hidden": true,
    "run_control": {
     "frozen": false,
     "read_only": false
    }
   },
   "outputs": [],
   "source": [
    "# Nutrients\n",
    "nutrients_df = pd.read_json('../nutriscore_calculation/dNutrients.json', convert_dates=False, convert_axes=False)\n",
    "nutrients_df = nutrients_df.transpose()\n",
    "\n",
    "# Info\n",
    "info_df = pd.read_json('../nutriscore_calculation/dInfo.json', convert_dates=False, convert_axes=False) \n",
    "info_df = info_df.transpose()\n",
    "\n",
    "# Ingredients\n",
    "ingredients_df = pd.read_json('../nutriscore_calculation/dIngredients.json', convert_dates=False, convert_axes=False) \n",
    "ingredients_df = ingredients_df.transpose()"
   ]
  },
  {
   "cell_type": "markdown",
   "metadata": {
    "heading_collapsed": true,
    "run_control": {
     "frozen": false,
     "read_only": false
    }
   },
   "source": [
    "# Nutrient info"
   ]
  },
  {
   "cell_type": "code",
   "execution_count": 7,
   "metadata": {
    "hidden": true,
    "run_control": {
     "frozen": false,
     "read_only": false
    }
   },
   "outputs": [
    {
     "data": {
      "text/plain": [
       "21580"
      ]
     },
     "execution_count": 7,
     "metadata": {},
     "output_type": "execute_result"
    }
   ],
   "source": [
    "columns_nutri = set(nutrients_df.index.values)\n",
    "len(columns_nutri)"
   ]
  },
  {
   "cell_type": "code",
   "execution_count": 8,
   "metadata": {
    "hidden": true,
    "run_control": {
     "frozen": false,
     "read_only": false
    }
   },
   "outputs": [
    {
     "data": {
      "text/html": [
       "<div>\n",
       "<style scoped>\n",
       "    .dataframe tbody tr th:only-of-type {\n",
       "        vertical-align: middle;\n",
       "    }\n",
       "\n",
       "    .dataframe tbody tr th {\n",
       "        vertical-align: top;\n",
       "    }\n",
       "\n",
       "    .dataframe thead th {\n",
       "        text-align: right;\n",
       "    }\n",
       "</style>\n",
       "<table border=\"1\" class=\"dataframe\">\n",
       "  <thead>\n",
       "    <tr style=\"text-align: right;\">\n",
       "      <th></th>\n",
       "      <th>id</th>\n",
       "      <th>name</th>\n",
       "      <th>nutrients</th>\n",
       "    </tr>\n",
       "  </thead>\n",
       "  <tbody>\n",
       "    <tr>\n",
       "      <th>0011210006508</th>\n",
       "      <td>10117</td>\n",
       "      <td>{'de': 'Mc. Ilhenny Co. Avery Island L.A. Taba...</td>\n",
       "      <td>{}</td>\n",
       "    </tr>\n",
       "    <tr>\n",
       "      <th>0011210115224</th>\n",
       "      <td>4432</td>\n",
       "      <td>{'de': 'Tabasco Pepper Sauce', 'it': 'Tabasco ...</td>\n",
       "      <td>{}</td>\n",
       "    </tr>\n",
       "    <tr>\n",
       "      <th>0012086314018</th>\n",
       "      <td>9625</td>\n",
       "      <td>{'de': 'Joseph Droukin Montagny', 'it': 'Josep...</td>\n",
       "      <td>{}</td>\n",
       "    </tr>\n",
       "    <tr>\n",
       "      <th>0014100096986</th>\n",
       "      <td>2060</td>\n",
       "      <td>{'de': 'Chocolate Chunk : Dark Double Chocolat...</td>\n",
       "      <td>{'energy_kcal': {'per_day': 7.0, 'per_hundred'...</td>\n",
       "    </tr>\n",
       "    <tr>\n",
       "      <th>0014100096993</th>\n",
       "      <td>3542</td>\n",
       "      <td>{'de': 'Pepperidge farm Cookies aux morceaux d...</td>\n",
       "      <td>{'energy_kcal': {'per_day': 7.0, 'per_hundred'...</td>\n",
       "    </tr>\n",
       "  </tbody>\n",
       "</table>\n",
       "</div>"
      ],
      "text/plain": [
       "                  id                                               name  \\\n",
       "0011210006508  10117  {'de': 'Mc. Ilhenny Co. Avery Island L.A. Taba...   \n",
       "0011210115224   4432  {'de': 'Tabasco Pepper Sauce', 'it': 'Tabasco ...   \n",
       "0012086314018   9625  {'de': 'Joseph Droukin Montagny', 'it': 'Josep...   \n",
       "0014100096986   2060  {'de': 'Chocolate Chunk : Dark Double Chocolat...   \n",
       "0014100096993   3542  {'de': 'Pepperidge farm Cookies aux morceaux d...   \n",
       "\n",
       "                                                       nutrients  \n",
       "0011210006508                                                 {}  \n",
       "0011210115224                                                 {}  \n",
       "0012086314018                                                 {}  \n",
       "0014100096986  {'energy_kcal': {'per_day': 7.0, 'per_hundred'...  \n",
       "0014100096993  {'energy_kcal': {'per_day': 7.0, 'per_hundred'...  "
      ]
     },
     "execution_count": 8,
     "metadata": {},
     "output_type": "execute_result"
    }
   ],
   "source": [
    "nutrients_df.head()"
   ]
  },
  {
   "cell_type": "code",
   "execution_count": 9,
   "metadata": {
    "hidden": true,
    "run_control": {
     "frozen": false,
     "read_only": false
    }
   },
   "outputs": [
    {
     "name": "stdout",
     "output_type": "stream",
     "text": [
      "jai ho 4104420045866\n"
     ]
    }
   ],
   "source": [
    "# Test if particular nutrients exist in the nutrient list\n",
    "for column in columns_nutri:\n",
    "    nutris = set(nutrients_df['nutrients'][column].keys())\n",
    "    if('saturated_fat' in nutris and info_df['unit'][column]):\n",
    "        print('jai ho', column)\n",
    "        break"
   ]
  },
  {
   "cell_type": "code",
   "execution_count": 10,
   "metadata": {
    "hidden": true,
    "run_control": {
     "frozen": false,
     "read_only": false
    }
   },
   "outputs": [
    {
     "data": {
      "text/plain": [
       "{'carbohydrates': {'per_day': 31.0,\n",
       "  'per_hundred': None,\n",
       "  'per_portion': 38.0,\n",
       "  'unit': 'g'},\n",
       " 'energy': {'per_day': 8.0,\n",
       "  'per_hundred': None,\n",
       "  'per_portion': 280.0,\n",
       "  'unit': 'kJ'},\n",
       " 'energy_kcal': {'per_day': 0.0,\n",
       "  'per_hundred': None,\n",
       "  'per_portion': 65.0,\n",
       "  'unit': 'kCal'},\n",
       " 'fat': {'per_day': 0.0, 'per_hundred': None, 'per_portion': 0.0, 'unit': 'g'},\n",
       " 'fiber': {'per_day': None,\n",
       "  'per_hundred': None,\n",
       "  'per_portion': 4.0,\n",
       "  'unit': 'g'},\n",
       " 'protein': {'per_day': 3.0,\n",
       "  'per_hundred': None,\n",
       "  'per_portion': 1.5,\n",
       "  'unit': 'g'},\n",
       " 'salt': {'per_day': 0.0,\n",
       "  'per_hundred': None,\n",
       "  'per_portion': 0.0,\n",
       "  'unit': 'g'},\n",
       " 'saturated_fat': {'per_day': 15.0,\n",
       "  'per_hundred': None,\n",
       "  'per_portion': 0.0,\n",
       "  'unit': 'g'},\n",
       " 'sugars': {'per_day': None,\n",
       "  'per_hundred': None,\n",
       "  'per_portion': 28.0,\n",
       "  'unit': 'g'}}"
      ]
     },
     "execution_count": 10,
     "metadata": {},
     "output_type": "execute_result"
    }
   ],
   "source": [
    "nutrients_df['nutrients']['7610029176308']\n"
   ]
  },
  {
   "cell_type": "markdown",
   "metadata": {
    "heading_collapsed": true,
    "run_control": {
     "frozen": false,
     "read_only": false
    }
   },
   "source": [
    "# Ingredient info"
   ]
  },
  {
   "cell_type": "code",
   "execution_count": 11,
   "metadata": {
    "hidden": true,
    "run_control": {
     "frozen": false,
     "read_only": false
    }
   },
   "outputs": [
    {
     "data": {
      "text/html": [
       "<div>\n",
       "<style scoped>\n",
       "    .dataframe tbody tr th:only-of-type {\n",
       "        vertical-align: middle;\n",
       "    }\n",
       "\n",
       "    .dataframe tbody tr th {\n",
       "        vertical-align: top;\n",
       "    }\n",
       "\n",
       "    .dataframe thead th {\n",
       "        text-align: right;\n",
       "    }\n",
       "</style>\n",
       "<table border=\"1\" class=\"dataframe\">\n",
       "  <thead>\n",
       "    <tr style=\"text-align: right;\">\n",
       "      <th></th>\n",
       "      <th>id</th>\n",
       "      <th>ingredients</th>\n",
       "      <th>name</th>\n",
       "    </tr>\n",
       "  </thead>\n",
       "  <tbody>\n",
       "    <tr>\n",
       "      <th>0011210006508</th>\n",
       "      <td>10117</td>\n",
       "      <td>{'de': 'Weissweinessig, Habanero Chili, Rohrzu...</td>\n",
       "      <td>{'de': 'Mc. Ilhenny Co. Avery Island L.A. Taba...</td>\n",
       "    </tr>\n",
       "    <tr>\n",
       "      <th>0011210115224</th>\n",
       "      <td>4432</td>\n",
       "      <td>{'de': 'Branntweinessig, rote Chilischoten, Ko...</td>\n",
       "      <td>{'de': 'Tabasco Pepper Sauce', 'it': 'Tabasco ...</td>\n",
       "    </tr>\n",
       "    <tr>\n",
       "      <th>0012086314018</th>\n",
       "      <td>9625</td>\n",
       "      <td>{'de': 'Sulfite', 'en': 'sulphites'}</td>\n",
       "      <td>{'de': 'Joseph Droukin Montagny', 'it': 'Josep...</td>\n",
       "    </tr>\n",
       "    <tr>\n",
       "      <th>0014100096986</th>\n",
       "      <td>2060</td>\n",
       "      <td>{}</td>\n",
       "      <td>{'de': 'Chocolate Chunk : Dark Double Chocolat...</td>\n",
       "    </tr>\n",
       "    <tr>\n",
       "      <th>0014100096993</th>\n",
       "      <td>3542</td>\n",
       "      <td>{'de': 'ANGEREICHERTES WEIZENMEHL (MEHL, NIACI...</td>\n",
       "      <td>{'de': 'Pepperidge farm Cookies aux morceaux d...</td>\n",
       "    </tr>\n",
       "  </tbody>\n",
       "</table>\n",
       "</div>"
      ],
      "text/plain": [
       "                  id                                        ingredients  \\\n",
       "0011210006508  10117  {'de': 'Weissweinessig, Habanero Chili, Rohrzu...   \n",
       "0011210115224   4432  {'de': 'Branntweinessig, rote Chilischoten, Ko...   \n",
       "0012086314018   9625               {'de': 'Sulfite', 'en': 'sulphites'}   \n",
       "0014100096986   2060                                                 {}   \n",
       "0014100096993   3542  {'de': 'ANGEREICHERTES WEIZENMEHL (MEHL, NIACI...   \n",
       "\n",
       "                                                            name  \n",
       "0011210006508  {'de': 'Mc. Ilhenny Co. Avery Island L.A. Taba...  \n",
       "0011210115224  {'de': 'Tabasco Pepper Sauce', 'it': 'Tabasco ...  \n",
       "0012086314018  {'de': 'Joseph Droukin Montagny', 'it': 'Josep...  \n",
       "0014100096986  {'de': 'Chocolate Chunk : Dark Double Chocolat...  \n",
       "0014100096993  {'de': 'Pepperidge farm Cookies aux morceaux d...  "
      ]
     },
     "execution_count": 11,
     "metadata": {},
     "output_type": "execute_result"
    }
   ],
   "source": [
    "ingredients_df.head()"
   ]
  },
  {
   "cell_type": "code",
   "execution_count": 12,
   "metadata": {
    "hidden": true,
    "run_control": {
     "frozen": false,
     "read_only": false
    }
   },
   "outputs": [
    {
     "data": {
      "text/plain": [
       "21580"
      ]
     },
     "execution_count": 12,
     "metadata": {},
     "output_type": "execute_result"
    }
   ],
   "source": [
    "columns_ingri = set(ingredients_df.index.values)\n",
    "len(columns_ingri)"
   ]
  },
  {
   "cell_type": "code",
   "execution_count": 13,
   "metadata": {
    "hidden": true,
    "run_control": {
     "frozen": false,
     "read_only": false
    }
   },
   "outputs": [
    {
     "name": "stdout",
     "output_type": "stream",
     "text": [
      "1\n"
     ]
    }
   ],
   "source": [
    "# Sanity check\n",
    "if(columns_ingri == columns_nutri):\n",
    "    print('1')\n",
    "    columns = list(columns_ingri)"
   ]
  },
  {
   "cell_type": "code",
   "execution_count": 14,
   "metadata": {
    "hidden": true,
    "run_control": {
     "frozen": false,
     "read_only": false
    }
   },
   "outputs": [
    {
     "data": {
      "text/plain": [
       "{'de': 'Weichkäse 92%, Panade (Weizenmehl, Sonnenblumenöl, Speck 0.8 (Nitritpökelsalze: E250, E536, Stabilisatoren: E450, E451, E452, E339, Geschmacksverstärker E621, Antioxidationsmittel E316, Aroma), Zwiebel 0.2%, Gewürze (enthält Sellerie), Kochsalz, modifizierte Weizenstärke, Raucharma). ',\n",
       " 'fr': 'Fromage à pâte molle 92%, panure (farine de blé, huile de tournesol, lard 0.8% (sels nitrités: E250, E536, stabilisants: E450, E451, E452, E339, exhausteur de goût E621, antioxydant E316, arôme), oignon 0.2%, épices (contient du céleri), sel de cuisine, amidon de blé modifié, arôme de fumée). \\r\\n'}"
      ]
     },
     "execution_count": 14,
     "metadata": {},
     "output_type": "execute_result"
    }
   ],
   "source": [
    "ingredients_df['ingredients'][list(columns_ingri)[27]]"
   ]
  },
  {
   "cell_type": "code",
   "execution_count": 15,
   "metadata": {
    "hidden": true,
    "run_control": {
     "frozen": false,
     "read_only": false
    }
   },
   "outputs": [
    {
     "name": "stdout",
     "output_type": "stream",
     "text": [
      "madarchod 4104420045866 Rote Bete* 35%, Sonnenblumenkerne*, Sonnenblumenöl*, Zitronensaft* aus Zitronensaftkonzentrat*, Wasser, Meerrettich* 5%, Rote-Bete-Saftkonzentrat*, Speisesalz, Branntweinessig*, Verdickungsmittel: Guarkernmehl*\r\n",
      "*Aus biologischer Landwirtschaft\n"
     ]
    }
   ],
   "source": [
    "# Test for languages for ingredients\n",
    "for column in columns:\n",
    "    if('fr' in set(ingredients_df['ingredients'][column].keys())):\n",
    "        ing = ingredients_df['ingredients'][column]['fr']\n",
    "    elif(len(list(ingredients_df['ingredients'][column].keys())) != 0):\n",
    "        print('madarchod', column, ingredients_df['ingredients'][column]['de'])\n",
    "        break"
   ]
  },
  {
   "cell_type": "markdown",
   "metadata": {
    "heading_collapsed": true,
    "run_control": {
     "frozen": false,
     "read_only": false
    }
   },
   "source": [
    "# Info"
   ]
  },
  {
   "cell_type": "code",
   "execution_count": 16,
   "metadata": {
    "hidden": true,
    "run_control": {
     "frozen": false,
     "read_only": false
    }
   },
   "outputs": [
    {
     "data": {
      "text/plain": [
       "array(['g', 'mL'], dtype=object)"
      ]
     },
     "execution_count": 16,
     "metadata": {},
     "output_type": "execute_result"
    }
   ],
   "source": [
    "info_df['unit'].unique()"
   ]
  },
  {
   "cell_type": "code",
   "execution_count": 13,
   "metadata": {
    "hidden": true,
    "run_control": {
     "frozen": false,
     "read_only": false
    }
   },
   "outputs": [
    {
     "data": {
      "text/html": [
       "<div>\n",
       "<style scoped>\n",
       "    .dataframe tbody tr th:only-of-type {\n",
       "        vertical-align: middle;\n",
       "    }\n",
       "\n",
       "    .dataframe tbody tr th {\n",
       "        vertical-align: top;\n",
       "    }\n",
       "\n",
       "    .dataframe thead th {\n",
       "        text-align: right;\n",
       "    }\n",
       "</style>\n",
       "<table border=\"1\" class=\"dataframe\">\n",
       "  <thead>\n",
       "    <tr style=\"text-align: right;\">\n",
       "      <th></th>\n",
       "      <th>alcohol</th>\n",
       "      <th>id</th>\n",
       "      <th>name</th>\n",
       "      <th>portion</th>\n",
       "      <th>portion unit</th>\n",
       "      <th>quantity</th>\n",
       "      <th>unit</th>\n",
       "    </tr>\n",
       "  </thead>\n",
       "  <tbody>\n",
       "    <tr>\n",
       "      <th>0011210006508</th>\n",
       "      <td>0</td>\n",
       "      <td>10117</td>\n",
       "      <td>{'de': 'Mc. Ilhenny Co. Avery Island L.A. Taba...</td>\n",
       "      <td>0</td>\n",
       "      <td>g</td>\n",
       "      <td>0</td>\n",
       "      <td>g</td>\n",
       "    </tr>\n",
       "    <tr>\n",
       "      <th>0011210115224</th>\n",
       "      <td>0</td>\n",
       "      <td>4432</td>\n",
       "      <td>{'de': 'Tabasco Pepper Sauce', 'it': 'Tabasco ...</td>\n",
       "      <td>0</td>\n",
       "      <td>g</td>\n",
       "      <td>0</td>\n",
       "      <td>g</td>\n",
       "    </tr>\n",
       "    <tr>\n",
       "      <th>0012086314018</th>\n",
       "      <td>0</td>\n",
       "      <td>9625</td>\n",
       "      <td>{'de': 'Joseph Droukin Montagny', 'it': 'Josep...</td>\n",
       "      <td>0</td>\n",
       "      <td>g</td>\n",
       "      <td>750</td>\n",
       "      <td>mL</td>\n",
       "    </tr>\n",
       "    <tr>\n",
       "      <th>0014100096986</th>\n",
       "      <td>0</td>\n",
       "      <td>2060</td>\n",
       "      <td>{'de': 'Chocolate Chunk : Dark Double Chocolat...</td>\n",
       "      <td>28</td>\n",
       "      <td>g</td>\n",
       "      <td>220</td>\n",
       "      <td>g</td>\n",
       "    </tr>\n",
       "    <tr>\n",
       "      <th>0014100096993</th>\n",
       "      <td>0</td>\n",
       "      <td>3542</td>\n",
       "      <td>{'de': 'Pepperidge farm Cookies aux morceaux d...</td>\n",
       "      <td>26</td>\n",
       "      <td>g</td>\n",
       "      <td>204</td>\n",
       "      <td>g</td>\n",
       "    </tr>\n",
       "  </tbody>\n",
       "</table>\n",
       "</div>"
      ],
      "text/plain": [
       "              alcohol     id  \\\n",
       "0011210006508       0  10117   \n",
       "0011210115224       0   4432   \n",
       "0012086314018       0   9625   \n",
       "0014100096986       0   2060   \n",
       "0014100096993       0   3542   \n",
       "\n",
       "                                                            name portion  \\\n",
       "0011210006508  {'de': 'Mc. Ilhenny Co. Avery Island L.A. Taba...       0   \n",
       "0011210115224  {'de': 'Tabasco Pepper Sauce', 'it': 'Tabasco ...       0   \n",
       "0012086314018  {'de': 'Joseph Droukin Montagny', 'it': 'Josep...       0   \n",
       "0014100096986  {'de': 'Chocolate Chunk : Dark Double Chocolat...      28   \n",
       "0014100096993  {'de': 'Pepperidge farm Cookies aux morceaux d...      26   \n",
       "\n",
       "              portion unit quantity unit  \n",
       "0011210006508            g        0    g  \n",
       "0011210115224            g        0    g  \n",
       "0012086314018            g      750   mL  \n",
       "0014100096986            g      220    g  \n",
       "0014100096993            g      204    g  "
      ]
     },
     "execution_count": 13,
     "metadata": {},
     "output_type": "execute_result"
    }
   ],
   "source": [
    "info_df.head()"
   ]
  },
  {
   "cell_type": "markdown",
   "metadata": {
    "heading_collapsed": true,
    "run_control": {
     "frozen": false,
     "read_only": false
    }
   },
   "source": [
    "# combining all df"
   ]
  },
  {
   "cell_type": "code",
   "execution_count": 17,
   "metadata": {
    "hidden": true,
    "run_control": {
     "frozen": false,
     "read_only": false
    }
   },
   "outputs": [],
   "source": [
    "df1 = nutrients_df[['name', 'nutrients']]\n",
    "df2 = ingredients_df[['ingredients']]\n",
    "df3 = info_df[['alcohol', 'unit']]"
   ]
  },
  {
   "cell_type": "code",
   "execution_count": 18,
   "metadata": {
    "hidden": true,
    "run_control": {
     "frozen": false,
     "read_only": false
    }
   },
   "outputs": [],
   "source": [
    "df_combined = df1.join(df2, how='inner')\n",
    "df_combined = df_combined.join(df3, how='inner')"
   ]
  },
  {
   "cell_type": "code",
   "execution_count": 19,
   "metadata": {
    "hidden": true,
    "run_control": {
     "frozen": false,
     "read_only": false
    }
   },
   "outputs": [
    {
     "data": {
      "text/html": [
       "<div>\n",
       "<style scoped>\n",
       "    .dataframe tbody tr th:only-of-type {\n",
       "        vertical-align: middle;\n",
       "    }\n",
       "\n",
       "    .dataframe tbody tr th {\n",
       "        vertical-align: top;\n",
       "    }\n",
       "\n",
       "    .dataframe thead th {\n",
       "        text-align: right;\n",
       "    }\n",
       "</style>\n",
       "<table border=\"1\" class=\"dataframe\">\n",
       "  <thead>\n",
       "    <tr style=\"text-align: right;\">\n",
       "      <th></th>\n",
       "      <th>name</th>\n",
       "      <th>nutrients</th>\n",
       "      <th>ingredients</th>\n",
       "      <th>alcohol</th>\n",
       "      <th>unit</th>\n",
       "    </tr>\n",
       "  </thead>\n",
       "  <tbody>\n",
       "    <tr>\n",
       "      <th>0011210006508</th>\n",
       "      <td>{'de': 'Mc. Ilhenny Co. Avery Island L.A. Taba...</td>\n",
       "      <td>{}</td>\n",
       "      <td>{'de': 'Weissweinessig, Habanero Chili, Rohrzu...</td>\n",
       "      <td>0</td>\n",
       "      <td>g</td>\n",
       "    </tr>\n",
       "    <tr>\n",
       "      <th>0011210115224</th>\n",
       "      <td>{'de': 'Tabasco Pepper Sauce', 'it': 'Tabasco ...</td>\n",
       "      <td>{}</td>\n",
       "      <td>{'de': 'Branntweinessig, rote Chilischoten, Ko...</td>\n",
       "      <td>0</td>\n",
       "      <td>g</td>\n",
       "    </tr>\n",
       "    <tr>\n",
       "      <th>0012086314018</th>\n",
       "      <td>{'de': 'Joseph Droukin Montagny', 'it': 'Josep...</td>\n",
       "      <td>{}</td>\n",
       "      <td>{'de': 'Sulfite', 'en': 'sulphites'}</td>\n",
       "      <td>0</td>\n",
       "      <td>mL</td>\n",
       "    </tr>\n",
       "    <tr>\n",
       "      <th>0014100096986</th>\n",
       "      <td>{'de': 'Chocolate Chunk : Dark Double Chocolat...</td>\n",
       "      <td>{'energy_kcal': {'per_day': 7.0, 'per_hundred'...</td>\n",
       "      <td>{}</td>\n",
       "      <td>0</td>\n",
       "      <td>g</td>\n",
       "    </tr>\n",
       "    <tr>\n",
       "      <th>0014100096993</th>\n",
       "      <td>{'de': 'Pepperidge farm Cookies aux morceaux d...</td>\n",
       "      <td>{'energy_kcal': {'per_day': 7.0, 'per_hundred'...</td>\n",
       "      <td>{'de': 'ANGEREICHERTES WEIZENMEHL (MEHL, NIACI...</td>\n",
       "      <td>0</td>\n",
       "      <td>g</td>\n",
       "    </tr>\n",
       "  </tbody>\n",
       "</table>\n",
       "</div>"
      ],
      "text/plain": [
       "                                                            name  \\\n",
       "0011210006508  {'de': 'Mc. Ilhenny Co. Avery Island L.A. Taba...   \n",
       "0011210115224  {'de': 'Tabasco Pepper Sauce', 'it': 'Tabasco ...   \n",
       "0012086314018  {'de': 'Joseph Droukin Montagny', 'it': 'Josep...   \n",
       "0014100096986  {'de': 'Chocolate Chunk : Dark Double Chocolat...   \n",
       "0014100096993  {'de': 'Pepperidge farm Cookies aux morceaux d...   \n",
       "\n",
       "                                                       nutrients  \\\n",
       "0011210006508                                                 {}   \n",
       "0011210115224                                                 {}   \n",
       "0012086314018                                                 {}   \n",
       "0014100096986  {'energy_kcal': {'per_day': 7.0, 'per_hundred'...   \n",
       "0014100096993  {'energy_kcal': {'per_day': 7.0, 'per_hundred'...   \n",
       "\n",
       "                                                     ingredients alcohol unit  \n",
       "0011210006508  {'de': 'Weissweinessig, Habanero Chili, Rohrzu...       0    g  \n",
       "0011210115224  {'de': 'Branntweinessig, rote Chilischoten, Ko...       0    g  \n",
       "0012086314018               {'de': 'Sulfite', 'en': 'sulphites'}       0   mL  \n",
       "0014100096986                                                 {}       0    g  \n",
       "0014100096993  {'de': 'ANGEREICHERTES WEIZENMEHL (MEHL, NIACI...       0    g  "
      ]
     },
     "execution_count": 19,
     "metadata": {},
     "output_type": "execute_result"
    }
   ],
   "source": [
    "df_combined.head()"
   ]
  },
  {
   "cell_type": "markdown",
   "metadata": {
    "run_control": {
     "frozen": false,
     "read_only": false
    }
   },
   "source": [
    "# Nutriscore Calculation"
   ]
  },
  {
   "cell_type": "code",
   "execution_count": 24,
   "metadata": {
    "run_control": {
     "frozen": false,
     "read_only": false
    }
   },
   "outputs": [],
   "source": [
    "def build_database():\n",
    "\n",
    "    a = ['apple', 'avocado', 'banana', 'blackberry', 'cherry', 'chestnut', 'clementine', 'coconut', 'date', 'fig', 'guava', 'grape', 'lemon', 'lime', 'mandarin', 'mango', 'melon', 'orange', 'papaya', 'peach', 'pear', 'pineapple', 'plum', 'walnut', 'strawberry', 'watermelon', 'pomme', 'avocat', 'banane', 'cerise', 'clementine', 'noix de coco', 'figue', 'raisin', 'kiwi', 'citron', 'lime', 'mandarine', 'mangue', 'melon', 'orange', 'papaye', 'poire', 'ananas', 'prune', 'framboise', 'noix', 'pamplemousse', 'noisette', 'asparagus', 'bean', 'broccoli', 'cabbage', 'carrot', 'celery', 'chick pea', 'courgette', 'eggplant', 'endive', 'garlic', 'leek', 'lettuce', 'lentils', 'maize', 'mushroom', 'onion', 'pea', 'pepper', 'pumpkin', 'potato', 'spinach', 'tomato', 'soya bean', 'asperge', 'haricot', 'poivron', 'brocoli', 'chou', 'carotte', 'manioc', 'chou fleur', 'celeri', 'chechi', 'courgette', 'aubergine', 'ail', 'lentille', 'mais', 'champignon', 'ortie', 'petit pois', 'piment', 'citrouille', 'courge', 'tomate', 'soja', 'epinard', 'apfel', 'birne', 'kirche', 'melone', 'traube', 'grapefruit', 'nuss', 'erdnuss', 'walnuss', 'kokosnuss', 'kortoffel', 'gurke', 'radieschen', 'erbse', 'linse', 'brokkoli', 'blumenkohl', 'bohne', 'zucchini', 'zwiebel', 'knoblauch', 'chilli', 'petersilie', 'meerrettich', 'sellerie']\n",
    "\n",
    "    return a"
   ]
  },
  {
   "cell_type": "code",
   "execution_count": 25,
   "metadata": {
    "run_control": {
     "frozen": false,
     "read_only": false
    }
   },
   "outputs": [],
   "source": [
    "# from ../nutriscore_calculation/food_db import build_database\n",
    "f_and_v = build_database()"
   ]
  },
  {
   "cell_type": "markdown",
   "metadata": {
    "heading_collapsed": true,
    "run_control": {
     "frozen": false,
     "read_only": false
    }
   },
   "source": [
    "## Part 1"
   ]
  },
  {
   "cell_type": "markdown",
   "metadata": {
    "collapsed": true,
    "heading_collapsed": true,
    "hidden": true,
    "run_control": {
     "frozen": false,
     "read_only": false
    }
   },
   "source": [
    "### Points A"
   ]
  },
  {
   "cell_type": "code",
   "execution_count": 26,
   "metadata": {
    "hidden": true,
    "run_control": {
     "frozen": false,
     "read_only": false
    }
   },
   "outputs": [],
   "source": [
    "def points_A_not_beverages(barcode):\n",
    "    a = b = c = d = 0\n",
    "    nutrients = df_combined['nutrients'][barcode]\n",
    "    nutris_present = set(nutrients.keys())\n",
    "    per = 'per_hundred'\n",
    "    if('energy' in nutris_present):\n",
    "        if(nutrients['energy']['per_hundred'] is None):\n",
    "            per = 'per_portion'\n",
    "            if(nutrients['energy']['per_portion'] <= 335):\n",
    "                a = 0\n",
    "            elif(nutrients['energy']['per_portion'] <= 670):\n",
    "                a = 1\n",
    "            elif(nutrients['energy']['per_portion'] <= 1005):\n",
    "                a = 2\n",
    "            elif(nutrients['energy']['per_portion'] <= 1340):\n",
    "                a = 3\n",
    "            elif(nutrients['energy']['per_portion'] <= 1675):\n",
    "                a = 4\n",
    "            elif(nutrients['energy']['per_portion'] <= 2010):\n",
    "                a = 5\n",
    "            elif(nutrients['energy']['per_portion'] <= 2345):\n",
    "                a = 6\n",
    "            elif(nutrients['energy']['per_portion'] <= 2680):\n",
    "                a = 7\n",
    "            elif(nutrients['energy']['per_portion'] <= 3015):\n",
    "                a = 8\n",
    "            elif(nutrients['energy']['per_portion'] <= 3350):\n",
    "                a = 9\n",
    "            else:\n",
    "                a = 10\n",
    "        else:\n",
    "            if(nutrients['energy']['per_hundred'] <= 335):\n",
    "                a = 0\n",
    "            elif(nutrients['energy']['per_hundred'] <= 670):\n",
    "                a = 1\n",
    "            elif(nutrients['energy']['per_hundred'] <= 1005):\n",
    "                a = 2\n",
    "            elif(nutrients['energy']['per_hundred'] <= 1340):\n",
    "                a = 3\n",
    "            elif(nutrients['energy']['per_hundred'] <= 1675):\n",
    "                a = 4\n",
    "            elif(nutrients['energy']['per_hundred'] <= 2010):\n",
    "                a = 5\n",
    "            elif(nutrients['energy']['per_hundred'] <= 2345):\n",
    "                a = 6\n",
    "            elif(nutrients['energy']['per_hundred'] <= 2680):\n",
    "                a = 7\n",
    "            elif(nutrients['energy']['per_hundred'] <= 3015):\n",
    "                a = 8\n",
    "            elif(nutrients['energy']['per_hundred'] <= 3350):\n",
    "                a = 9\n",
    "            else:\n",
    "                a = 10\n",
    "    else: a = 0\n",
    "    \n",
    "    if('sugars' in nutris_present):\n",
    "        if(nutrients['sugars'][per] <= 4.5):\n",
    "            b = 0\n",
    "        elif(nutrients['sugars'][per] <= 9):\n",
    "            b = 1\n",
    "        elif(nutrients['sugars'][per] <= 13.5):\n",
    "            b = 2\n",
    "        elif(nutrients['sugars'][per] <= 18):\n",
    "            b = 3\n",
    "        elif(nutrients['sugars'][per] <= 22.5):\n",
    "            b = 4\n",
    "        elif(nutrients['sugars'][per] <= 27):\n",
    "            b = 5\n",
    "        elif(nutrients['sugars'][per] <= 31):\n",
    "            b = 6\n",
    "        elif(nutrients['sugars'][per] <= 36):\n",
    "            b = 7\n",
    "        elif(nutrients['sugars'][per] <= 40):\n",
    "            b = 8\n",
    "        elif(nutrients['sugars'][per] <= 45):\n",
    "            b = 9\n",
    "        else:\n",
    "            b = 10\n",
    "    else: b = 0\n",
    "    \n",
    "    if('saturated_fat' in nutris_present):\n",
    "        if(nutrients['saturated_fat'][per] <= 1):\n",
    "            c = 0\n",
    "        elif(nutrients['saturated_fat'][per] <= 2):\n",
    "            c = 1\n",
    "        elif(nutrients['saturated_fat'][per] <= 3):\n",
    "            c = 2\n",
    "        elif(nutrients['saturated_fat'][per] <= 4):\n",
    "            c = 3\n",
    "        elif(nutrients['saturated_fat'][per] <= 5):\n",
    "            c = 4\n",
    "        elif(nutrients['saturated_fat'][per] <= 6):\n",
    "            c = 5\n",
    "        elif(nutrients['saturated_fat'][per] <= 7):\n",
    "            c = 6\n",
    "        elif(nutrients['saturated_fat'][per] <= 8):\n",
    "            c = 7\n",
    "        elif(nutrients['saturated_fat'][per] <= 9):\n",
    "            c = 8\n",
    "        elif(nutrients['saturated_fat'][per] <= 10):\n",
    "            c = 9\n",
    "        else:\n",
    "            c = 10\n",
    "    else: c = 0\n",
    "    \n",
    "    if('sodium' in nutris_present):\n",
    "        if(nutrients['sodium'][per] <= 90):\n",
    "            d = 0\n",
    "        elif(nutrients['sodium'][per] <= 180):\n",
    "            d = 1\n",
    "        elif(nutrients['sodium'][per] <= 270):\n",
    "            d = 2\n",
    "        elif(nutrients['sodium'][per] <= 360):\n",
    "            d = 3\n",
    "        elif(nutrients['sodium'][per] <= 450):\n",
    "            d = 4\n",
    "        elif(nutrients['sodium'][per] <= 540):\n",
    "            d = 5\n",
    "        elif(nutrients['sodium'][per] <= 630):\n",
    "            d = 6\n",
    "        elif(nutrients['sodium'][per] <= 720):\n",
    "            d = 7\n",
    "        elif(nutrients['sodium'][per] <= 810):\n",
    "            d = 8\n",
    "        elif(nutrients['sodium'][per] <= 800):\n",
    "            d = 9\n",
    "        else:\n",
    "            d = 10\n",
    "    else: d = 0\n",
    "    return a, b, c, d\n",
    "\n",
    "\n",
    "def points_A_beverages(barcode):\n",
    "    a = b = c = d = 0\n",
    "    nutrients = df_combined['nutrients'][barcode]\n",
    "    nutris_present = set(nutrients.keys())\n",
    "    per = 'per_hundred'\n",
    "    if('energy' in nutris_present):\n",
    "        if(nutrients['energy']['per_hundred'] is None):\n",
    "            per = 'per_portion'\n",
    "            if(nutrients['energy']['per_portion'] <= 0):\n",
    "                a = 0\n",
    "            elif(nutrients['energy']['per_portion'] <= 30):\n",
    "                a = 1\n",
    "            elif(nutrients['energy']['per_portion'] <= 60):\n",
    "                a = 2\n",
    "            elif(nutrients['energy']['per_portion'] <= 90):\n",
    "                a = 3\n",
    "            elif(nutrients['energy']['per_portion'] <= 120):\n",
    "                a = 4\n",
    "            elif(nutrients['energy']['per_portion'] <= 150):\n",
    "                a = 5\n",
    "            elif(nutrients['energy']['per_portion'] <= 180):\n",
    "                a = 6\n",
    "            elif(nutrients['energy']['per_portion'] <= 210):\n",
    "                a = 7\n",
    "            elif(nutrients['energy']['per_portion'] <= 240):\n",
    "                a = 8\n",
    "            elif(nutrients['energy']['per_portion'] <= 270):\n",
    "                a = 9\n",
    "            else:\n",
    "                a = 10\n",
    "        else:\n",
    "            if(nutrients['energy']['per_hundred'] <= 0):\n",
    "                a = 0\n",
    "            elif(nutrients['energy']['per_hundred'] <= 30):\n",
    "                a = 1\n",
    "            elif(nutrients['energy']['per_hundred'] <= 60):\n",
    "                a = 2\n",
    "            elif(nutrients['energy']['per_hundred'] <= 90):\n",
    "                a = 3\n",
    "            elif(nutrients['energy']['per_hundred'] <= 120):\n",
    "                a = 4\n",
    "            elif(nutrients['energy']['per_hundred'] <= 150):\n",
    "                a = 5\n",
    "            elif(nutrients['energy']['per_hundred'] <= 180):\n",
    "                a = 6\n",
    "            elif(nutrients['energy']['per_hundred'] <= 210):\n",
    "                a = 7\n",
    "            elif(nutrients['energy']['per_hundred'] <= 240):\n",
    "                a = 8\n",
    "            elif(nutrients['energy']['per_hundred'] <= 270):\n",
    "                a = 9\n",
    "            else:\n",
    "                a = 10\n",
    "    else: a = 0\n",
    "    \n",
    "    if('sugars' in nutris_present):\n",
    "        if(nutrients['sugars']['per_hundred'] <= 0):\n",
    "            b = 0\n",
    "        elif(nutrients['sugars']['per_hundred'] <= 1.5):\n",
    "            b = 1\n",
    "        elif(nutrients['sugars']['per_hundred'] <= 3):\n",
    "            b = 2\n",
    "        elif(nutrients['sugars']['per_hundred'] <= 4.5):\n",
    "            b = 3\n",
    "        elif(nutrients['sugars']['per_hundred'] <= 6):\n",
    "            b = 4\n",
    "        elif(nutrients['sugars']['per_hundred'] <= 7.5):\n",
    "            b = 5\n",
    "        elif(nutrients['sugars']['per_hundred'] <= 9):\n",
    "            b = 6\n",
    "        elif(nutrients['sugars']['per_hundred'] <= 10.5):\n",
    "            b = 7\n",
    "        elif(nutrients['sugars']['per_hundred'] <= 12):\n",
    "            b = 8\n",
    "        elif(nutrients['sugars']['per_hundred'] <= 13.5):\n",
    "            b = 9\n",
    "        else:\n",
    "            b = 10\n",
    "    else: b = 0\n",
    "    \n",
    "    if('saturated_fat' in nutris_present):\n",
    "        if(nutrients['saturated_fat']['per_hundred'] <= 10):\n",
    "            c = 0\n",
    "        elif(nutrients['saturated_fat']['per_hundred'] <= 16):\n",
    "            c = 1\n",
    "        elif(nutrients['saturated_fat']['per_hundred'] <= 22):\n",
    "            c = 2\n",
    "        elif(nutrients['saturated_fat']['per_hundred'] <= 28):\n",
    "            c = 3\n",
    "        elif(nutrients['saturated_fat']['per_hundred'] <= 34):\n",
    "            c = 4\n",
    "        elif(nutrients['saturated_fat']['per_hundred'] <= 40):\n",
    "            c = 5\n",
    "        elif(nutrients['saturated_fat']['per_hundred'] <= 46):\n",
    "            c = 6\n",
    "        elif(nutrients['saturated_fat']['per_hundred'] <= 52):\n",
    "            c = 7\n",
    "        elif(nutrients['saturated_fat']['per_hundred'] <= 58):\n",
    "            c = 8\n",
    "        elif(nutrients['saturated_fat']['per_hundred'] <= 64):\n",
    "            c = 9\n",
    "        else:\n",
    "            c = 10\n",
    "    else: c = 0\n",
    "    \n",
    "    if('sodium' in nutris_present):\n",
    "        if(nutrients['sodium']['per_hundred'] <= 90):\n",
    "            d = 0\n",
    "        elif(nutrients['sodium']['per_hundred'] <= 180):\n",
    "            d = 1\n",
    "        elif(nutrients['sodium']['per_hundred'] <= 270):\n",
    "            d = 2\n",
    "        elif(nutrients['sodium']['per_hundred'] <= 360):\n",
    "            d = 3\n",
    "        elif(nutrients['sodium']['per_hundred'] <= 450):\n",
    "            d = 4\n",
    "        elif(nutrients['sodium']['per_hundred'] <= 540):\n",
    "            d = 5\n",
    "        elif(nutrients['sodium']['per_hundred'] <= 630):\n",
    "            d = 6\n",
    "        elif(nutrients['sodium']['per_hundred'] <= 720):\n",
    "            d = 7\n",
    "        elif(nutrients['sodium']['per_hundred'] <= 810):\n",
    "            d = 8\n",
    "        elif(nutrients['sodium']['per_hundred'] <= 800):\n",
    "            d = 9\n",
    "        else:\n",
    "            d = 10\n",
    "    else: d = 0\n",
    "    return a, b, c, d\n",
    "    \n",
    "\n",
    "def calculate_A(barcode):\n",
    "    a = b = c = d = 0\n",
    "    if(df_combined['unit'][barcode] == 'g'):\n",
    "        a, b, c, d = points_A_not_beverages(barcode)\n",
    "    else:\n",
    "        a, b, c, d = points_A_beverages(barcode)\n",
    "    return a + b + c + d\n",
    "        \n",
    "    \n",
    "    \n",
    "    "
   ]
  },
  {
   "cell_type": "markdown",
   "metadata": {
    "heading_collapsed": true,
    "hidden": true,
    "run_control": {
     "frozen": false,
     "read_only": false
    }
   },
   "source": [
    "### Points C"
   ]
  },
  {
   "cell_type": "code",
   "execution_count": 27,
   "metadata": {
    "hidden": true,
    "run_control": {
     "frozen": false,
     "read_only": false
    }
   },
   "outputs": [],
   "source": [
    "def is_fruit_or_vegetable(ingredient):    \n",
    "    for items in f_and_v:\n",
    "        if(ingredient in items):\n",
    "            return True\n",
    "    return False\n",
    "\n",
    "def get_fruit_veggie_proportion(barcode):\n",
    "    languages = set(ingredients_df['ingredients'][column].keys())\n",
    "    \n",
    "    if('fr' in languages):\n",
    "        ingris = ingredients_df['ingredients'][column]['fr']        \n",
    "    elif('de' in languages):\n",
    "        ingris = ingredients_df['ingredients'][column]['de']        \n",
    "    elif('en' in languages):\n",
    "        ingris = ingredients_df['ingredients'][column]['en']\n",
    "    else:\n",
    "        return -1\n",
    "    \n",
    "    lItems = ingris.split(',')\n",
    "    \n",
    "    percent_total = 0\n",
    "    estimate = 50\n",
    "    for l in lItems:\n",
    "        if(is_fruit_or_vegetable(l)):\n",
    "            percentage = re.findall(r'\\d+%', l)\n",
    "            if(len(percentage) == 0):\n",
    "                percent_total = percent_total + estimate\n",
    "            else:\n",
    "                percent_total = percent_total + percentage[0].rstrip('%')  \n",
    "        estimate = estimate/2\n",
    "    return percent_total\n",
    "                \n",
    "def C_non_beverage(barcode):\n",
    "    fruit = get_fruit_veggie_proportion(barcode)\n",
    "    if(fruit == -1): return -1\n",
    "    elif(fruit <= 40): return 0\n",
    "    elif(fruit <= 60): return 1\n",
    "    elif(fruit <= 80): return 2\n",
    "    else: return 5\n",
    "    \n",
    "def C_beverage(barcode):\n",
    "    fruit = get_fruit_veggie_proportion(barcode)\n",
    "    if(fruit == -1): return -1\n",
    "    elif(fruit <= 40): return 0\n",
    "    elif(fruit <= 60): return 2\n",
    "    elif(fruit <= 80): return 4\n",
    "    else: return 10\n",
    "\n",
    "def points_C(barcode):\n",
    "    a = b = c = 0\n",
    "    \n",
    "    nutrients = df_combined['nutrients'][barcode]\n",
    "    nutris_present = set(nutrients.keys())\n",
    "    \n",
    "    ingredients = df_combined['ingredients'][barcode]\n",
    "    languages_present = set(ingredients.keys())\n",
    "    \n",
    "    if('fiber' in nutris_present):\n",
    "        if(nutrients['fiber']['per_hundred'] <= 0.7):\n",
    "            a = 0\n",
    "        elif(nutrients['fiber']['per_hundred'] <= 1.4):\n",
    "            a = 1\n",
    "        elif(nutrients['fiber']['per_hundred'] <= 2.1):\n",
    "            a = 2\n",
    "        elif(nutrients['fiber']['per_hundred'] <= 2.8):\n",
    "            a = 3\n",
    "        elif(nutrients['fiber']['per_hundred'] <= 3.5):\n",
    "            a = 4\n",
    "        else:\n",
    "            a = 5\n",
    "    else: a = 0\n",
    "    \n",
    "    if('protein' in nutris_present):\n",
    "        if(nutrients['protein']['per_hundred'] <= 1.6):\n",
    "            b = 0\n",
    "        elif(nutrients['protein']['per_hundred'] <= 3.2):\n",
    "            b = 1\n",
    "        elif(nutrients['protein']['per_hundred'] <= 4.8):\n",
    "            b = 2\n",
    "        elif(nutrients['protein']['per_hundred'] <= 6.4):\n",
    "            b = 3\n",
    "        elif(nutrients['protein']['per_hundred'] <= 8):\n",
    "            b = 4\n",
    "        else:\n",
    "            b = 5\n",
    "    else: b = 0\n",
    "    \n",
    "    if(df_combined['unit'][barcode] == 'g' and C_non_beverage(barcode) != -1):\n",
    "        a = C_non_beverage(barcode)\n",
    "    elif(C_beverage(barcode) != -1):\n",
    "        a = C_beverage(barcode)\n",
    "        \n",
    "    return a, b, c\n",
    "    \n"
   ]
  },
  {
   "cell_type": "code",
   "execution_count": 28,
   "metadata": {
    "hidden": true,
    "run_control": {
     "frozen": false,
     "read_only": false
    }
   },
   "outputs": [
    {
     "data": {
      "text/plain": [
       "(0, 2, 0)"
      ]
     },
     "execution_count": 28,
     "metadata": {},
     "output_type": "execute_result"
    }
   ],
   "source": [
    "points_C('0014100096986')"
   ]
  },
  {
   "cell_type": "markdown",
   "metadata": {
    "heading_collapsed": true,
    "run_control": {
     "frozen": false,
     "read_only": false
    }
   },
   "source": [
    "## Part 2"
   ]
  },
  {
   "cell_type": "code",
   "execution_count": 29,
   "metadata": {
    "hidden": true,
    "run_control": {
     "frozen": false,
     "read_only": false
    }
   },
   "outputs": [],
   "source": [
    "def break_name(lang, barcode):\n",
    "    return [x.lower() for x in df_combined['name'][barcode][lang].split(' ')]\n",
    "\n",
    "def is_cheese(barcode):    \n",
    "    languages = set(df_combined['name'][barcode].keys())\n",
    "    if('en' in languages):\n",
    "        lang = 'en'\n",
    "        if('cheese' in break_name(lang, barcode) and 'with' not in break_name(lang, barcode)):\n",
    "            return True\n",
    "        else: return False\n",
    "    elif('fr' in languages):\n",
    "        lang = 'fr'\n",
    "        if('fromage' in break_name(lang, barcode) and 'avec' not in break_name(lang, barcode)):\n",
    "            return True\n",
    "        else: return False\n",
    "    elif('de' in languages):\n",
    "        lang = 'de'\n",
    "        if('kase' in break_name(lang, barcode) and 'mit' not in break_name(lang, barcode)):\n",
    "            return True\n",
    "        else: return False"
   ]
  },
  {
   "cell_type": "code",
   "execution_count": 71,
   "metadata": {
    "hidden": true,
    "run_control": {
     "frozen": false,
     "read_only": false
    }
   },
   "outputs": [],
   "source": [
    "nutriscore = {}\n",
    "score = {}\n",
    "\n",
    "for barcode in columns:\n",
    "    try:\n",
    "        int(barcode)\n",
    "    except:\n",
    "        continue\n",
    "    \n",
    "    \n",
    "    try:\n",
    "        A = calculate_A(barcode)\n",
    "        fruit, fiber, protein = points_C(barcode)\n",
    "\n",
    "        if(A < 11 or is_cheese(barcode)):\n",
    "            score[barcode] = A - (fruit + fiber + protein)\n",
    "        elif(fruit >= 5):\n",
    "            score[barcode] = A - (fruit + fiber + protein)\n",
    "        else:\n",
    "            score[barcode] = A - (fiber + fruit)\n",
    "#         print(barcode, '')\n",
    "    except:\n",
    "        score[barcode] = -100\n",
    "    \n",
    "    if(score[barcode] > -99 and score[barcode] < -1):\n",
    "        nutriscore[barcode] = \"A\"\n",
    "    elif(score[barcode] >= 0 and score[barcode] <=2):\n",
    "        nutriscore[barcode] = \"B\"\n",
    "    elif(score[barcode] >= 3 and score[barcode] <= 10):\n",
    "        nutriscore[barcode] = \"C\"\n",
    "    elif(score[barcode] >= 11 and score[barcode] <= 18):\n",
    "        nutriscore[barcode] = \"D\"\n",
    "    elif(score[barcode] > 18):\n",
    "        nutriscore[barcode] = \"E\"\n",
    "        \n"
   ]
  },
  {
   "cell_type": "code",
   "execution_count": 72,
   "metadata": {
    "hidden": true,
    "run_control": {
     "frozen": false,
     "read_only": false
    }
   },
   "outputs": [
    {
     "data": {
      "text/plain": [
       "'D'"
      ]
     },
     "execution_count": 72,
     "metadata": {},
     "output_type": "execute_result"
    }
   ],
   "source": [
    "nutriscore['20034184']"
   ]
  },
  {
   "cell_type": "markdown",
   "metadata": {
    "heading_collapsed": true,
    "run_control": {
     "frozen": false,
     "read_only": false
    }
   },
   "source": [
    "## saving nutriscore\\score"
   ]
  },
  {
   "cell_type": "code",
   "execution_count": null,
   "metadata": {
    "hidden": true,
    "run_control": {
     "frozen": false,
     "read_only": false
    }
   },
   "outputs": [],
   "source": [
    "import json\n",
    "\n",
    "with open('kirtan_nutriscore.json', 'w') as fp:\n",
    "    json.dump(nutriscore, fp)\n",
    "\n",
    "with open('kirtan_score.json', 'w') as fp:\n",
    "    json.dump(score, fp)"
   ]
  },
  {
   "cell_type": "markdown",
   "metadata": {
    "run_control": {
     "frozen": false,
     "read_only": false
    }
   },
   "source": [
    "# Statistics"
   ]
  },
  {
   "cell_type": "code",
   "execution_count": 75,
   "metadata": {
    "run_control": {
     "frozen": false,
     "read_only": false
    }
   },
   "outputs": [],
   "source": [
    "# turn dict to pd series - easier to plot\n",
    "nutriscore = pd.Series(nutriscore)\n",
    "\n",
    "score = pd.Series(score)"
   ]
  },
  {
   "cell_type": "code",
   "execution_count": 38,
   "metadata": {
    "run_control": {
     "frozen": false,
     "read_only": false
    }
   },
   "outputs": [],
   "source": [
    "import matplotlib.pyplot as plt\n",
    "from mpl_toolkits.mplot3d import Axes3D\n",
    "%matplotlib inline\n",
    "\n",
    "%config InlineBackend.figure_format = 'retina'"
   ]
  },
  {
   "cell_type": "markdown",
   "metadata": {
    "run_control": {
     "frozen": false,
     "read_only": false
    }
   },
   "source": [
    "## score stats"
   ]
  },
  {
   "cell_type": "code",
   "execution_count": 76,
   "metadata": {
    "cell_style": "split",
    "run_control": {
     "frozen": false,
     "read_only": false
    }
   },
   "outputs": [
    {
     "data": {
      "image/png": "[encoded data removed]",
      "text/plain": [
       "<matplotlib.figure.Figure at 0x11f55a630>"
      ]
     },
     "metadata": {
      "image/png": {
       "height": 250,
       "width": 390
      }
     },
     "output_type": "display_data"
    }
   ],
   "source": [
    "plt.hist(score);"
   ]
  },
  {
   "cell_type": "code",
   "execution_count": 77,
   "metadata": {
    "cell_style": "split",
    "run_control": {
     "frozen": false,
     "read_only": false
    }
   },
   "outputs": [
    {
     "data": {
      "image/png": "[encoded data removed]",
      "text/plain": [
       "<matplotlib.figure.Figure at 0x118be8080>"
      ]
     },
     "metadata": {
      "image/png": {
       "height": 250,
       "width": 383
      }
     },
     "output_type": "display_data"
    }
   ],
   "source": [
    "plt.hist(score[score > -20]);"
   ]
  },
  {
   "cell_type": "code",
   "execution_count": 79,
   "metadata": {
    "run_control": {
     "frozen": false,
     "read_only": false
    }
   },
   "outputs": [
    {
     "data": {
      "text/plain": [
       "-100    226\n",
       "dtype: int64"
      ]
     },
     "execution_count": 79,
     "metadata": {},
     "output_type": "execute_result"
    }
   ],
   "source": [
    "score[score < -20].value_counts()"
   ]
  },
  {
   "cell_type": "markdown",
   "metadata": {
    "run_control": {
     "frozen": false,
     "read_only": false
    }
   },
   "source": [
    "## nutri-score stats"
   ]
  },
  {
   "cell_type": "code",
   "execution_count": 84,
   "metadata": {
    "run_control": {
     "frozen": false,
     "read_only": false
    }
   },
   "outputs": [
    {
     "data": {
      "image/png": "[encoded data removed]",
      "text/plain": [
       "<matplotlib.figure.Figure at 0x11ff76b70>"
      ]
     },
     "metadata": {
      "image/png": {
       "height": 250,
       "width": 383
      }
     },
     "output_type": "display_data"
    }
   ],
   "source": [
    "nutriscore.hist();"
   ]
  }
 ],
 "metadata": {
  "kernelspec": {
   "display_name": "Python 3",
   "language": "python",
   "name": "python3"
  },
  "language_info": {
   "codemirror_mode": {
    "name": "ipython",
    "version": 3
   },
   "file_extension": ".py",
   "mimetype": "text/x-python",
   "name": "python",
   "nbconvert_exporter": "python",
   "pygments_lexer": "ipython3",
   "version": "3.6.0"
  },
  "toc": {
   "colors": {
    "hover_highlight": "#DAA520",
    "running_highlight": "#FF0000",
    "selected_highlight": "#FFD700"
   },
   "moveMenuLeft": true,
   "nav_menu": {
    "height": "153px",
    "width": "252px"
   },
   "navigate_menu": true,
   "number_sections": false,
   "sideBar": false,
   "threshold": 4,
   "toc_cell": true,
   "toc_position": {
    "height": "278px",
    "left": "890px",
    "right": "99.5999984741211px",
    "top": "52px",
    "width": "162px"
   },
   "toc_section_display": "block",
   "toc_window_display": true
  }
 },
 "nbformat": 4,
 "nbformat_minor": 2
}
