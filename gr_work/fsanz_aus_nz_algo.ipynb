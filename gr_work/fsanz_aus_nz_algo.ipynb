{
 "cells": [
  {
   "cell_type": "markdown",
   "metadata": {
    "run_control": {
     "frozen": false,
     "read_only": false
    },
    "toc": "true"
   },
   "source": [
    "# Table of Contents\n",
    " <p><div class=\"lev1 toc-item\"><a href=\"#Loading-the-dataset\" data-toc-modified-id=\"Loading-the-dataset-1\"><span class=\"toc-item-num\">1&nbsp;&nbsp;</span>Loading the dataset</a></div><div class=\"lev1 toc-item\"><a href=\"#NPSC-implementation\" data-toc-modified-id=\"NPSC-implementation-2\"><span class=\"toc-item-num\">2&nbsp;&nbsp;</span>NPSC implementation</a></div><div class=\"lev2 toc-item\"><a href=\"#npsc-categories-definition\" data-toc-modified-id=\"npsc-categories-definition-21\"><span class=\"toc-item-num\">2.1&nbsp;&nbsp;</span>npsc categories definition</a></div><div class=\"lev3 toc-item\"><a href=\"#drinks---cat-1\" data-toc-modified-id=\"drinks---cat-1-211\"><span class=\"toc-item-num\">2.1.1&nbsp;&nbsp;</span>drinks - cat 1</a></div><div class=\"lev3 toc-item\"><a href=\"#others---cat-2\" data-toc-modified-id=\"others---cat-2-212\"><span class=\"toc-item-num\">2.1.2&nbsp;&nbsp;</span>others - cat 2</a></div><div class=\"lev3 toc-item\"><a href=\"#oil\\butter\\margarine---cat-3\" data-toc-modified-id=\"oil\\butter\\margarine---cat-3-213\"><span class=\"toc-item-num\">2.1.3&nbsp;&nbsp;</span>oil\\butter\\margarine - cat 3</a></div><div class=\"lev3 toc-item\"><a href=\"#special-cheese---cat-3\" data-toc-modified-id=\"special-cheese---cat-3-214\"><span class=\"toc-item-num\">2.1.4&nbsp;&nbsp;</span>special cheese - cat 3</a></div><div class=\"lev4 toc-item\"><a href=\"#spot-outliers-in-calcium\" data-toc-modified-id=\"spot-outliers-in-calcium-2141\"><span class=\"toc-item-num\">2.1.4.1&nbsp;&nbsp;</span>spot outliers in calcium</a></div><div class=\"lev4 toc-item\"><a href=\"#find-right-items\" data-toc-modified-id=\"find-right-items-2142\"><span class=\"toc-item-num\">2.1.4.2&nbsp;&nbsp;</span>find right items</a></div><div class=\"lev2 toc-item\"><a href=\"#summary-of-categories-assignment\" data-toc-modified-id=\"summary-of-categories-assignment-22\"><span class=\"toc-item-num\">2.2&nbsp;&nbsp;</span>summary of categories assignment</a></div><div class=\"lev2 toc-item\"><a href=\"#baseline-points\" data-toc-modified-id=\"baseline-points-23\"><span class=\"toc-item-num\">2.3&nbsp;&nbsp;</span>baseline points</a></div><div class=\"lev2 toc-item\"><a href=\"#fruit-and-veg.-points---TO-BE-IMPROVED\" data-toc-modified-id=\"fruit-and-veg.-points---TO-BE-IMPROVED-24\"><span class=\"toc-item-num\">2.4&nbsp;&nbsp;</span>fruit and veg. points - TO BE IMPROVED</a></div><div class=\"lev3 toc-item\"><a href=\"#rules\" data-toc-modified-id=\"rules-241\"><span class=\"toc-item-num\">2.4.1&nbsp;&nbsp;</span>rules</a></div><div class=\"lev3 toc-item\"><a href=\"#parse-info---STILL-MISSING-NON-CONC\" data-toc-modified-id=\"parse-info---STILL-MISSING-NON-CONC-242\"><span class=\"toc-item-num\">2.4.2&nbsp;&nbsp;</span>parse info - STILL MISSING NON-CONC</a></div><div class=\"lev3 toc-item\"><a href=\"#v-points-computation\" data-toc-modified-id=\"v-points-computation-243\"><span class=\"toc-item-num\">2.4.3&nbsp;&nbsp;</span>v-points computation</a></div><div class=\"lev2 toc-item\"><a href=\"#proteins-points\" data-toc-modified-id=\"proteins-points-25\"><span class=\"toc-item-num\">2.5&nbsp;&nbsp;</span>proteins points</a></div><div class=\"lev2 toc-item\"><a href=\"#fiber-points\" data-toc-modified-id=\"fiber-points-26\"><span class=\"toc-item-num\">2.6&nbsp;&nbsp;</span>fiber points</a></div><div class=\"lev3 toc-item\"><a href=\"#spot-Fiber-outliers\" data-toc-modified-id=\"spot-Fiber-outliers-261\"><span class=\"toc-item-num\">2.6.1&nbsp;&nbsp;</span>spot Fiber outliers</a></div><div class=\"lev2 toc-item\"><a href=\"#final-npsc-score\" data-toc-modified-id=\"final-npsc-score-27\"><span class=\"toc-item-num\">2.7&nbsp;&nbsp;</span>final npsc score</a></div><div class=\"lev2 toc-item\"><a href=\"#final-npsc--criterion\" data-toc-modified-id=\"final-npsc--criterion-28\"><span class=\"toc-item-num\">2.8&nbsp;&nbsp;</span>final npsc  criterion</a></div><div class=\"lev2 toc-item\"><a href=\"#save-all-work-in-the-dataframe\" data-toc-modified-id=\"save-all-work-in-the-dataframe-29\"><span class=\"toc-item-num\">2.9&nbsp;&nbsp;</span>save all work in the dataframe</a></div><div class=\"lev1 toc-item\"><a href=\"#Statistics\" data-toc-modified-id=\"Statistics-3\"><span class=\"toc-item-num\">3&nbsp;&nbsp;</span>Statistics</a></div><div class=\"lev1 toc-item\"><a href=\"#OTHER-CODE\" data-toc-modified-id=\"OTHER-CODE-4\"><span class=\"toc-item-num\">4&nbsp;&nbsp;</span>OTHER CODE</a></div>"
   ]
  },
  {
   "cell_type": "code",
   "execution_count": 1,
   "metadata": {
    "run_control": {
     "frozen": false,
     "read_only": false
    }
   },
   "outputs": [],
   "source": [
    "#  generic packages \n",
    "import pandas as pd\n",
    "import numpy as np\n",
    "import gc \n",
    "# plotting packages\n",
    "import matplotlib.pyplot as plt\n",
    "from mpl_toolkits.mplot3d import Axes3D\n",
    "%matplotlib inline\n",
    "\n",
    "import seaborn as sns\n",
    "sns.set_context('notebook')\n",
    "%config InlineBackend.figure_format = 'retina'\n",
    "\n",
    "# interacting plotting\n",
    "# from bokeh.plotting import figure, output_file, show\n",
    "\n",
    "# packages for stats\n",
    "from scipy import stats\n",
    "import powerlaw\n",
    "import itertools as itt"
   ]
  },
  {
   "cell_type": "markdown",
   "metadata": {
    "run_control": {
     "frozen": false,
     "read_only": false
    }
   },
   "source": [
    "# Loading the dataset"
   ]
  },
  {
   "cell_type": "code",
   "execution_count": 145,
   "metadata": {
    "run_control": {
     "frozen": false,
     "read_only": false
    }
   },
   "outputs": [],
   "source": [
    "food_df = pd.read_csv('nutr_&_categ.csv')"
   ]
  },
  {
   "cell_type": "markdown",
   "metadata": {
    "run_control": {
     "frozen": false,
     "read_only": false
    }
   },
   "source": [
    "remove legacy index cols"
   ]
  },
  {
   "cell_type": "code",
   "execution_count": 146,
   "metadata": {
    "run_control": {
     "frozen": false,
     "read_only": false
    }
   },
   "outputs": [],
   "source": [
    "food_df.drop(['Unnamed: 0', 'Unnamed: 0.1'],inplace=True,axis=1)"
   ]
  },
  {
   "cell_type": "markdown",
   "metadata": {
    "heading_collapsed": true,
    "run_control": {
     "frozen": false,
     "read_only": false
    }
   },
   "source": [
    "# NPSC implementation"
   ]
  },
  {
   "cell_type": "markdown",
   "metadata": {
    "hidden": true,
    "run_control": {
     "frozen": false,
     "read_only": false
    }
   },
   "source": [
    " step=by-step explanation of the [AUS/NZ system](http://www.foodstandards.gov.au/industry/labelling/Documents/Short-guide-for-industry-to-the-NPSC.pdf) - see nice diagram on page 6\n",
    "\n",
    "for the calculation of the different points, see [these tables](https://www.legislation.gov.au/Details/F2017C00719)\n",
    "( NPSC = Nutrient Profiling Scoring Criterion)"
   ]
  },
  {
   "cell_type": "markdown",
   "metadata": {
    "heading_collapsed": true,
    "hidden": true,
    "run_control": {
     "frozen": false,
     "read_only": false
    }
   },
   "source": [
    "## npsc categories definition"
   ]
  },
  {
   "cell_type": "markdown",
   "metadata": {
    "cell_style": "center",
    "hidden": true,
    "run_control": {
     "frozen": false,
     "read_only": false
    }
   },
   "source": [
    "there are 3 main super-categories: \n",
    "\n",
    "- drinks (CAT 1) --> `drink`\n",
    "- cheese or processed cheese with >320mg calcium/100g; edible oil, edible oil spread; margarine\n",
    "or butter (CAT 2) --> `edible_fats`\n",
    "- all the rest (CAT 3)"
   ]
  },
  {
   "cell_type": "markdown",
   "metadata": {
    "hidden": true,
    "run_control": {
     "frozen": false,
     "read_only": false
    }
   },
   "source": [
    "we simply initialize this category with the ones from nutri-score"
   ]
  },
  {
   "cell_type": "code",
   "execution_count": 148,
   "metadata": {
    "hidden": true,
    "run_control": {
     "frozen": false,
     "read_only": false
    }
   },
   "outputs": [
    {
     "data": {
      "text/plain": [
       "solid    18293\n",
       "drink     2834\n",
       "Name: npsc_cat, dtype: int64"
      ]
     },
     "execution_count": 148,
     "metadata": {},
     "output_type": "execute_result"
    }
   ],
   "source": [
    "food_df['npsc_cat'] = food_df.ns_category\n",
    "\n",
    "food_df.npsc_cat.value_counts()"
   ]
  },
  {
   "cell_type": "markdown",
   "metadata": {
    "heading_collapsed": true,
    "hidden": true,
    "run_control": {
     "frozen": false,
     "read_only": false
    }
   },
   "source": [
    "### drinks - cat 1"
   ]
  },
  {
   "cell_type": "markdown",
   "metadata": {
    "hidden": true,
    "run_control": {
     "frozen": false,
     "read_only": false
    }
   },
   "source": [
    "this category was already assigned in the  `nutriscore_&_diets_analysis` notebook\n",
    "\n",
    "drinks have all `ml` unit - vic. is not true as we excluded soups and sauces -- hereby double checked"
   ]
  },
  {
   "cell_type": "code",
   "execution_count": 149,
   "metadata": {
    "hidden": true,
    "run_control": {
     "frozen": false,
     "read_only": false
    }
   },
   "outputs": [
    {
     "data": {
      "text/plain": [
       "0"
      ]
     },
     "execution_count": 149,
     "metadata": {},
     "output_type": "execute_result"
    }
   ],
   "source": [
    "sum(food_df.unit[food_df.ns_category=='drink']!='ml')"
   ]
  },
  {
   "cell_type": "markdown",
   "metadata": {
    "hidden": true,
    "run_control": {
     "frozen": false,
     "read_only": false
    }
   },
   "source": [
    "check distribution of sizes to spot eventual outliers"
   ]
  },
  {
   "cell_type": "code",
   "execution_count": 7,
   "metadata": {
    "hidden": true,
    "run_control": {
     "frozen": false,
     "read_only": false
    }
   },
   "outputs": [
    {
     "data": {
      "text/plain": [
       "(-1, 10)"
      ]
     },
     "execution_count": 7,
     "metadata": {},
     "output_type": "execute_result"
    },
    {
     "data": {
      "image/png": "[encoded data removed]",
      "text/plain": [
       "<matplotlib.figure.Figure at 0x117a4a550>"
      ]
     },
     "metadata": {
      "image/png": {
       "height": 275,
       "width": 388
      }
     },
     "output_type": "display_data"
    }
   ],
   "source": [
    "food_df.quantity[food_df.ns_category=='drink'].plot.hist(bins=100)\n",
    "\n",
    "plt.xlabel('quantity (ml)',size=16)\n",
    "\n",
    "plt.ylim([-1,10])"
   ]
  },
  {
   "cell_type": "code",
   "execution_count": 7,
   "metadata": {
    "hidden": true,
    "run_control": {
     "frozen": false,
     "read_only": false
    }
   },
   "outputs": [
    {
     "data": {
      "text/html": [
       "<div>\n",
       "<style scoped>\n",
       "    .dataframe tbody tr th:only-of-type {\n",
       "        vertical-align: middle;\n",
       "    }\n",
       "\n",
       "    .dataframe tbody tr th {\n",
       "        vertical-align: top;\n",
       "    }\n",
       "\n",
       "    .dataframe thead th {\n",
       "        text-align: right;\n",
       "    }\n",
       "</style>\n",
       "<table border=\"1\" class=\"dataframe\">\n",
       "  <thead>\n",
       "    <tr style=\"text-align: right;\">\n",
       "      <th></th>\n",
       "      <th>barcode</th>\n",
       "      <th>name</th>\n",
       "    </tr>\n",
       "  </thead>\n",
       "  <tbody>\n",
       "    <tr>\n",
       "      <th>12626</th>\n",
       "      <td>7610124206306</td>\n",
       "      <td>NaN</td>\n",
       "    </tr>\n",
       "    <tr>\n",
       "      <th>13822</th>\n",
       "      <td>7610057312662</td>\n",
       "      <td>NaN</td>\n",
       "    </tr>\n",
       "    <tr>\n",
       "      <th>17786</th>\n",
       "      <td>76119019</td>\n",
       "      <td>Lipton lemon ice tea</td>\n",
       "    </tr>\n",
       "    <tr>\n",
       "      <th>20533</th>\n",
       "      <td>3502110006790</td>\n",
       "      <td>Format Familial Tropicana pure Premnuim Orange...</td>\n",
       "    </tr>\n",
       "  </tbody>\n",
       "</table>\n",
       "</div>"
      ],
      "text/plain": [
       "             barcode                                               name\n",
       "12626  7610124206306                                                NaN\n",
       "13822  7610057312662                                                NaN\n",
       "17786       76119019                               Lipton lemon ice tea\n",
       "20533  3502110006790  Format Familial Tropicana pure Premnuim Orange..."
      ]
     },
     "execution_count": 7,
     "metadata": {},
     "output_type": "execute_result"
    }
   ],
   "source": [
    "food_df.loc[(food_df.unit=='ml') & (food_df.quantity>5000),['barcode','name']]"
   ]
  },
  {
   "cell_type": "markdown",
   "metadata": {
    "hidden": true,
    "run_control": {
     "frozen": false,
     "read_only": false
    }
   },
   "source": [
    "only last two are actually errors - now fixed in the FR db \n",
    "\n",
    "(the others refer to the quantity of the _barcoded product_ , which can be e.g a package of 6 bottles - 6 * 1.5 L = 9000 mL)"
   ]
  },
  {
   "cell_type": "markdown",
   "metadata": {
    "hidden": true,
    "run_control": {
     "frozen": false,
     "read_only": false
    }
   },
   "source": [
    "assign `cat_1` to drinks"
   ]
  },
  {
   "cell_type": "code",
   "execution_count": 150,
   "metadata": {
    "hidden": true,
    "run_control": {
     "frozen": false,
     "read_only": false
    }
   },
   "outputs": [
    {
     "name": "stderr",
     "output_type": "stream",
     "text": [
      "/Library/Frameworks/Python.framework/Versions/3.6/lib/python3.6/site-packages/ipykernel/__main__.py:1: SettingWithCopyWarning: \n",
      "A value is trying to be set on a copy of a slice from a DataFrame\n",
      "\n",
      "See the caveats in the documentation: http://pandas.pydata.org/pandas-docs/stable/indexing.html#indexing-view-versus-copy\n",
      "  if __name__ == '__main__':\n"
     ]
    }
   ],
   "source": [
    "food_df.npsc_cat[food_df.npsc_cat=='drink'] = 'cat_1'"
   ]
  },
  {
   "cell_type": "markdown",
   "metadata": {
    "heading_collapsed": true,
    "hidden": true,
    "run_control": {
     "frozen": false,
     "read_only": false
    }
   },
   "source": [
    "### others - cat 2"
   ]
  },
  {
   "cell_type": "code",
   "execution_count": 151,
   "metadata": {
    "hidden": true,
    "run_control": {
     "frozen": false,
     "read_only": false
    }
   },
   "outputs": [
    {
     "name": "stderr",
     "output_type": "stream",
     "text": [
      "/Library/Frameworks/Python.framework/Versions/3.6/lib/python3.6/site-packages/ipykernel/__main__.py:1: SettingWithCopyWarning: \n",
      "A value is trying to be set on a copy of a slice from a DataFrame\n",
      "\n",
      "See the caveats in the documentation: http://pandas.pydata.org/pandas-docs/stable/indexing.html#indexing-view-versus-copy\n",
      "  if __name__ == '__main__':\n"
     ]
    }
   ],
   "source": [
    "food_df.npsc_cat[food_df.npsc_cat=='solid'] = 'cat_2'"
   ]
  },
  {
   "cell_type": "markdown",
   "metadata": {
    "heading_collapsed": true,
    "hidden": true,
    "run_control": {
     "frozen": false,
     "read_only": false
    }
   },
   "source": [
    "### oil\\butter\\margarine - cat 3"
   ]
  },
  {
   "cell_type": "code",
   "execution_count": 152,
   "metadata": {
    "hidden": true,
    "run_control": {
     "frozen": false,
     "read_only": false
    }
   },
   "outputs": [],
   "source": [
    "fats_list = [' beurre ',' burro ',' butter ',\n",
    "               ' huile ',' olio ',' Öl ',\n",
    "               ' margarine ',' margarina '] # german == french\n",
    "\n",
    "not_fats = ['walkers','biscuit','choco','schoko','tresse','pandoro','chicken','milk','pomodori',\n",
    "           'popcorn','crisp','chips','brioche','funghi','ficelle','amande','pastetli','fudge','sabl',\n",
    "           'cuchaule','aubergine','tartuf','cook','waffle','salmone','ice cream','pesto',\n",
    "           'fluette','flute','tengeli','petit','caramel','carciof','toast','madeleine']"
   ]
  },
  {
   "cell_type": "code",
   "execution_count": 153,
   "metadata": {
    "hidden": true,
    "run_control": {
     "frozen": false,
     "read_only": false
    }
   },
   "outputs": [
    {
     "name": "stderr",
     "output_type": "stream",
     "text": [
      "/Library/Frameworks/Python.framework/Versions/3.6/lib/python3.6/site-packages/ipykernel/__main__.py:8: SettingWithCopyWarning: \n",
      "A value is trying to be set on a copy of a slice from a DataFrame\n",
      "\n",
      "See the caveats in the documentation: http://pandas.pydata.org/pandas-docs/stable/indexing.html#indexing-view-versus-copy\n"
     ]
    }
   ],
   "source": [
    "for row in food_df.itertuples():\n",
    "    \n",
    "    if type(row.name) == str:           \n",
    "        if (any(trans in row.name.lower() for trans in fats_list)) and\\\n",
    "        (not any(bad in row.name.lower() for bad in not_fats)):\n",
    "                \n",
    "#                 print(row.name) #just a ckeck...\n",
    "\n",
    "            food_df.npsc_cat[row.Index] = 'cat_3'"
   ]
  },
  {
   "cell_type": "code",
   "execution_count": 154,
   "metadata": {
    "hidden": true
   },
   "outputs": [
    {
     "data": {
      "text/plain": [
       "0"
      ]
     },
     "execution_count": 154,
     "metadata": {},
     "output_type": "execute_result"
    }
   ],
   "source": [
    "#  cleaning useless vars\n",
    "del not_fats\n",
    "gc.collect()"
   ]
  },
  {
   "cell_type": "markdown",
   "metadata": {
    "heading_collapsed": true,
    "hidden": true,
    "run_control": {
     "frozen": false,
     "read_only": false
    }
   },
   "source": [
    "### special cheese - cat 3"
   ]
  },
  {
   "cell_type": "markdown",
   "metadata": {
    "hidden": true,
    "run_control": {
     "frozen": false,
     "read_only": false
    }
   },
   "source": [
    "according to [NPSC guidelines](http://www.foodstandards.gov.au/industry/labelling/Documents/Short-guide-for-industry-to-the-NPSC.pdf), \n",
    "cheese with __more than 320 mg of calcium__ goes in the same category of other fat products"
   ]
  },
  {
   "cell_type": "code",
   "execution_count": 11,
   "metadata": {
    "hidden": true,
    "run_control": {
     "frozen": false,
     "read_only": false
    }
   },
   "outputs": [
    {
     "data": {
      "text/plain": [
       "110"
      ]
     },
     "execution_count": 11,
     "metadata": {},
     "output_type": "execute_result"
    }
   ],
   "source": [
    "# total N of products with clacium > 320 mg / 100g\n",
    "sum(food_df.Calcium>320)"
   ]
  },
  {
   "cell_type": "markdown",
   "metadata": {
    "cell_style": "center",
    "heading_collapsed": true,
    "hidden": true,
    "run_control": {
     "frozen": false,
     "read_only": false
    }
   },
   "source": [
    "#### spot outliers in calcium"
   ]
  },
  {
   "cell_type": "code",
   "execution_count": 14,
   "metadata": {
    "cell_style": "split",
    "hidden": true,
    "run_control": {
     "frozen": false,
     "read_only": false
    }
   },
   "outputs": [
    {
     "data": {
      "image/png": "[encoded data removed]",
      "text/plain": [
       "<matplotlib.figure.Figure at 0x106dc0b38>"
      ]
     },
     "metadata": {
      "image/png": {
       "height": 275,
       "width": 388
      }
     },
     "output_type": "display_data"
    }
   ],
   "source": [
    "food_df.Calcium.plot.hist(bins=100)\n",
    "\n",
    "\n",
    "plt.xlabel('Ca - mg',size=16)\n",
    "plt.ylim([-1,10]);"
   ]
  },
  {
   "cell_type": "code",
   "execution_count": 15,
   "metadata": {
    "cell_style": "split",
    "hidden": true,
    "run_control": {
     "frozen": false,
     "read_only": false
    }
   },
   "outputs": [
    {
     "data": {
      "image/png": "[encoded data removed]",
      "text/plain": [
       "<matplotlib.figure.Figure at 0x108db5dd8>"
      ]
     },
     "metadata": {
      "image/png": {
       "height": 275,
       "width": 388
      }
     },
     "output_type": "display_data"
    }
   ],
   "source": [
    "food_df.Calcium[ (food_df.Calcium < 2000)].plot.hist(bins=50)\n",
    "\n",
    "plt.xlabel('Ca - mg',size=16)\n",
    "plt.ylim([-1,10]);"
   ]
  },
  {
   "cell_type": "markdown",
   "metadata": {
    "hidden": true,
    "run_control": {
     "frozen": false,
     "read_only": false
    }
   },
   "source": [
    "1000 mg seems to be a interesting threshold..."
   ]
  },
  {
   "cell_type": "code",
   "execution_count": 16,
   "metadata": {
    "hidden": true,
    "run_control": {
     "frozen": false,
     "read_only": false
    }
   },
   "outputs": [
    {
     "data": {
      "text/html": [
       "<div>\n",
       "<style scoped>\n",
       "    .dataframe tbody tr th:only-of-type {\n",
       "        vertical-align: middle;\n",
       "    }\n",
       "\n",
       "    .dataframe tbody tr th {\n",
       "        vertical-align: top;\n",
       "    }\n",
       "\n",
       "    .dataframe thead th {\n",
       "        text-align: right;\n",
       "    }\n",
       "</style>\n",
       "<table border=\"1\" class=\"dataframe\">\n",
       "  <thead>\n",
       "    <tr style=\"text-align: right;\">\n",
       "      <th></th>\n",
       "      <th>Calcium</th>\n",
       "      <th>name</th>\n",
       "      <th>barcode</th>\n",
       "    </tr>\n",
       "  </thead>\n",
       "  <tbody>\n",
       "    <tr>\n",
       "      <th>2325</th>\n",
       "      <td>1106.0</td>\n",
       "      <td>NaN</td>\n",
       "      <td>3387390406719</td>\n",
       "    </tr>\n",
       "    <tr>\n",
       "      <th>2407</th>\n",
       "      <td>1200.0</td>\n",
       "      <td>Actilife Vitalzin</td>\n",
       "      <td>7610121600510</td>\n",
       "    </tr>\n",
       "    <tr>\n",
       "      <th>11299</th>\n",
       "      <td>1100.0</td>\n",
       "      <td>Sponser Sport Food Fit&amp;Well Lady Protein</td>\n",
       "      <td>7611174610327</td>\n",
       "    </tr>\n",
       "    <tr>\n",
       "      <th>11661</th>\n",
       "      <td>1200.0</td>\n",
       "      <td>Actilife Vitalzin</td>\n",
       "      <td>7613269185970</td>\n",
       "    </tr>\n",
       "    <tr>\n",
       "      <th>12524</th>\n",
       "      <td>2665.0</td>\n",
       "      <td>Jemalt</td>\n",
       "      <td>7612100055694</td>\n",
       "    </tr>\n",
       "    <tr>\n",
       "      <th>14150</th>\n",
       "      <td>1600.0</td>\n",
       "      <td>Migros Fit Control Ergänzung Low Carb Proteind...</td>\n",
       "      <td>7613269303879</td>\n",
       "    </tr>\n",
       "    <tr>\n",
       "      <th>14317</th>\n",
       "      <td>1030.0</td>\n",
       "      <td>Leerdammer Lightlife</td>\n",
       "      <td>8721800021294</td>\n",
       "    </tr>\n",
       "    <tr>\n",
       "      <th>15104</th>\n",
       "      <td>1230.0</td>\n",
       "      <td>NaN</td>\n",
       "      <td>5900020026163</td>\n",
       "    </tr>\n",
       "    <tr>\n",
       "      <th>15562</th>\n",
       "      <td>13016.0</td>\n",
       "      <td>NaN</td>\n",
       "      <td>4009700028198</td>\n",
       "    </tr>\n",
       "  </tbody>\n",
       "</table>\n",
       "</div>"
      ],
      "text/plain": [
       "       Calcium                                               name  \\\n",
       "2325    1106.0                                                NaN   \n",
       "2407    1200.0                                  Actilife Vitalzin   \n",
       "11299   1100.0           Sponser Sport Food Fit&Well Lady Protein   \n",
       "11661   1200.0                                  Actilife Vitalzin   \n",
       "12524   2665.0                                            Jemalt    \n",
       "14150   1600.0  Migros Fit Control Ergänzung Low Carb Proteind...   \n",
       "14317   1030.0                               Leerdammer Lightlife   \n",
       "15104   1230.0                                                NaN   \n",
       "15562  13016.0                                                NaN   \n",
       "\n",
       "             barcode  \n",
       "2325   3387390406719  \n",
       "2407   7610121600510  \n",
       "11299  7611174610327  \n",
       "11661  7613269185970  \n",
       "12524  7612100055694  \n",
       "14150  7613269303879  \n",
       "14317  8721800021294  \n",
       "15104  5900020026163  \n",
       "15562  4009700028198  "
      ]
     },
     "execution_count": 16,
     "metadata": {},
     "output_type": "execute_result"
    }
   ],
   "source": [
    "food_df.loc[food_df.Calcium > 1000,['Calcium','name','barcode']]"
   ]
  },
  {
   "cell_type": "markdown",
   "metadata": {
    "hidden": true,
    "run_control": {
     "frozen": false,
     "read_only": false
    }
   },
   "source": [
    "[last item](https://www.foodrepo.org/ch/products/17736) was a mistake and has been corrected - the others are not tsx mistakes"
   ]
  },
  {
   "cell_type": "markdown",
   "metadata": {
    "heading_collapsed": true,
    "hidden": true,
    "run_control": {
     "frozen": false,
     "read_only": false
    }
   },
   "source": [
    "#### find right items"
   ]
  },
  {
   "cell_type": "code",
   "execution_count": 160,
   "metadata": {
    "hidden": true,
    "run_control": {
     "frozen": false,
     "read_only": false
    }
   },
   "outputs": [],
   "source": [
    "not_cheese = ['cereal','aproz','banane','amende','amande', 'nestl','nescafe',\n",
    "              'actilife','sport','choco','balisto','milupa','milk','milch','eimalzin',\n",
    "             'souffl','jemalt','ovo','drink','suppe','biscuit','crunchy']"
   ]
  },
  {
   "cell_type": "code",
   "execution_count": 161,
   "metadata": {
    "hidden": true,
    "run_control": {
     "frozen": false,
     "read_only": false
    }
   },
   "outputs": [
    {
     "name": "stderr",
     "output_type": "stream",
     "text": [
      "/Library/Frameworks/Python.framework/Versions/3.6/lib/python3.6/site-packages/ipykernel/__main__.py:12: SettingWithCopyWarning: \n",
      "A value is trying to be set on a copy of a slice from a DataFrame\n",
      "\n",
      "See the caveats in the documentation: http://pandas.pydata.org/pandas-docs/stable/indexing.html#indexing-view-versus-copy\n"
     ]
    },
    {
     "data": {
      "text/plain": [
       "41"
      ]
     },
     "execution_count": 161,
     "metadata": {},
     "output_type": "execute_result"
    }
   ],
   "source": [
    "c = 0 # just a counter\n",
    "\n",
    "for row in food_df.itertuples():\n",
    "    \n",
    "    if type(row.name) == str:\n",
    "        \n",
    "        if (row.Calcium > 320) and (row.unit=='g') and\\\n",
    "        (not any(bad in row.name.lower() for bad in not_cheese)):\n",
    "            \n",
    "#             print(row.name,row.barcode) #just a ckeck...\n",
    "            c += 1\n",
    "\n",
    "            food_df.npsc_cat[row.Index] = 'cat_3'\n",
    "c"
   ]
  },
  {
   "cell_type": "code",
   "execution_count": 162,
   "metadata": {
    "hidden": true
   },
   "outputs": [
    {
     "data": {
      "text/plain": [
       "0"
      ]
     },
     "execution_count": 162,
     "metadata": {},
     "output_type": "execute_result"
    }
   ],
   "source": [
    "# cleaning useless var\n",
    "del not_cheese\n",
    "gc.collect()"
   ]
  },
  {
   "cell_type": "markdown",
   "metadata": {
    "heading_collapsed": true,
    "hidden": true,
    "run_control": {
     "frozen": false,
     "read_only": false
    }
   },
   "source": [
    "## summary of categories assignment"
   ]
  },
  {
   "cell_type": "code",
   "execution_count": 165,
   "metadata": {
    "hidden": true,
    "run_control": {
     "frozen": false,
     "read_only": false
    }
   },
   "outputs": [
    {
     "data": {
      "text/plain": [
       "cat_2    18214\n",
       "cat_1     2821\n",
       "cat_3       92\n",
       "Name: npsc_cat, dtype: int64"
      ]
     },
     "execution_count": 165,
     "metadata": {},
     "output_type": "execute_result"
    }
   ],
   "source": [
    "food_df.npsc_cat.value_counts()"
   ]
  },
  {
   "cell_type": "markdown",
   "metadata": {
    "heading_collapsed": true,
    "hidden": true,
    "run_control": {
     "frozen": false,
     "read_only": false
    }
   },
   "source": [
    "## baseline points"
   ]
  },
  {
   "cell_type": "code",
   "execution_count": 166,
   "metadata": {
    "cell_style": "split",
    "hidden": true,
    "run_control": {
     "frozen": false,
     "read_only": false
    }
   },
   "outputs": [],
   "source": [
    "def energy_12(my_energy_KJ):\n",
    "    \n",
    "    if my_energy_KJ > 3350:\n",
    "        return 10\n",
    "    elif my_energy_KJ > 3015:\n",
    "        return 9\n",
    "    elif my_energy_KJ > 2680:\n",
    "        return 8\n",
    "    elif my_energy_KJ > 2345:\n",
    "        return 7\n",
    "    elif my_energy_KJ > 2010:\n",
    "        return 6\n",
    "    elif my_energy_KJ > 1675:\n",
    "        return 5\n",
    "    elif my_energy_KJ > 1340:\n",
    "        return 4    \n",
    "    elif my_energy_KJ > 1005:\n",
    "        return 3\n",
    "    elif my_energy_KJ > 670:\n",
    "        return 2\n",
    "    elif my_energy_KJ > 335:\n",
    "        return 1\n",
    "    else:\n",
    "        return 0"
   ]
  },
  {
   "cell_type": "code",
   "execution_count": 167,
   "metadata": {
    "cell_style": "split",
    "hidden": true,
    "run_control": {
     "frozen": false,
     "read_only": false
    }
   },
   "outputs": [],
   "source": [
    "def sat_fat_12(my_sat_fat):\n",
    "\n",
    "    if   my_sat_fat > 10:\n",
    "        return 10\n",
    "    elif   my_sat_fat > 9:\n",
    "        return 9\n",
    "    elif   my_sat_fat > 8:\n",
    "        return 8\n",
    "    elif   my_sat_fat > 7:\n",
    "        return 7\n",
    "    elif   my_sat_fat > 6:\n",
    "        return 6\n",
    "    elif   my_sat_fat > 5:\n",
    "        return 5  \n",
    "    elif   my_sat_fat > 4:\n",
    "        return 4\n",
    "    elif   my_sat_fat > 3:\n",
    "        return 3\n",
    "    elif   my_sat_fat > 2:\n",
    "        return 2\n",
    "    elif   my_sat_fat > 1:\n",
    "        return 1\n",
    "    else:\n",
    "        return 0"
   ]
  },
  {
   "cell_type": "code",
   "execution_count": 168,
   "metadata": {
    "cell_style": "split",
    "hidden": true,
    "run_control": {
     "frozen": false,
     "read_only": false
    }
   },
   "outputs": [],
   "source": [
    "# mind that sugar points are the same ...\n",
    "# ...for all three categories!\n",
    "def sugars_points(my_sugars):\n",
    "    \n",
    "    if my_sugars > 45:\n",
    "        return 10\n",
    "    elif my_sugars > 40:\n",
    "        return 9\n",
    "    elif my_sugars > 36:\n",
    "        return 8\n",
    "    elif my_sugars > 31:\n",
    "        return 7\n",
    "    elif my_sugars > 27:\n",
    "        return 6\n",
    "    elif my_sugars > 22.5:\n",
    "        return 5\n",
    "    elif my_sugars > 18:\n",
    "        return 4    \n",
    "    elif my_sugars > 13.5:\n",
    "        return 3\n",
    "    elif my_sugars > 9:\n",
    "        return 2\n",
    "    #this was the only difference:\n",
    "    #     NS: 4.5 --> NPSC: 5\n",
    "    elif my_sugars > 5:\n",
    "        return 1\n",
    "    else:\n",
    "        return 0"
   ]
  },
  {
   "cell_type": "code",
   "execution_count": 169,
   "metadata": {
    "cell_style": "split",
    "hidden": true,
    "run_control": {
     "frozen": false,
     "read_only": false
    }
   },
   "outputs": [],
   "source": [
    "def sodium_12(my_sodium):\n",
    "    \n",
    "    if my_sodium > 900:\n",
    "        return 10\n",
    "    elif my_sodium > 810:\n",
    "        return 9\n",
    "    elif my_sodium > 720:\n",
    "        return 8\n",
    "    elif my_sodium > 630:\n",
    "        return 7\n",
    "    elif my_sodium > 540:\n",
    "        return 6\n",
    "    elif my_sodium > 450:\n",
    "        return 5\n",
    "    elif my_sodium > 360:\n",
    "        return 4    \n",
    "    elif my_sodium > 270:\n",
    "        return 3\n",
    "    elif my_sodium > 180:\n",
    "        return 2\n",
    "    elif my_sodium > 90:\n",
    "        return 1\n",
    "    else:\n",
    "        return 0"
   ]
  },
  {
   "cell_type": "code",
   "execution_count": 170,
   "metadata": {
    "cell_style": "split",
    "hidden": true,
    "run_control": {
     "frozen": false,
     "read_only": false
    }
   },
   "outputs": [],
   "source": [
    "def energy_3(my_energy_KJ):\n",
    "    \n",
    "    if my_energy_KJ   > 3685:\n",
    "        return 11\n",
    "    elif my_energy_KJ > 3350:\n",
    "        return 10\n",
    "    elif my_energy_KJ > 3015:\n",
    "        return 9\n",
    "    elif my_energy_KJ > 2680:\n",
    "        return 8\n",
    "    elif my_energy_KJ > 2345:\n",
    "        return 7\n",
    "    elif my_energy_KJ > 2010:\n",
    "        return 6\n",
    "    elif my_energy_KJ > 1675:\n",
    "        return 5\n",
    "    elif my_energy_KJ > 1340:\n",
    "        return 4    \n",
    "    elif my_energy_KJ > 1005:\n",
    "        return 3\n",
    "    elif my_energy_KJ > 670:\n",
    "        return 2\n",
    "    elif my_energy_KJ > 335:\n",
    "        return 1\n",
    "    else:\n",
    "        return 0"
   ]
  },
  {
   "cell_type": "code",
   "execution_count": 171,
   "metadata": {
    "cell_style": "split",
    "hidden": true,
    "run_control": {
     "frozen": false,
     "read_only": false
    }
   },
   "outputs": [],
   "source": [
    "def sat_fat_3(my_sat_fat):\n",
    "    \n",
    "    if   my_sat_fat > 30:\n",
    "        return 30\n",
    "    elif   my_sat_fat > 29:\n",
    "        return 29\n",
    "    elif   my_sat_fat > 28:\n",
    "        return 28\n",
    "    elif   my_sat_fat > 27:\n",
    "        return 27\n",
    "    elif   my_sat_fat > 26:\n",
    "        return 26\n",
    "    elif   my_sat_fat > 25:\n",
    "        return 25  \n",
    "    elif   my_sat_fat > 24:\n",
    "        return 24\n",
    "    elif   my_sat_fat > 23:\n",
    "        return 23\n",
    "    elif   my_sat_fat > 22:\n",
    "        return 22\n",
    "    elif   my_sat_fat > 20:\n",
    "        return 20\n",
    "    elif   my_sat_fat > 19:\n",
    "        return 19\n",
    "    elif   my_sat_fat > 18:\n",
    "        return 18\n",
    "    elif   my_sat_fat > 17:\n",
    "        return 17\n",
    "    elif   my_sat_fat > 16:\n",
    "        return 16\n",
    "    elif   my_sat_fat > 15:\n",
    "        return 15  \n",
    "    elif   my_sat_fat > 14:\n",
    "        return 14\n",
    "    elif   my_sat_fat > 13:\n",
    "        return 13\n",
    "    elif   my_sat_fat > 12:\n",
    "        return 12\n",
    "    elif   my_sat_fat > 11:\n",
    "        return 11\n",
    "    elif   my_sat_fat > 10:\n",
    "        return 10\n",
    "    elif   my_sat_fat > 9:\n",
    "        return 9\n",
    "    elif   my_sat_fat > 8:\n",
    "        return 8\n",
    "    elif   my_sat_fat > 7:\n",
    "        return 7\n",
    "    elif   my_sat_fat > 6:\n",
    "        return 6\n",
    "    elif   my_sat_fat > 5:\n",
    "        return 5  \n",
    "    elif   my_sat_fat > 4:\n",
    "        return 4\n",
    "    elif   my_sat_fat > 3:\n",
    "        return 3\n",
    "    elif   my_sat_fat > 2:\n",
    "        return 2\n",
    "    elif   my_sat_fat > 1:\n",
    "        return 1\n",
    "    else:\n",
    "        return 0"
   ]
  },
  {
   "cell_type": "code",
   "execution_count": 172,
   "metadata": {
    "cell_style": "split",
    "hidden": true,
    "run_control": {
     "frozen": false,
     "read_only": false
    }
   },
   "outputs": [],
   "source": [
    "def sodium_3(my_sodium):\n",
    "    \n",
    "    if   my_sodium > 2700:\n",
    "        return 30\n",
    "    elif my_sodium > 2610:\n",
    "        return 29\n",
    "    elif my_sodium > 2520:\n",
    "        return 28\n",
    "    elif my_sodium > 2430:\n",
    "        return 27\n",
    "    elif my_sodium > 2340:\n",
    "        return 26\n",
    "    elif my_sodium > 2250:\n",
    "        return 25  \n",
    "    elif my_sodium > 2160:\n",
    "        return 24\n",
    "    elif my_sodium > 2070:\n",
    "        return 23\n",
    "    elif my_sodium > 1980:\n",
    "        return 22\n",
    "    elif my_sodium > 1890:\n",
    "        return 21\n",
    "    elif my_sodium > 1800:\n",
    "        return 20\n",
    "    elif my_sodium > 1710:\n",
    "        return 19\n",
    "    elif my_sodium > 1620:\n",
    "        return 18\n",
    "    elif my_sodium > 1530:\n",
    "        return 17\n",
    "    elif my_sodium > 1440:\n",
    "        return 16  \n",
    "    elif my_sodium > 1350:\n",
    "        return 15\n",
    "    elif my_sodium > 1260:\n",
    "        return 14\n",
    "    elif my_sodium > 1170:\n",
    "        return 13\n",
    "    elif my_sodium > 1080:\n",
    "        return 12\n",
    "    elif my_sodium > 990:\n",
    "        return 11    \n",
    "    elif my_sodium > 900:\n",
    "        return 10\n",
    "    elif my_sodium > 810:\n",
    "        return 9\n",
    "    elif my_sodium > 720:\n",
    "        return 8\n",
    "    elif my_sodium > 630:\n",
    "        return 7\n",
    "    elif my_sodium > 540:\n",
    "        return 6\n",
    "    elif my_sodium > 450:\n",
    "        return 5\n",
    "    elif my_sodium > 360:\n",
    "        return 4    \n",
    "    elif my_sodium > 270:\n",
    "        return 3\n",
    "    elif my_sodium > 180:\n",
    "        return 2\n",
    "    elif my_sodium > 90:\n",
    "        return 1\n",
    "    else:\n",
    "        return 0"
   ]
  },
  {
   "cell_type": "code",
   "execution_count": 173,
   "metadata": {
    "hidden": true,
    "run_control": {
     "frozen": false,
     "read_only": false
    }
   },
   "outputs": [],
   "source": [
    "food_df['b_points'] = pd.Series()"
   ]
  },
  {
   "cell_type": "code",
   "execution_count": 174,
   "metadata": {
    "hidden": true,
    "run_control": {
     "frozen": false,
     "read_only": false
    }
   },
   "outputs": [],
   "source": [
    "for row in food_df.itertuples():\n",
    "    \n",
    "    if (row.npsc_cat=='cat_1') | (row.npsc_cat=='cat_2'):\n",
    "        \n",
    "        food_df.loc[row.Index,'b_points'] = energy_12(row.Energy) + sat_fat_12(row.Saturated_fat) + \\\n",
    "                        sugars_points(row.Sugars) + sodium_12(row.Sodium)\n",
    "\n",
    "    else:\n",
    "        food_df.loc[row.Index,'b_points'] = energy_3(row.Energy) + sat_fat_3(row.Saturated_fat) + \\\n",
    "                        sugars_points(row.Sugars) + sodium_3(row.Sodium)"
   ]
  },
  {
   "cell_type": "markdown",
   "metadata": {
    "hidden": true,
    "run_control": {
     "frozen": false,
     "read_only": false
    }
   },
   "source": [
    " distribution of baseline points"
   ]
  },
  {
   "cell_type": "code",
   "execution_count": 175,
   "metadata": {
    "hidden": true,
    "run_control": {
     "frozen": false,
     "read_only": false
    }
   },
   "outputs": [
    {
     "data": {
      "image/png": "[encoded data removed]",
      "text/plain": [
       "<matplotlib.figure.Figure at 0x11972f7f0>"
      ]
     },
     "metadata": {
      "image/png": {
       "height": 279,
       "width": 855
      }
     },
     "output_type": "display_data"
    }
   ],
   "source": [
    "sns.factorplot(data=food_df,x='b_points', col='npsc_cat',kind='violin');"
   ]
  },
  {
   "cell_type": "markdown",
   "metadata": {
    "heading_collapsed": true,
    "hidden": true,
    "run_control": {
     "frozen": false,
     "read_only": false
    }
   },
   "source": [
    "## fruit and veg. points - TO BE IMPROVED "
   ]
  },
  {
   "cell_type": "markdown",
   "metadata": {
    "hidden": true
   },
   "source": [
    "DISCLAIMER: this is the most  tough, annoying part... - still to be seen whether it's really useful..."
   ]
  },
  {
   "cell_type": "markdown",
   "metadata": {
    "heading_collapsed": true,
    "hidden": true
   },
   "source": [
    "### rules"
   ]
  },
  {
   "cell_type": "markdown",
   "metadata": {
    "hidden": true
   },
   "source": [
    "terminology: _fvnl_ = fruits, vegetables, nuts and legumes"
   ]
  },
  {
   "cell_type": "markdown",
   "metadata": {
    "hidden": true
   },
   "source": [
    "in order to compute v-points, we need:\n",
    "\n",
    "- _non-concentrated fvnl_ \n",
    "- _concentrated_ fruits & veg.\n",
    "- percentage of _non-fvnl ingredients_"
   ]
  },
  {
   "cell_type": "markdown",
   "metadata": {
    "hidden": true
   },
   "source": [
    "mind that  - [from section S5-4](https://www.legislation.gov.au/Details/F2017C00719):\n",
    "\n",
    "```\n",
    "(2) V points cannot be scored for:\n",
    "\n",
    "- (a)      a constituent, extract or isolate of a food mentioned in subsection (1); or\n",
    "- (b)      cereal grains mentioned as a class of food in Schedule 22.                         \n",
    "```\n",
    "\n",
    "this means that _v-points_ are not assigned to products extract from fvnl (like peanut oil), but rather the opposite, products build _with fvnl_"
   ]
  },
  {
   "cell_type": "markdown",
   "metadata": {
    "hidden": true
   },
   "source": [
    "to acutally compute the V-points, follow these rules:\n",
    "    \n",
    "\n",
    "(5) Use __Column 1__ of Table 3 if the fruit or vegetables in the food are __all concentrated__ (including dried).   \n",
    "        Note    For example, if dried fruit and tomato paste are the components of the food for which V points can be scored, Column 1 should be used.\n",
    "    \n",
    "(6) Use __Column 2__ of Table 3 if:\n",
    "- (a) there are no concentrated (or dried) fruit or vegetables in the food; or\n",
    "- (b) the percentages of all concentrated ingredients are calculated based on the ingredient when reconstituted (according to subsection 1.2.10—4(3) or subsection 1.2.10—4(4)); or\n",
    "- (c)      the food contains a mixture of concentrated fruit or vegetables and non-concentrated fvnl (after following the equation mentioned in subsection (8)); or\n",
    "- (d)      the food is potato crisps or a similar low moisture vegetable product."
   ]
  },
  {
   "cell_type": "code",
   "execution_count": 182,
   "metadata": {
    "cell_style": "split",
    "hidden": true,
    "run_control": {
     "frozen": false,
     "read_only": false
    }
   },
   "outputs": [],
   "source": [
    "def fvnl_points(my_fvnl):\n",
    "    \n",
    "    if my_fvnl == 100:\n",
    "        return 8\n",
    "    elif my_fvnl > 80:\n",
    "        return 5    \n",
    "    elif my_fvnl > 60:\n",
    "        return 2\n",
    "    elif my_fvnl > 40:\n",
    "        return 1\n",
    "    else:\n",
    "        return 0"
   ]
  },
  {
   "cell_type": "code",
   "execution_count": 196,
   "metadata": {
    "cell_style": "split",
    "hidden": true,
    "run_control": {
     "frozen": false,
     "read_only": false
    }
   },
   "outputs": [],
   "source": [
    "def concen_fv_points(my_concen_fv):\n",
    "    \n",
    "    if my_concen_fv == 100:\n",
    "        return 8\n",
    "    elif my_concen_fv >= 67:\n",
    "        return 5    \n",
    "    elif my_concen_fv >= 43:\n",
    "        return 2\n",
    "    elif my_concen_fv >= 25:\n",
    "        return 1\n",
    "    else:\n",
    "        return 0"
   ]
  },
  {
   "cell_type": "markdown",
   "metadata": {
    "heading_collapsed": true,
    "hidden": true
   },
   "source": [
    "### parse info - STILL MISSING NON-CONC"
   ]
  },
  {
   "cell_type": "code",
   "execution_count": 109,
   "metadata": {
    "hidden": true
   },
   "outputs": [],
   "source": [
    "import re"
   ]
  },
  {
   "cell_type": "code",
   "execution_count": 176,
   "metadata": {
    "hidden": true
   },
   "outputs": [],
   "source": [
    "conc_list = ['concentré','concentrato','konzentriert',\n",
    "             'jus','succo','saft']\n",
    "\n",
    "not_cont_list = ['veau']"
   ]
  },
  {
   "cell_type": "code",
   "execution_count": 178,
   "metadata": {
    "hidden": true
   },
   "outputs": [],
   "source": [
    "# initialize percentage col\n",
    "food_df['concen_perce'] = pd.Series()"
   ]
  },
  {
   "cell_type": "code",
   "execution_count": 179,
   "metadata": {
    "hidden": true,
    "run_control": {
     "frozen": false,
     "read_only": false
    }
   },
   "outputs": [
    {
     "name": "stderr",
     "output_type": "stream",
     "text": [
      "/Library/Frameworks/Python.framework/Versions/3.6/lib/python3.6/site-packages/ipykernel/__main__.py:8: SettingWithCopyWarning: \n",
      "A value is trying to be set on a copy of a slice from a DataFrame\n",
      "\n",
      "See the caveats in the documentation: http://pandas.pydata.org/pandas-docs/stable/indexing.html#indexing-view-versus-copy\n",
      "/Library/Frameworks/Python.framework/Versions/3.6/lib/python3.6/site-packages/ipykernel/__main__.py:18: SettingWithCopyWarning: \n",
      "A value is trying to be set on a copy of a slice from a DataFrame\n",
      "\n",
      "See the caveats in the documentation: http://pandas.pydata.org/pandas-docs/stable/indexing.html#indexing-view-versus-copy\n"
     ]
    }
   ],
   "source": [
    "for row in food_df.itertuples():\n",
    "    \n",
    "    if type(row.name) == str:           \n",
    "        if (any(trans in row.name.lower() for trans in conc_list)) and (not any(bad in row.name.lower() for bad in not_cont_list)):\n",
    "\n",
    "            # we assign by default 100 % -- this is wrong, since sometimes of course, the info is in the ingredients! \n",
    "            # -- ingredients are still not parsed              \n",
    "            food_df.concen_perce[row.Index] = 100.0\n",
    "    \n",
    "\n",
    "#             print(row.name,row.barcode) #just a ckeck...\n",
    "            \n",
    "            # if there is %, then extract the info and assign it to the product\n",
    "            if '%' in row.name.lower():   \n",
    "                \n",
    "                my_perc = re.findall('\\d+\\s*%',row.name.lower())\n",
    "                \n",
    "                food_df.concen_perce[row.Index] = np.float(my_perc[0].strip('%'))"
   ]
  },
  {
   "cell_type": "code",
   "execution_count": 186,
   "metadata": {
    "hidden": true
   },
   "outputs": [
    {
     "data": {
      "text/plain": [
       "10598"
      ]
     },
     "execution_count": 186,
     "metadata": {},
     "output_type": "execute_result"
    }
   ],
   "source": [
    "# clean useless vars\n",
    "del conc_list,not_cont_list\n",
    "gc.collect()"
   ]
  },
  {
   "cell_type": "code",
   "execution_count": 194,
   "metadata": {
    "hidden": true
   },
   "outputs": [
    {
     "data": {
      "text/plain": [
       "100.0    216\n",
       "4.0        3\n",
       "60.0       1\n",
       "67.0       1\n",
       "5.0        1\n",
       "0.0        1\n",
       "12.0       1\n",
       "Name: concen_perce, dtype: int64"
      ]
     },
     "execution_count": 194,
     "metadata": {},
     "output_type": "execute_result"
    }
   ],
   "source": [
    "food_df.concen_perce.value_counts()"
   ]
  },
  {
   "cell_type": "code",
   "execution_count": 187,
   "metadata": {
    "hidden": true
   },
   "outputs": [
    {
     "data": {
      "image/png": "[encoded data removed]",
      "text/plain": [
       "<matplotlib.figure.Figure at 0x108bca160>"
      ]
     },
     "metadata": {
      "image/png": {
       "height": 253,
       "width": 380
      }
     },
     "output_type": "display_data"
    }
   ],
   "source": [
    "food_df.concen_perce.hist();"
   ]
  },
  {
   "cell_type": "code",
   "execution_count": null,
   "metadata": {
    "hidden": true
   },
   "outputs": [],
   "source": []
  },
  {
   "cell_type": "markdown",
   "metadata": {
    "heading_collapsed": true,
    "hidden": true
   },
   "source": [
    "### v-points computation"
   ]
  },
  {
   "cell_type": "code",
   "execution_count": 197,
   "metadata": {
    "hidden": true,
    "run_control": {
     "frozen": false,
     "read_only": false
    }
   },
   "outputs": [],
   "source": [
    "# initilize all to 0\n",
    "food_df['v_points'] = 0.0"
   ]
  },
  {
   "cell_type": "code",
   "execution_count": 199,
   "metadata": {
    "hidden": true,
    "run_control": {
     "frozen": false,
     "read_only": false
    }
   },
   "outputs": [],
   "source": [
    "# assign those ones with concentrated (or not) fvnl \n",
    "food_df.v_points = [concen_fv_points(row.concen_perce) for row in food_df.itertuples()]"
   ]
  },
  {
   "cell_type": "code",
   "execution_count": 200,
   "metadata": {
    "hidden": true
   },
   "outputs": [
    {
     "data": {
      "text/plain": [
       "0    20910\n",
       "8      216\n",
       "5        1\n",
       "2        1\n",
       "Name: v_points, dtype: int64"
      ]
     },
     "execution_count": 200,
     "metadata": {},
     "output_type": "execute_result"
    }
   ],
   "source": [
    "food_df.v_points.value_counts()"
   ]
  },
  {
   "cell_type": "markdown",
   "metadata": {
    "heading_collapsed": true,
    "hidden": true,
    "run_control": {
     "frozen": false,
     "read_only": false
    }
   },
   "source": [
    "## proteins points"
   ]
  },
  {
   "cell_type": "markdown",
   "metadata": {
    "hidden": true,
    "run_control": {
     "frozen": false,
     "read_only": false
    }
   },
   "source": [
    "the following schema for F points is taken from [table 4, in the NPSC code](https://www.legislation.gov.au/Details/F2017C00719)"
   ]
  },
  {
   "cell_type": "code",
   "execution_count": 201,
   "metadata": {
    "cell_style": "center",
    "hidden": true,
    "run_control": {
     "frozen": false,
     "read_only": false
    }
   },
   "outputs": [],
   "source": [
    "# THIS IS STILL WRONG\n",
    "def protein_points(my_proteins):\n",
    "    \n",
    "    if my_proteins > 8.0:\n",
    "        return 5\n",
    "    elif my_proteins > 6.4:\n",
    "        return 4    \n",
    "    elif my_proteins > 4.8:\n",
    "        return 3\n",
    "    elif my_proteins > 3.2:\n",
    "        return 2\n",
    "    elif my_proteins > 1.6:\n",
    "        return 1\n",
    "    else:\n",
    "        return 0"
   ]
  },
  {
   "cell_type": "markdown",
   "metadata": {
    "hidden": true
   },
   "source": [
    "assignment of proteins points - keep in mind the [main diagram, at page 6](http://www.foodstandards.gov.au/industry/labelling/Documents/Short-guide-for-industry-to-the-NPSC.pdf) "
   ]
  },
  {
   "cell_type": "code",
   "execution_count": 202,
   "metadata": {
    "hidden": true
   },
   "outputs": [],
   "source": [
    "# case 1\n",
    "prot_case_1 = (food_df.b_points < 13) | ((food_df.b_points >= 13) & (food_df.v_points >= 5))\n",
    "food_df.loc[prot_case_1,'p_points'] = [protein_points(row.Protein) for row in food_df[prot_case_1].itertuples()]\n",
    "\n",
    "# case 2\n",
    "prot_case_2 = (food_df.b_points >= 13) & (food_df.v_points < 5)\n",
    "food_df.loc[prot_case_2,'p_points'] = 0"
   ]
  },
  {
   "cell_type": "code",
   "execution_count": 211,
   "metadata": {
    "hidden": true
   },
   "outputs": [
    {
     "data": {
      "image/png": "[encoded data removed]",
      "text/plain": [
       "<matplotlib.figure.Figure at 0x11bdcf0b8>"
      ]
     },
     "metadata": {
      "image/png": {
       "height": 279,
       "width": 854
      }
     },
     "output_type": "display_data"
    }
   ],
   "source": [
    "sns.factorplot(data=food_df,y='p_points',col='npsc_cat',kind='violin');"
   ]
  },
  {
   "cell_type": "markdown",
   "metadata": {
    "heading_collapsed": true,
    "hidden": true,
    "run_control": {
     "frozen": false,
     "read_only": false
    }
   },
   "source": [
    "## fiber points"
   ]
  },
  {
   "cell_type": "code",
   "execution_count": 28,
   "metadata": {
    "hidden": true,
    "run_control": {
     "frozen": false,
     "read_only": false
    }
   },
   "outputs": [],
   "source": [
    "# all drinks have no fiber points - according to docs\n",
    "food_df.loc[food_df.npsc_cat=='cat_1','f_points'] = 0"
   ]
  },
  {
   "cell_type": "markdown",
   "metadata": {
    "hidden": true,
    "run_control": {
     "frozen": false,
     "read_only": false
    }
   },
   "source": [
    "the following schema for F points is taken from [table 5, in the NPSC code](https://www.legislation.gov.au/Details/F2017C00719)"
   ]
  },
  {
   "cell_type": "code",
   "execution_count": 212,
   "metadata": {
    "cell_style": "center",
    "hidden": true,
    "run_control": {
     "frozen": false,
     "read_only": false
    }
   },
   "outputs": [],
   "source": [
    "def fiber_points(my_fibers):\n",
    "    \n",
    "    if my_fibers > 4.7:\n",
    "        return 5\n",
    "    elif my_fibers > 3.7:\n",
    "        return 4    \n",
    "    elif my_fibers > 2.8:\n",
    "        return 3\n",
    "    elif my_fibers > 1.9:\n",
    "        return 2\n",
    "    elif my_fibers > 0.9:\n",
    "        return 1\n",
    "    else:\n",
    "        return 0"
   ]
  },
  {
   "cell_type": "code",
   "execution_count": 213,
   "metadata": {
    "hidden": true,
    "run_control": {
     "frozen": false,
     "read_only": false
    }
   },
   "outputs": [],
   "source": [
    "food_df.loc[food_df.npsc_cat!='cat_1','f_points'] = [fiber_points(row.Fiber)\\\n",
    "                                                     for row in food_df[food_df.npsc_cat!='cat_1'].itertuples()]"
   ]
  },
  {
   "cell_type": "code",
   "execution_count": 214,
   "metadata": {
    "hidden": true,
    "run_control": {
     "frozen": false,
     "read_only": false
    }
   },
   "outputs": [
    {
     "data": {
      "image/png": "[encoded data removed]",
      "text/plain": [
       "<matplotlib.figure.Figure at 0x115ea9a90>"
      ]
     },
     "metadata": {
      "image/png": {
       "height": 279,
       "width": 854
      }
     },
     "output_type": "display_data"
    }
   ],
   "source": [
    "sns.factorplot(kind='violin',data=food_df,y='f_points',col='npsc_cat');"
   ]
  },
  {
   "cell_type": "markdown",
   "metadata": {
    "hidden": true,
    "run_control": {
     "frozen": false,
     "read_only": false
    }
   },
   "source": [
    "### spot Fiber outliers"
   ]
  },
  {
   "cell_type": "markdown",
   "metadata": {
    "hidden": true,
    "run_control": {
     "frozen": false,
     "read_only": false
    }
   },
   "source": [
    "[this outlier](https://www.foodrepo.org/ch/products/17905) and [this one](https://www.foodrepo.org/ch/products/19087), for instance have  been fixed "
   ]
  },
  {
   "cell_type": "code",
   "execution_count": 74,
   "metadata": {
    "hidden": true,
    "run_control": {
     "frozen": false,
     "read_only": false
    }
   },
   "outputs": [
    {
     "data": {
      "text/html": [
       "<div>\n",
       "<style scoped>\n",
       "    .dataframe tbody tr th:only-of-type {\n",
       "        vertical-align: middle;\n",
       "    }\n",
       "\n",
       "    .dataframe tbody tr th {\n",
       "        vertical-align: top;\n",
       "    }\n",
       "\n",
       "    .dataframe thead th {\n",
       "        text-align: right;\n",
       "    }\n",
       "</style>\n",
       "<table border=\"1\" class=\"dataframe\">\n",
       "  <thead>\n",
       "    <tr style=\"text-align: right;\">\n",
       "      <th></th>\n",
       "      <th>name</th>\n",
       "      <th>barcode</th>\n",
       "      <th>Fiber</th>\n",
       "    </tr>\n",
       "  </thead>\n",
       "  <tbody>\n",
       "    <tr>\n",
       "      <th>17399</th>\n",
       "      <td>NaN</td>\n",
       "      <td>20486396</td>\n",
       "      <td>470.0</td>\n",
       "    </tr>\n",
       "  </tbody>\n",
       "</table>\n",
       "</div>"
      ],
      "text/plain": [
       "      name   barcode  Fiber\n",
       "17399  NaN  20486396  470.0"
      ]
     },
     "execution_count": 74,
     "metadata": {},
     "output_type": "execute_result"
    }
   ],
   "source": [
    "food_df.loc[food_df.Fiber > 100,['name','barcode','Fiber']]"
   ]
  },
  {
   "cell_type": "markdown",
   "metadata": {
    "hidden": true,
    "run_control": {
     "frozen": false,
     "read_only": false
    }
   },
   "source": [
    "we fix some db errors manually here - this has __to be deleted when using the latest dump__"
   ]
  },
  {
   "cell_type": "code",
   "execution_count": 78,
   "metadata": {
    "hidden": true,
    "run_control": {
     "frozen": false,
     "read_only": false
    }
   },
   "outputs": [],
   "source": [
    "food_df.Fiber[food_df.Fiber>100] = 47\n",
    "\n",
    "food_df.Fiber[food_df.Fiber == 100] = 10"
   ]
  },
  {
   "cell_type": "code",
   "execution_count": 84,
   "metadata": {
    "cell_style": "split",
    "hidden": true,
    "run_control": {
     "frozen": false,
     "read_only": false
    }
   },
   "outputs": [
    {
     "data": {
      "text/plain": [
       "(-1, 100)"
      ]
     },
     "execution_count": 84,
     "metadata": {},
     "output_type": "execute_result"
    },
    {
     "data": {
      "image/png": "[encoded data removed]",
      "text/plain": [
       "<matplotlib.figure.Figure at 0x1178d9da0>"
      ]
     },
     "metadata": {
      "image/png": {
       "height": 255,
       "width": 380
      }
     },
     "output_type": "display_data"
    }
   ],
   "source": [
    "food_df.Fiber.hist(bins=20)\n",
    "\n",
    "plt.ylim([-1,100])"
   ]
  },
  {
   "cell_type": "markdown",
   "metadata": {
    "heading_collapsed": true,
    "hidden": true,
    "run_control": {
     "frozen": false,
     "read_only": false
    }
   },
   "source": [
    "## final npsc score "
   ]
  },
  {
   "cell_type": "code",
   "execution_count": 215,
   "metadata": {
    "hidden": true,
    "run_control": {
     "frozen": false,
     "read_only": false
    }
   },
   "outputs": [],
   "source": [
    "food_df['npsc_score'] = food_df.b_points - food_df.v_points - food_df.p_points - food_df.f_points"
   ]
  },
  {
   "cell_type": "code",
   "execution_count": 221,
   "metadata": {
    "hidden": true
   },
   "outputs": [
    {
     "data": {
      "image/png": "[encoded data removed]",
      "text/plain": [
       "<matplotlib.figure.Figure at 0x11639b8d0>"
      ]
     },
     "metadata": {
      "image/png": {
       "height": 279,
       "width": 855
      }
     },
     "output_type": "display_data"
    }
   ],
   "source": [
    "sns.factorplot(kind='violin',data=food_df,y='npsc_score',col='npsc_cat');"
   ]
  },
  {
   "cell_type": "markdown",
   "metadata": {
    "heading_collapsed": true,
    "hidden": true,
    "run_control": {
     "frozen": false,
     "read_only": false
    }
   },
   "source": [
    "## final npsc  criterion"
   ]
  },
  {
   "cell_type": "code",
   "execution_count": 222,
   "metadata": {
    "hidden": true,
    "run_control": {
     "frozen": false,
     "read_only": false
    }
   },
   "outputs": [],
   "source": [
    "# intialise columns for  final decision: met VS non_met criterion for healthy food \n",
    "food_df['npsc_met'] = False"
   ]
  },
  {
   "cell_type": "code",
   "execution_count": 223,
   "metadata": {
    "hidden": true,
    "run_control": {
     "frozen": false,
     "read_only": false
    }
   },
   "outputs": [
    {
     "name": "stderr",
     "output_type": "stream",
     "text": [
      "/Library/Frameworks/Python.framework/Versions/3.6/lib/python3.6/site-packages/ipykernel/__main__.py:1: SettingWithCopyWarning: \n",
      "A value is trying to be set on a copy of a slice from a DataFrame\n",
      "\n",
      "See the caveats in the documentation: http://pandas.pydata.org/pandas-docs/stable/indexing.html#indexing-view-versus-copy\n",
      "  if __name__ == '__main__':\n",
      "/Library/Frameworks/Python.framework/Versions/3.6/lib/python3.6/site-packages/ipykernel/__main__.py:2: SettingWithCopyWarning: \n",
      "A value is trying to be set on a copy of a slice from a DataFrame\n",
      "\n",
      "See the caveats in the documentation: http://pandas.pydata.org/pandas-docs/stable/indexing.html#indexing-view-versus-copy\n",
      "  from ipykernel import kernelapp as app\n",
      "/Library/Frameworks/Python.framework/Versions/3.6/lib/python3.6/site-packages/ipykernel/__main__.py:3: SettingWithCopyWarning: \n",
      "A value is trying to be set on a copy of a slice from a DataFrame\n",
      "\n",
      "See the caveats in the documentation: http://pandas.pydata.org/pandas-docs/stable/indexing.html#indexing-view-versus-copy\n",
      "  app.launch_new_instance()\n"
     ]
    }
   ],
   "source": [
    "food_df.npsc_met[(food_df.npsc_cat=='cat_1') & (food_df.npsc_score < 1)] = True\n",
    "food_df.npsc_met[(food_df.npsc_cat=='cat_2') & (food_df.npsc_score < 4)] = True\n",
    "food_df.npsc_met[(food_df.npsc_cat=='cat_3') & (food_df.npsc_score < 28)] = True"
   ]
  },
  {
   "cell_type": "code",
   "execution_count": 226,
   "metadata": {
    "hidden": true
   },
   "outputs": [
    {
     "data": {
      "image/png": "[encoded data removed]",
      "text/plain": [
       "<matplotlib.figure.Figure at 0x12482e4e0>"
      ]
     },
     "metadata": {
      "image/png": {
       "height": 279,
       "width": 869
      }
     },
     "output_type": "display_data"
    }
   ],
   "source": [
    "sns.factorplot(kind='count',data=food_df,x='npsc_met',col='npsc_cat',sharey=False);"
   ]
  },
  {
   "cell_type": "markdown",
   "metadata": {
    "heading_collapsed": true,
    "hidden": true
   },
   "source": [
    "## save all work in the dataframe"
   ]
  },
  {
   "cell_type": "code",
   "execution_count": 227,
   "metadata": {
    "hidden": true
   },
   "outputs": [],
   "source": [
    "food_df.to_csv('./nutr_&_categ.csv')"
   ]
  },
  {
   "cell_type": "markdown",
   "metadata": {
    "run_control": {
     "frozen": false,
     "read_only": false
    }
   },
   "source": [
    "# Statistics"
   ]
  },
  {
   "cell_type": "code",
   "execution_count": null,
   "metadata": {},
   "outputs": [],
   "source": []
  },
  {
   "cell_type": "code",
   "execution_count": null,
   "metadata": {},
   "outputs": [],
   "source": []
  },
  {
   "cell_type": "code",
   "execution_count": null,
   "metadata": {},
   "outputs": [],
   "source": []
  },
  {
   "cell_type": "markdown",
   "metadata": {
    "run_control": {
     "frozen": false,
     "read_only": false
    }
   },
   "source": [
    "# OTHER CODE"
   ]
  },
  {
   "cell_type": "code",
   "execution_count": null,
   "metadata": {
    "run_control": {
     "frozen": false,
     "read_only": false
    }
   },
   "outputs": [],
   "source": []
  },
  {
   "cell_type": "code",
   "execution_count": null,
   "metadata": {
    "run_control": {
     "frozen": false,
     "read_only": false
    }
   },
   "outputs": [],
   "source": []
  }
 ],
 "metadata": {
  "kernelspec": {
   "display_name": "Python 3",
   "language": "python",
   "name": "python3"
  },
  "language_info": {
   "codemirror_mode": {
    "name": "ipython",
    "version": 3
   },
   "file_extension": ".py",
   "mimetype": "text/x-python",
   "name": "python",
   "nbconvert_exporter": "python",
   "pygments_lexer": "ipython3",
   "version": "3.6.0"
  },
  "toc": {
   "colors": {
    "hover_highlight": "#DAA520",
    "running_highlight": "#FF0000",
    "selected_highlight": "#FFD700"
   },
   "moveMenuLeft": true,
   "nav_menu": {
    "height": "47px",
    "width": "252px"
   },
   "navigate_menu": true,
   "number_sections": false,
   "sideBar": false,
   "threshold": 4,
   "toc_cell": true,
   "toc_position": {
    "height": "267px",
    "left": "1173.9625244140625px",
    "right": "125.0374984741211px",
    "top": "80.9625015258789px",
    "width": "237px"
   },
   "toc_section_display": "block",
   "toc_window_display": true
  }
 },
 "nbformat": 4,
 "nbformat_minor": 2
}
