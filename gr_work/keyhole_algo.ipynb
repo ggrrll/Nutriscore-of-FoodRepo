{
 "cells": [
  {
   "cell_type": "code",
   "execution_count": 2,
   "metadata": {
    "run_control": {
     "frozen": false,
     "read_only": false
    }
   },
   "outputs": [],
   "source": [
    "#  generic packages \n",
    "import pandas as pd\n",
    "import numpy as np\n",
    "import gc \n",
    "# plotting packages\n",
    "import matplotlib.pyplot as plt\n",
    "from mpl_toolkits.mplot3d import Axes3D\n",
    "%matplotlib inline\n",
    "\n",
    "import seaborn as sns\n",
    "sns.set_context('notebook')\n",
    "%config InlineBackend.figure_format = 'retina'\n",
    "\n",
    "# interacting plotting\n",
    "# from bokeh.plotting import figure, output_file, show\n",
    "\n",
    "# packages for stats\n",
    "from scipy import stats\n",
    "import powerlaw\n",
    "import itertools as itt"
   ]
  },
  {
   "cell_type": "markdown",
   "metadata": {
    "run_control": {
     "frozen": false,
     "read_only": false
    }
   },
   "source": [
    "# Loading the dataset"
   ]
  },
  {
   "cell_type": "code",
   "execution_count": 3,
   "metadata": {
    "run_control": {
     "frozen": false,
     "read_only": false
    }
   },
   "outputs": [],
   "source": [
    "food_df = pd.read_csv('nutr_&_categ.csv')"
   ]
  },
  {
   "cell_type": "markdown",
   "metadata": {
    "run_control": {
     "frozen": false,
     "read_only": false
    }
   },
   "source": [
    "change names of some columns to avoid confusion"
   ]
  },
  {
   "cell_type": "code",
   "execution_count": 12,
   "metadata": {
    "run_control": {
     "frozen": false,
     "read_only": false
    }
   },
   "outputs": [],
   "source": [
    "food_df.rename(columns={'label':'ns_label','my_color':'ns_color'},copy=False,inplace=True);"
   ]
  },
  {
   "cell_type": "code",
   "execution_count": 13,
   "metadata": {
    "run_control": {
     "frozen": false,
     "read_only": false
    }
   },
   "outputs": [
    {
     "data": {
      "text/plain": [
       "Index(['Unnamed: 0', 'Unnamed: 0.1', 'Carbohydrates', 'Energy',\n",
       "       'Energy (kCal)', 'Fat', 'Fiber', 'Protein', 'Salt', 'Saturated_fat',\n",
       "       'Sugars', 'barcode', 'name', 'origins', 'quantity', 'unit', 'Calcium',\n",
       "       'Omega-3 fatty acids', 'Polyunsaturated fatty acids', 'Sodium',\n",
       "       'Monounsaturated fatty acids', 'Vitamin A', 'Vitamin C (Ascorbic acid)',\n",
       "       'Iron', 'Selenium', 'Vitamin B1 (Thiamin)', 'Vitamin B2 (Riboflavin)',\n",
       "       'Vitamin B3 (Niacin)', 'Vitamin B6 (Pyridoxin)',\n",
       "       'Vitamin D (Cholacalciferol)', 'Vitamin E (Tocopherol)', 'Vitamin K',\n",
       "       'Zinco', 'Polyols', 'Fructose', 'Glucose', 'Lactose', 'Saccharose',\n",
       "       'Folic acid', 'Biotin', 'Vitamin B12 (Cobalamin)',\n",
       "       'Vitamin B5 (Panthothenic acid)', 'Cholesterol', 'Phosphorus',\n",
       "       'Magnesium', 'Iodine', 'Provitamin A (β-carotene)',\n",
       "       'Omega-6 fatty acids', 'Sulfate', 'Nitrate', 'Silica', 'kirtan_ns',\n",
       "       'nutri_score', 'type', 'ns_color', 'ns_label', 'category'],\n",
       "      dtype='object')"
      ]
     },
     "execution_count": 13,
     "metadata": {},
     "output_type": "execute_result"
    }
   ],
   "source": [
    "food_df.columns"
   ]
  },
  {
   "cell_type": "markdown",
   "metadata": {
    "run_control": {
     "frozen": false,
     "read_only": false
    }
   },
   "source": [
    "# Keyhole implementation"
   ]
  },
  {
   "cell_type": "markdown",
   "metadata": {
    "run_control": {
     "frozen": false,
     "read_only": false
    }
   },
   "source": [
    "here is a [quick info sheet](https://www.norden.org/en/news-and-events/news/keyhole-milestone) and [slides](http://norden.diva-portal.org/smash/get/diva2:700822/FULLTEXT01.pdf) and here is the [official keyhole 2015 regulation](https://www.livsmedelsverket.se/globalassets/om-oss/lagstiftning/livsmedelsinfo-till-konsum---markning/livsfs-2015-1-particular-symbol-eng.pdf) "
   ]
  },
  {
   "cell_type": "markdown",
   "metadata": {
    "run_control": {
     "frozen": false,
     "read_only": false
    }
   },
   "source": [
    "Mind that:\n",
    "\n",
    "- this is a __threshold-based__ system, likewise IWG and the EU system, meaning that there is not score, only a 'bad/good' statement \n",
    "- it requires many more food categories ...not trivial"
   ]
  },
  {
   "cell_type": "code",
   "execution_count": 14,
   "metadata": {
    "run_control": {
     "frozen": false,
     "read_only": false
    }
   },
   "outputs": [
    {
     "data": {
      "text/plain": [
       "solid         15941\n",
       "drink          2612\n",
       "diary          1166\n",
       "cereals         376\n",
       "nuts            325\n",
       "legumes         254\n",
       "other_meat      134\n",
       "seafood          85\n",
       "beef             83\n",
       "eggs             68\n",
       "fish             53\n",
       "pork             30\n",
       "Name: category, dtype: int64"
      ]
     },
     "execution_count": 14,
     "metadata": {},
     "output_type": "execute_result"
    }
   ],
   "source": [
    "food_df.category.value_counts()"
   ]
  },
  {
   "cell_type": "code",
   "execution_count": null,
   "metadata": {
    "run_control": {
     "frozen": false,
     "read_only": false
    }
   },
   "outputs": [],
   "source": []
  },
  {
   "cell_type": "code",
   "execution_count": null,
   "metadata": {
    "run_control": {
     "frozen": false,
     "read_only": false
    }
   },
   "outputs": [],
   "source": []
  },
  {
   "cell_type": "code",
   "execution_count": null,
   "metadata": {
    "run_control": {
     "frozen": false,
     "read_only": false
    }
   },
   "outputs": [],
   "source": []
  }
 ],
 "metadata": {
  "kernelspec": {
   "display_name": "Python 3",
   "language": "python",
   "name": "python3"
  },
  "language_info": {
   "codemirror_mode": {
    "name": "ipython",
    "version": 3
   },
   "file_extension": ".py",
   "mimetype": "text/x-python",
   "name": "python",
   "nbconvert_exporter": "python",
   "pygments_lexer": "ipython3",
   "version": "3.6.0"
  },
  "toc": {
   "colors": {
    "hover_highlight": "#DAA520",
    "running_highlight": "#FF0000",
    "selected_highlight": "#FFD700"
   },
   "moveMenuLeft": true,
   "nav_menu": {
    "height": "47px",
    "width": "252px"
   },
   "navigate_menu": true,
   "number_sections": true,
   "sideBar": false,
   "threshold": 4,
   "toc_cell": false,
   "toc_position": {
    "height": "249px",
    "left": "1210px",
    "right": "114px",
    "top": "104px",
    "width": "212px"
   },
   "toc_section_display": "block",
   "toc_window_display": true
  }
 },
 "nbformat": 4,
 "nbformat_minor": 2
}
