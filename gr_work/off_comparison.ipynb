{
 "cells": [
  {
   "cell_type": "markdown",
   "metadata": {
    "run_control": {
     "frozen": false,
     "read_only": false
    },
    "toc": "true"
   },
   "source": [
    "<h1>Table of Contents<span class=\"tocSkip\"></span></h1>\n",
    "<div class=\"toc\"><ul class=\"toc-item\"><li><span><a href=\"#load-dataset\" data-toc-modified-id=\"load-dataset-1\">load dataset</a></span></li><li><span><a href=\"#explore-dataset\" data-toc-modified-id=\"explore-dataset-2\">explore dataset</a></span><ul class=\"toc-item\"><li><span><a href=\"#labels\" data-toc-modified-id=\"labels-2.1\">labels</a></span></li><li><span><a href=\"#fruits,-veg,-nuts\" data-toc-modified-id=\"fruits,-veg,-nuts-2.2\">fruits, veg, nuts</a></span></li><li><span><a href=\"#groups\" data-toc-modified-id=\"groups-2.3\">groups</a></span></li><li><span><a href=\"#categories\" data-toc-modified-id=\"categories-2.4\">categories</a></span></li><li><span><a href=\"#barcode\" data-toc-modified-id=\"barcode-2.5\">barcode</a></span></li><li><span><a href=\"#stores\" data-toc-modified-id=\"stores-2.6\">stores</a></span></li><li><span><a href=\"#name\" data-toc-modified-id=\"name-2.7\">name</a></span></li></ul></li><li><span><a href=\"#NS-comparison\" data-toc-modified-id=\"NS-comparison-3\">NS comparison</a></span><ul class=\"toc-item\"><li><span><a href=\"#label-VS-score\" data-toc-modified-id=\"label-VS-score-3.1\">label VS score</a></span></li><li><span><a href=\"#merging-dfs\" data-toc-modified-id=\"merging-dfs-3.2\">merging dfs</a></span></li><li><span><a href=\"#label-VS-label\" data-toc-modified-id=\"label-VS-label-3.3\">label VS label</a></span></li><li><span><a href=\"#score-VS-score\" data-toc-modified-id=\"score-VS-score-3.4\">score VS score</a></span></li></ul></li><li><span><a href=\"#OTHER-CODE\" data-toc-modified-id=\"OTHER-CODE-4\">OTHER CODE</a></span></li></ul></div>"
   ]
  },
  {
   "cell_type": "code",
   "execution_count": 1,
   "metadata": {
    "run_control": {
     "frozen": false,
     "read_only": false
    }
   },
   "outputs": [],
   "source": [
    "#  generic packages \n",
    "import json\n",
    "import pandas as pd\n",
    "import numpy as np\n",
    "import gc \n",
    "# plotting packages\n",
    "import matplotlib.pyplot as plt\n",
    "from mpl_toolkits.mplot3d import Axes3D\n",
    "%matplotlib inline\n",
    "\n",
    "import seaborn as sns\n",
    "sns.set_context('notebook')\n",
    "%config InlineBackend.figure_format = 'retina'\n",
    "\n",
    "# interacting plotting\n",
    "# from bokeh.plotting import figure, output_file, show\n",
    "\n",
    "# packages for stats\n",
    "from scipy import stats\n",
    "import powerlaw\n",
    "import itertools as itt\n",
    "\n",
    "# show all cell outputs\n",
    "# from IPython.core.interactiveshell import InteractiveShell\n",
    "# InteractiveShell.ast_node_interactivity = \"all\""
   ]
  },
  {
   "cell_type": "markdown",
   "metadata": {
    "heading_collapsed": true,
    "run_control": {
     "frozen": false,
     "read_only": false
    }
   },
   "source": [
    "# load dataset"
   ]
  },
  {
   "cell_type": "code",
   "execution_count": 2,
   "metadata": {
    "hidden": true,
    "run_control": {
     "frozen": false,
     "read_only": false
    }
   },
   "outputs": [
    {
     "name": "stderr",
     "output_type": "stream",
     "text": [
      "<string>:2: DtypeWarning: Columns (0,3,5,24,25,26,28,36,37,38,39,41,49) have mixed types. Specify dtype option on import or set low_memory=False.\n"
     ]
    },
    {
     "name": "stdout",
     "output_type": "stream",
     "text": [
      "CPU times: user 18.5 s, sys: 1.43 s, total: 19.9 s\n",
      "Wall time: 20 s\n"
     ]
    }
   ],
   "source": [
    "%%time\n",
    "\n",
    "full_df = pd.read_csv('/Users/lazzari/Downloads/full_openfoodfacts_products.csv',encoding='utf-8',sep='\\t')\n",
    "full_df.shape"
   ]
  },
  {
   "cell_type": "markdown",
   "metadata": {
    "hidden": true,
    "run_control": {
     "frozen": false,
     "read_only": false
    }
   },
   "source": [
    "we are only intersted in  products sold in CH"
   ]
  },
  {
   "cell_type": "markdown",
   "metadata": {
    "hidden": true
   },
   "source": [
    "there are in total 141 unique `countries_tags` that contains CH (including CH alone)"
   ]
  },
  {
   "cell_type": "code",
   "execution_count": 3,
   "metadata": {
    "hidden": true
   },
   "outputs": [],
   "source": [
    "# code to show some examples\n",
    "# [my_url for my_url in full_df.url[full_df.countries_tags=='en:spain,en:switzerland']]"
   ]
  },
  {
   "cell_type": "code",
   "execution_count": 3,
   "metadata": {
    "hidden": true
   },
   "outputs": [],
   "source": [
    "# convert to str !\n",
    "full_df.countries_tags = full_df.countries_tags.astype('str')\n",
    "\n",
    "# remove NaNs\n",
    "full_df = full_df[full_df.countries_tags.notnull()]"
   ]
  },
  {
   "cell_type": "code",
   "execution_count": 4,
   "metadata": {
    "hidden": true,
    "run_control": {
     "frozen": false,
     "read_only": false
    }
   },
   "outputs": [
    {
     "data": {
      "text/plain": [
       "(16366, 173)"
      ]
     },
     "execution_count": 4,
     "metadata": {},
     "output_type": "execute_result"
    }
   ],
   "source": [
    "### include only en:switzerland\n",
    "###  switz_df = full_df.loc[pd.Series(full_df.countries_tags=='en:switzerland').values]\n",
    "\n",
    "## include instead products for all tags with CH\n",
    "switz_df = full_df[full_df.countries_tags.str.contains('switz')]\n",
    "\n",
    "switz_df.shape"
   ]
  },
  {
   "cell_type": "code",
   "execution_count": null,
   "metadata": {
    "hidden": true,
    "run_control": {
     "frozen": false,
     "read_only": false
    }
   },
   "outputs": [],
   "source": [
    " ## using `countries_en` feature is equivalent\n",
    "# country_df = full_df[full_df.countries_en=='Switzerland']\n",
    "# country_df.shape"
   ]
  },
  {
   "cell_type": "code",
   "execution_count": 5,
   "metadata": {
    "hidden": true,
    "run_control": {
     "frozen": false,
     "read_only": false
    }
   },
   "outputs": [],
   "source": [
    "# remove full dump\n",
    "del full_df\n",
    "gc.collect();"
   ]
  },
  {
   "cell_type": "markdown",
   "metadata": {
    "hidden": true
   },
   "source": [
    "see frequencies of different tags"
   ]
  },
  {
   "cell_type": "code",
   "execution_count": 6,
   "metadata": {
    "hidden": true
   },
   "outputs": [
    {
     "data": {
      "text/plain": [
       "en:switzerland                                                                                                                                                                                                                                                             13828\n",
       "en:france,en:switzerland                                                                                                                                                                                                                                                    1882\n",
       "en:germany,en:switzerland                                                                                                                                                                                                                                                    217\n",
       "en:france,en:germany,en:switzerland                                                                                                                                                                                                                                           56\n",
       "en:belgium,en:france,en:switzerland                                                                                                                                                                                                                                           48\n",
       "en:belgium,en:switzerland                                                                                                                                                                                                                                                     28\n",
       "en:switzerland,en:united-kingdom                                                                                                                                                                                                                                              25\n",
       "en:switzerland,en:united-states                                                                                                                                                                                                                                               22\n",
       "en:denmark,en:france,en:switzerland                                                                                                                                                                                                                                           15\n",
       "en:france,en:switzerland,en:united-kingdom                                                                                                                                                                                                                                    15\n",
       "en:italy,en:switzerland                                                                                                                                                                                                                                                       14\n",
       "en:spain,en:switzerland                                                                                                                                                                                                                                                       10\n",
       "en:france,en:spain,en:switzerland                                                                                                                                                                                                                                             10\n",
       "en:austria,en:switzerland                                                                                                                                                                                                                                                      9\n",
       "en:france,en:switzerland,en:united-states                                                                                                                                                                                                                                      8\n",
       "en:serbia,en:switzerland                                                                                                                                                                                                                                                       5\n",
       "en:france,en:portugal,en:switzerland                                                                                                                                                                                                                                           5\n",
       "en:belgium,en:france,en:spain,en:switzerland                                                                                                                                                                                                                                   5\n",
       "en:austria,en:france,en:switzerland                                                                                                                                                                                                                                            4\n",
       "en:denmark,en:france,en:switzerland,en:united-kingdom                                                                                                                                                                                                                          4\n",
       "en:switzerland,en:united-kingdom,en:united-states                                                                                                                                                                                                                              4\n",
       "en:france,en:italy,en:switzerland                                                                                                                                                                                                                                              4\n",
       "en:belgium,en:france,en:morocco,en:switzerland                                                                                                                                                                                                                                 3\n",
       "en:portugal,en:switzerland                                                                                                                                                                                                                                                     3\n",
       "en:denmark,en:switzerland,en:united-kingdom                                                                                                                                                                                                                                    3\n",
       "en:netherlands,en:switzerland                                                                                                                                                                                                                                                  3\n",
       "en:france,en:germany,en:italy,en:switzerland                                                                                                                                                                                                                                   3\n",
       "en:belgium,en:france,en:netherlands,en:switzerland                                                                                                                                                                                                                             3\n",
       "en:australia,en:france,en:switzerland                                                                                                                                                                                                                                          3\n",
       "en:france,en:guadeloupe,en:switzerland                                                                                                                                                                                                                                         2\n",
       "                                                                                                                                                                                                                                                                           ...  \n",
       "en:belgium,en:france,en:germany,en:italy,en:netherlands,en:portugal,en:spain,en:switzerland,en:united-kingdom                                                                                                                                                                  1\n",
       "en:croatia,en:switzerland                                                                                                                                                                                                                                                      1\n",
       "en:belgium,en:france,en:sweden,en:switzerland                                                                                                                                                                                                                                  1\n",
       "en:poland,en:switzerland                                                                                                                                                                                                                                                       1\n",
       "en:belgium,en:denmark,en:finland,en:france,en:italy,en:netherlands,en:portugal,en:spain,en:sweden,en:switzerland                                                                                                                                                               1\n",
       "en:austria,en:belgium,en:denmark,en:france,en:germany,en:netherlands,en:sweden,en:switzerland                                                                                                                                                                                  1\n",
       "en:belgium,en:france,en:reunion,en:spain,en:switzerland                                                                                                                                                                                                                        1\n",
       "en:france,en:new-zealand,en:switzerland                                                                                                                                                                                                                                        1\n",
       "en:hungary,en:switzerland                                                                                                                                                                                                                                                      1\n",
       "en:belgium,en:canada,en:france,en:switzerland                                                                                                                                                                                                                                  1\n",
       "en:canada,en:france,en:switzerland,en:united-states                                                                                                                                                                                                                            1\n",
       "en:austria,en:denmark,en:france,en:germany,en:netherlands,en:spain,en:switzerland                                                                                                                                                                                              1\n",
       "en:belgium,en:france,en:germany,en:netherlands,en:portugal,en:spain,en:switzerland                                                                                                                                                                                             1\n",
       "en:french-polynesia,en:switzerland                                                                                                                                                                                                                                             1\n",
       "en:canada,en:france,en:switzerland                                                                                                                                                                                                                                             1\n",
       "en:austria,en:belgium,en:denmark,en:france,en:germany,en:greece,en:ireland,en:netherlands,en:sweden,en:switzerland,en:united-kingdom                                                                                                                                           1\n",
       "en:reunion,en:switzerland                                                                                                                                                                                                                                                      1\n",
       "en:belgium,en:canada,en:denmark,en:france,en:germany,en:morocco,en:spain,en:switzerland                                                                                                                                                                                        1\n",
       "en:belgium,en:france,en:mali,en:reunion,en:switzerland,en:united-kingdom                                                                                                                                                                                                       1\n",
       "en:france,en:germany,en:switzerland,en:united-states                                                                                                                                                                                                                           1\n",
       "en:mozambique,en:switzerland                                                                                                                                                                                                                                                   1\n",
       "en:italy,en:spain,en:switzerland                                                                                                                                                                                                                                               1\n",
       "en:belgium,en:denmark,en:france,en:switzerland                                                                                                                                                                                                                                 1\n",
       "en:france,en:hungary,en:switzerland                                                                                                                                                                                                                                            1\n",
       "en:france,en:guadeloupe,en:italy,en:netherlands,en:norway,en:sweden,en:switzerland,en:united-kingdom                                                                                                                                                                           1\n",
       "en:belgium,en:france,en:germany,en:netherlands,en:spain,en:switzerland,en:united-kingdom                                                                                                                                                                                       1\n",
       "en:belgium,en:denmark,en:france,en:switzerland,en:united-kingdom                                                                                                                                                                                                               1\n",
       "en:france,en:italy,en:switzerland,en:united-states                                                                                                                                                                                                                             1\n",
       "en:belgium,en:denmark,en:france,en:sweden,en:switzerland                                                                                                                                                                                                                       1\n",
       "en:algeria,en:belgium,en:brazil,en:cameroon,en:canada,en:france,en:germany,en:india,en:italy,en:luxembourg,en:mali,en:martinique,en:morocco,en:netherlands,en:portugal,en:reunion,en:saudi-arabia,en:senegal,en:spain,en:switzerland,en:united-kingdom,en:united-states        1\n",
       "Name: countries_tags, Length: 141, dtype: int64"
      ]
     },
     "execution_count": 6,
     "metadata": {},
     "output_type": "execute_result"
    }
   ],
   "source": [
    "switz_df.countries_tags.value_counts()"
   ]
  },
  {
   "cell_type": "markdown",
   "metadata": {
    "run_control": {
     "frozen": false,
     "read_only": false
    }
   },
   "source": [
    "# explore dataset "
   ]
  },
  {
   "cell_type": "markdown",
   "metadata": {
    "heading_collapsed": true
   },
   "source": [
    "## labels"
   ]
  },
  {
   "cell_type": "code",
   "execution_count": 86,
   "metadata": {
    "hidden": true
   },
   "outputs": [
    {
     "name": "stdout",
     "output_type": "stream",
     "text": [
      "932\n",
      "778\n",
      "778\n"
     ]
    }
   ],
   "source": [
    "print(switz_df['labels'].nunique())\n",
    "print(switz_df.labels_tags.nunique())\n",
    "print(switz_df.labels_en.nunique())"
   ]
  },
  {
   "cell_type": "code",
   "execution_count": 88,
   "metadata": {
    "hidden": true
   },
   "outputs": [
    {
     "data": {
      "text/plain": [
       "array([nan, 'Fabrique-au-canada', 'Kosher,Orthodox Union Kosher',\n",
       "       'Kosher,Gluten-free,Orthodox Union Kosher',\n",
       "       'fr:Glutenfrei,fr:Gruner-punkt',\n",
       "       'Kosher,Orthodox Union Kosher,Pur-beurre', 'Organic',\n",
       "       'fr:Classe-a', 'fr:Gruner-punkt', 'Aoc',\n",
       "       'Fair trade,Kosher,Max Havelaar,Green Dot,fr:Caring-dairy',\n",
       "       'Deconseille-aux-femmes-enceintes', 'No Trans Fat', 'Made-in-usa',\n",
       "       'Sustainable Palm Oil,Palm oil free', 'Green Dot',\n",
       "       'Gluten-free,No alcohol',\n",
       "       'Deconseille-aux-femmes-enceintes,Deconseille-a-certaines-categories-de-personnes,Point-vert',\n",
       "       'Low or no salt,Low or no sugar,Vegetarian,Kosher,Vegan,No added sugar,Gluten-free,No added salt,No cholesterol,No GMOs,No lactose,fr:Care-enough',\n",
       "       'fr:Ch-340', 'Organic,Vegetarian,Vegan',\n",
       "       'Organic,EU Organic,fr:AB Agriculture Biologique',\n",
       "       'fr:Certification-bio-be-bio-02,fr:Label-de-qualite-aha-centre-d-allergie-suisse',\n",
       "       'Organic,de:Sial-innovation-paris-2014',\n",
       "       'Organic,fr:Sial-innovation-paris-2014',\n",
       "       'fr:AOC,fr:Bourgeon-bio-suisse', 'Organic,Bio Suisse',\n",
       "       'PDO,fr:2e-au-swiss-cheese-arwards-au-charboniere-2016-categorie-mont-d-or-aop',\n",
       "       'Green Dot,fr:Cuit-a-l-etouffee,fr:Eco-emballages',\n",
       "       'fr:Prodotto-in-italia', 'fr:Goldener-preis-2015',\n",
       "       'Sustainable farming,UTZ Certified',\n",
       "       'Sustainable farming,UTZ Certified,UTZ Certified Cacao',\n",
       "       'Organic,EU Organic,EU/non-EU Agriculture', 'Suisse Garantie',\n",
       "       'German Agricultural Society,de:DLG Jährlich Prämiert',\n",
       "       'German Agricultural Society,Vegetarian,European Vegetarian Union,No lactose,de:Golderner-preis-2015',\n",
       "       'de:Fsc-c107745', 'Dredge fishing,Lift net fishing,Trawl fishing',\n",
       "       'Organic,Vegetarian,EU Organic,Vegan,AT-BIO-402,fr:Agriculture-autriche',\n",
       "       'Naturafarm', 'Bio', 'Organic,EU Organic,CH-BIO-006', 'fr:AOC',\n",
       "       'fr:Certifie-procert-sces-038-par-q-inspecta-gmbh',\n",
       "       'PGI,fr:Ch-igp-038', 'PDO', 'Carbon-footprint', 'PGI',\n",
       "       'Carbon footprint,Carbon-footprint',\n",
       "       'Sustainable farming,UTZ Certified,UTZ Certified Cacao,Carbon-footprint',\n",
       "       'FSC', 'Sustainable farming,UTZ Certified,Made in Swiss',\n",
       "       'Organic,Migros Bio', 'Organic,Carbon-footprint',\n",
       "       'Low or no fat,Low fat,Reduced fat,65% less fat', 'fr:Aha',\n",
       "       'No GMOs,de:Arge-bio-standard', 'fr:Utz-certified-kakao',\n",
       "       'Organic,Sustainable farming,EU Organic,UTZ Certified,DE-ÖKO-005,UTZ Certified Cacao',\n",
       "       'fr:Leger', 'Pure juice',\n",
       "       'Palm oil free,No flavour enhancer,fr:100% filet',\n",
       "       'Not advised for specific people,Green Dot,Not advised for pregnant women,With sulfites',\n",
       "       'No colorings,No preservatives,No hydrogenated fats',\n",
       "       'Green Dot,Pure cocoa butter', 'No colorings,No preservatives',\n",
       "       'fr:Createur-de-biscuits-depuis-1846,fr:Lu',\n",
       "       'High in Omega 3,Green Dot,Made in Portugal,Omega-3,fr:Eco-emballages',\n",
       "       'Green Dot,Made in France', 'Gluten-free,No Bisphenol-A',\n",
       "       'No preservatives,No artificial flavors', 'Sustainable farming',\n",
       "       'Low or no sugar,Low sugar,No preservatives,Reduced sugar,25% less sugar,Gluten-free',\n",
       "       'Green Dot,de:100-brebis,de:Eco-emballages',\n",
       "       'Green Dot,fr:Eco-emballages,fr:Nutritional-compass',\n",
       "       'Green Dot,Made in France,Pure butter,fr:Terracycle',\n",
       "       'No preservatives,Green Dot,No additives', 'No flavors',\n",
       "       'Palm oil free',\n",
       "       'Green Dot,Made in France,fr:De-75-de-lait,fr:Eco-emballages',\n",
       "       'fr:Viande Française,Green Dot,Made in France',\n",
       "       'Green Dot,Made in France,Smoked with beech wood',\n",
       "       'Gluten-free,Green Dot', 'Gluten-free,Green Dot,fr:Eco-emballages',\n",
       "       'Organic,EU Organic,Gluten-free,CH-BIO-006,Eu-non-eu-agriculture,No lactose,No milk',\n",
       "       'de:Fabrique-en-france,de:Point-vert',\n",
       "       'FSC,FSC-C020428,FSC Mix,fr:Tidy man,fr:Info-tri-point-vert',\n",
       "       'No preservatives,Green Dot,fr:48h-de-la-cueillette-a-la-brique,fr:Eco-emballages,fr:Muries-au-soleil-culture-de-plein-champ,fr:Puree-de-tomates-fraiches,fr:Sans-eau-ajoutee',\n",
       "       'Sustainable fishery,Sustainable Seafood MSC,fr:Msc-c-50354,fr:Poisson-sauvage',\n",
       "       'Sustainable fishery,Sustainable Seafood MSC,fr:Msc-c-50354',\n",
       "       'Label Rouge',\n",
       "       'No colorings,No preservatives,No artificial flavors',\n",
       "       'Low or no sugar,No colorings,No preservatives,No added sugar',\n",
       "       'Igp',\n",
       "       'Not advised for specific people,Green Dot,Not advised for pregnant women',\n",
       "       'No preservatives,Green Dot,fr:Eco-emballage',\n",
       "       'No preservatives,Green Dot', 'No preservatives', 'Vegetarian',\n",
       "       'Made in France',\n",
       "       'Vegetarian,No preservatives,Made in France,fr:Fait-avec-98-de-lait,fr:Info-tri-point-vert,fr:Sans-ajout-d-additif',\n",
       "       'Green Dot,fr:Eco-emballages', 'High in calcium,Since 1952',\n",
       "       'Incorrect data on label,Incorrect nutrition facts on label',\n",
       "       'Not advised for specific people,Not advised for pregnant women,fr:2340-fr',\n",
       "       'High in calcium,Green Dot,No lactose',\n",
       "       \"Green Dot,fr:Imprim'Vert,fr:Carton-100-recyclable\",\n",
       "       'Low or no sugar,No sugar',\n",
       "       'Green Dot,fr:Eco-emballages,fr:Viande-100-filet',\n",
       "       'fr:Viande-100-filet',\n",
       "       'Low or no salt,Low salt,Reduced salt,25% less salt,Green Dot,fr:Eco-emballages,fr:Qualite-garantie',\n",
       "       'No preservatives,Green Dot,fr:Alimentation-vegetale-minerale-et-vitamines',\n",
       "       'Not advised for specific people,Green Dot,Made in France,Not advised for pregnant women',\n",
       "       'fr:Eco-emballages,fr:Fabrique-en-normandie,fr:Lactosefrei,fr:Lait-collecte-dans-nos-fermes-selectionnees',\n",
       "       'fr:Fabrique-en-normandie',\n",
       "       'Not advised for specific people,Green Dot,Not advised for pregnant women,fr:18,fr:2340-fr,fr:Alu',\n",
       "       'Not advised for specific people,Not advised for pregnant women,fr:Drink-responsibly',\n",
       "       \"Saveurs de l'Année (France),fr:Saveurs de l'Année 2011,fr:Saveurs de l'Année 2013\",\n",
       "       'Not advised for specific people,Not advised for pregnant women',\n",
       "       'fr:Qualite-reponsable', 'fr:Qualite-responsable',\n",
       "       'Green Dot,Produced in Bretagne,fr:Alu-recyclable,fr:Eco-emballages,fr:Riche-en-omega-3-naturels',\n",
       "       'Produced in Bretagne,fr:Riche-en-omega-3-naturels',\n",
       "       'PDO,Green Dot',\n",
       "       'No preservatives,Green Dot,No artificial flavors',\n",
       "       'fr:Viande Française,Made in France,fr:Viande Bovine Française',\n",
       "       'Green Dot,fr:Convient-a-une-alimentation-sans-porc',\n",
       "       'fr:Convient-a-une-alimentation-sans-porc',\n",
       "       'fr:Eleve-en-futs-de-chene',\n",
       "       'No preservatives,No artificial colors,No artificial flavors',\n",
       "       'Green Dot,No lactose,fr:Fromagerie-a-jurancon',\n",
       "       'Low or no fat,Low fat,Reduced fat,Green Dot,fr:Tidy man',\n",
       "       'Nutriscore experiment,fr:Viande Française,2016 Nutrition labelling experiment,Nutriscore experiment Grade B,fr:Viande Bovine Française',\n",
       "       'fr:Viande Française,Green Dot,Pure beef,fr:Viande Bovine Française',\n",
       "       'Green Dot,fr:Eco-emballages,fr:Fabrique-en-normandie',\n",
       "       'No additives',\n",
       "       \"fr:Concours général agricole,fr:Médaille d'argent du Concours général agricole,fr:Médaille d'argent du concours général agricole 2015\",\n",
       "       'de:Toujours-fait-a-coeur',\n",
       "       'Palm oil free,No additives,fr:Sans-croute',\n",
       "       'Palm oil free,Green Dot,No additives,fr:Blé français,fr:Eco-emballages',\n",
       "       'PEFC,Rainforest Alliance,fr:Info-tri-point-vert,fr:Pefc-07-32-227',\n",
       "       'Organic,Certified by Ecocert,EU Organic,BE-BIO-02,Gluten-free,Green Dot',\n",
       "       'Organic,EU Organic,Palm oil free,fr:AB Agriculture Biologique',\n",
       "       'Organic,EU Organic,Green Dot,fr:AB Agriculture Biologique',\n",
       "       'Organic,EU Organic,No colorings,No preservatives,NL-BIO-01,fr:AB Agriculture Biologique',\n",
       "       'Organic,Certified by Ecocert,EU Organic,fr:AB Agriculture Biologique',\n",
       "       'Nutriscore experiment,2016 Nutrition labelling experiment,fr:Experimentation-nutriscore-0',\n",
       "       'Nutriscore experiment,2016 Nutrition labelling experiment,Nutriscore experiment Grade C,fr:Experimentation-nutriscore-maison-laffitte-0,fr:Experimentation-nutriscore-rouvroy-c',\n",
       "       'Distributor labels,fr:Testé par le panel test Carrefour',\n",
       "       'fr:Oeufs-fermiers-de-loue', 'fr:Viande Française,French pork',\n",
       "       'Not advised for specific people,Green Dot,Not advised for pregnant women,fr:Vigneron-independant',\n",
       "       'Distributor labels,High proteins,Green Dot,fr:Riche en fibres,fr:Sélection Intermarché,fr:Eco-emballages',\n",
       "       'Distributor labels,Not advised for specific people,Not advised for pregnant women,fr:Selection-les-mousquetaires',\n",
       "       'Cooked in France,Green Dot,Packaged in France',\n",
       "       'Cooked in France',\n",
       "       'No preservatives,Pure cocoa butter,fr:Au-levain,fr:Riche-en-cereales',\n",
       "       'No preservatives,Green Dot,fr:Eco-emballages',\n",
       "       'fr:Tidy man,fr:Info-tri-point-vert',\n",
       "       \"No colorings,No preservatives,Saveurs de l'Année (France),Green Dot,No flavour enhancer,fr:Saveurs de l'Année 2013,fr:Eco-emballages\",\n",
       "       'PDO,fr:Medaille-d-or-au-concours-international-gilbert-gaillard',\n",
       "       'Sustainable fishery,Green Dot,Made in France,Sustainable Seafood MSC,fr:Msc-c-50286',\n",
       "       'Green Dot,fr:Decouenne-degraisse,fr:Eco-emballages,fr:Porc-origine-ue',\n",
       "       'Green Dot,fr:Tidy man,fr:Sans-nitrates',\n",
       "       'Distributor labels,fr:Origine France,fr:Testé par le panel test Carrefour,fr:Oeufs-issus-d-animaux-nourris-sans-ogm-0-9,fr:Pondus-et-conditionnes-en-france',\n",
       "       'No colorings,No preservatives,Green Dot,No additives,fr:Eco-emballages',\n",
       "       'No preservatives,No flavors', 'fr:Light',\n",
       "       'Low or no fat,Low fat,Reduced fat,Green Dot', 'No GMOs',\n",
       "       'High proteins,Rich in vegetable protein,Gluten-free,fr:Soja Français,fr:Garantie-eau-de-source',\n",
       "       'Calcium source,High proteins,Rich in vegetable protein,Gluten-free,fr:Soja Français,fr:Garantie-eau-de-source,fr:Info-tri-point-vert',\n",
       "       'Vegetarian,Gluten-free,No GMOs',\n",
       "       'Vegetarian,Vegan,Gluten-free,No GMOs',\n",
       "       'Gluten-free,Green Dot,Made in France,No GMOs,fr:Soja Français,fr:Soja Français sans OGM',\n",
       "       'Vegetarian,Vegan,100% vegetable,Calcium source,Gluten-free,Green Dot,No GMOs,No lactose,es:Bajo-en-grasas-saturadas,es:Fuente-de-proteinas-vegetales',\n",
       "       'Sustainable fishery,Sustainable Seafood MSC',\n",
       "       'Produced in Bretagne',\n",
       "       'No colorings,No preservatives,Green Dot,No flavour enhancer,Produced in Bretagne,fr:Tidy man,fr:St-jacques-100-noix',\n",
       "       'No colorings,Green Dot,No flavour enhancer,Produced in Bretagne',\n",
       "       'Organic,EU Organic,Eu-non-eu-agriculture,FR-BIO-09,Pure butter,fr:AB Agriculture Biologique',\n",
       "       'Not advised for specific people,Green Dot,Not advised for pregnant women,With sulfites,fr:Cuvee-speciale-2007',\n",
       "       'Low or no sugar,No colorings,No preservatives,No added sugar,No aspartame,Without sweeteners',\n",
       "       'No preservatives,Nutriscore experiment,fr:Viande Française,Palm oil free,2016 Nutrition labelling experiment,Nutriscore experiment Grade B,fr:Viande Bovine Française,fr:Experimentation-nutriscore-maison-laffitte-0,fr:Experimentation-nutriscore-rouvroy-b',\n",
       "       'No colorings,No preservatives,Nutriscore experiment,fr:Viande Française,Palm oil free,2016 Nutrition labelling experiment,Gluten-free,No artificial flavors,Nutriscore experiment Grade B,fr:Afdiag,fr:Viande Bovine Française',\n",
       "       'No colorings,Palm oil free,Gluten-free,No artificial flavors,No hydrogenated fats',\n",
       "       'fr:Crepes,fr:Fr',\n",
       "       'Organic,EU Organic,Eu-non-eu-agriculture,FR-BIO-01,Green Dot,Produced in Bretagne,fr:AB Agriculture Biologique',\n",
       "       'fr:Info-tri-point-vert',\n",
       "       'fr:Viande Française,Cooked in France,French pork,fr:Info-tri-point-vert,fr:Porc-ne-eleve-prepare-en-france,fr:Recette-sans-additif-ajoute',\n",
       "       'No colorings,No preservatives,fr:Sans-huiles-vegetales-hydrogenees',\n",
       "       'No preservatives,No flavour enhancer,No MSG',\n",
       "       'Green Dot,Packaged in France', 'Organic,Gluten-free,fr:K',\n",
       "       'Organic,Vegetarian,EU Organic,Vegan,Non-EU Agriculture,High proteins,FR-BIO-01,fr:AB Agriculture Biologique,fr:Riche en fibres',\n",
       "       'Organic,High proteins,Green Dot,fr:Riche en fibres,fr:Agriculture-france',\n",
       "       'No colorings,No preservatives,No added sugar',\n",
       "       'Green Dot,fr:Tidy man,fr:Gruner-punkt',\n",
       "       'Organic,EU Organic,EU/non-EU Agriculture,FR-BIO-01,Made in France,fr:AB Agriculture Biologique',\n",
       "       'Kosher,Green Dot,Made in France',\n",
       "       'Green Dot,Lait-francais,Made in France,fr:Fabrique-en-normandie',\n",
       "       'Low or no fat,Low fat,Reduced fat,Made in France,Pure pork',\n",
       "       'Green Dot,Label Rouge',\n",
       "       'No colorings,No preservatives,Green Dot,No artificial flavors',\n",
       "       'fr:La-marque-n-1-de-vins-francais-dans-le-monde',\n",
       "       'Not advised for specific people,Made in France,Not advised for pregnant women,With sulfites,fr:AOC,fr:Origine France',\n",
       "       'Tooth-health related labels,fr:Union française pour la santé bucco-dentaire',\n",
       "       \"fr:Concours général agricole,PDO,fr:Médaille d'argent du Concours général agricole,fr:Médaille d'argent du concours général agricole 2014\",\n",
       "       'No colorings,No preservatives,fr:Sans-aretes',\n",
       "       'Made in France,Pure butter', 'Green Dot,fr:Tidy man',\n",
       "       'Distributor labels,Green Dot,Lait Français (French milk),fr:Testé par le panel test Carrefour,fr:Eco-emballages',\n",
       "       'Green Dot,Produced in Bretagne', 'Class I,Green Dot',\n",
       "       'Calcium-source,Green Dot,New',\n",
       "       'fr:Viande Française,fr:Viande Porcine Française',\n",
       "       'Green Dot,fr:Tidyman-wastebasket', 'No added sugar',\n",
       "       'Organic,EU Organic,EU Agriculture,FR-BIO-01,Green Dot,fr:AB Agriculture Biologique,fr:Eco-emballages,fr:Fabrique-en-normandie',\n",
       "       'Fair trade,Organic,EU Organic,FSC,Max Havelaar,Carbon footprint,CH-BIO-006,Fairtrade International,FSC-C010395,FSC Mix,Carbon-footprint',\n",
       "       'Fair trade,Organic,Sustainable Palm Oil,EU Organic,Roundtable on Sustainable Palm Oil,DE-ÖKO-001,RSPO Segregated,fr:AB Agriculture Biologique,fr:Rspo-1106150',\n",
       "       'World Beer Awards,fr:Wba,fr:Wba-11',\n",
       "       'Green Dot,Made in Italy,fr:Eco-emballages',\n",
       "       'Organic,EU Organic,EU Agriculture,FR-BIO-01,Green Dot,fr:AB Agriculture Biologique',\n",
       "       'Green Dot,Made in France,Pure butter',\n",
       "       'Pure cocoa butter,fr:69-de-cacao',\n",
       "       'Fair trade,Organic,EU Organic,Non-EU Agriculture,FR-BIO-01,Made in France,No lecithine,Pure cocoa butter,fr:AB Agriculture Biologique',\n",
       "       'Organic,EU Organic,fr:AB Agriculture Biologique,fr:Bio-inspecta',\n",
       "       'Organic,EU Organic,No colorings,No preservatives,New,fr:AB Agriculture Biologique,fr:Bio-inspecta',\n",
       "       'Organic,EU Organic,EU/non-EU Agriculture,FR-BIO-01,Gluten-free,Green Dot,Made in France,No eggs,Pure butter,fr:AB Agriculture Biologique',\n",
       "       'Organic,EU Organic,FR-BIO-10,Made in France,fr:AB Agriculture Biologique',\n",
       "       'Organic,Ecocert,EU Organic,FR-BIO-01,Green Dot,Non-eu-agriculture,fr:AB Agriculture Biologique',\n",
       "       'Organic,EU Organic,FSC,Non-EU Agriculture,Carbon compensated product,CH-BIO-006,FR-BIO-01,FSC Mix,Gluten-free,Green Dot,fr:AB Agriculture Biologique,fr:My-climate',\n",
       "       'de:Categorie-i', 'fr:Cocoa-plan',\n",
       "       'No colorings,No preservatives,No flavour enhancer',\n",
       "       'de:Riche-en-proteines', 'EAC', 'Gruner-punkt', 'Made in Germany',\n",
       "       'Vegetarian,Vegan,Green Dot', 'Point-vert',\n",
       "       'Halal,Vegetarisch,Vegetarien',\n",
       "       'EAC,Green Dot,fr:Conformite-eurasienne', 'Vegetarian,Halal',\n",
       "       'Vegetarian,Green Dot',\n",
       "       'German Agricultural Society,Vegetarian,de:Dlg-pramiert-2014',\n",
       "       'fr:Dlg-goldener-preis-2014',\n",
       "       'Organic,EU Organic,DE-ÖKO-006,de:Agriculture-ue,de:Bio-europeen,de:Point-vert,de:Vegetalien,de:Vegetarien',\n",
       "       'Fair trade,Organic,Vegetarian,EU Organic,Vegan,DE-ÖKO-006,Fairtrade International',\n",
       "       'Organic,Gluten-free,fr:Aha',\n",
       "       'Organic,Vegetarian,Vegan,Biodynamic agriculture,Demeter',\n",
       "       \"Saveurs de l'Année (France),fr:Saveurs de l'Année 2016\",\n",
       "       'Vegetarian,European Vegetarian Union',\n",
       "       'No preservatives,No artificial colors',\n",
       "       'fr:Punto-verde,fr:Vegano,fr:Vegetariano', 'New recipe',\n",
       "       'Organic,Vegetarian,EU Organic,Vegan,DE-ÖKO-007,Eu-non-eu-agriculture',\n",
       "       'Organic,EU Organic', 'de:Point-vert',\n",
       "       'Organic,EU Organic,GR-BIO-01,Agriculture-non-ue,Bio,Bio-europeen,Point-vert',\n",
       "       'Organic,EU Organic,EU/non-EU Agriculture,DE-ÖKO-003,Gluten-free',\n",
       "       'Organic,Vegetarian,EU Organic,Vegan,DE-ÖKO-013,de:Agriculture-ue-non-ue,de:Bio-europeen,de:Sans-ogm,de:Vegetalien,de:Vegetarien',\n",
       "       'Low or no sugar,Green Dot,No sugar',\n",
       "       'Organic,EU Organic,DE-ÖKO-001',\n",
       "       'Not advised for specific people,Not advised for pregnant women,fr:Gruner-punkt',\n",
       "       'Organic,EU Organic,DE-ÖKO-013,fr:Bio-7-initiative,fr:Eg-oko-verordnung,fr:Eu-oko-verordnung',\n",
       "       'Organic,EU Organic,de:Bio 7 Initiative,de:EG-Öko-Verordnung,DE-ÖKO-001',\n",
       "       'Organic,Vegetarian,EU Organic,FSC,Vegan,de:EG-Öko-Verordnung,EU/non-EU Agriculture,DE-ÖKO-007,FSC-C081801,No alcohol',\n",
       "       'Organic,EU Organic,de:Bio 7 Initiative,DE-ÖKO-001',\n",
       "       'fr:Bio-7-initiative',\n",
       "       'Organic,Vegetarian,EU Organic,Vegan,de:EG-Öko-Verordnung,Bioland,DE-ÖKO-001,de:Okologische',\n",
       "       'Organic,EU Organic,de:Bio 7 Initiative,de:EG-Öko-Verordnung,EU/non-EU Agriculture,DE-ÖKO-013',\n",
       "       'Organic,EU Organic,IT-BIO-007,Bio,Bio-7-initiative,Eu-oko-verordnung',\n",
       "       'Organic,EU Organic,DE-ÖKO-013,fr:Bio-7-initiative,fr:Eg-oko-verordnung',\n",
       "       'Organic,Vegetarian,EU Organic,Vegan,DE-ÖKO-001',\n",
       "       'Organic,de:Bio 7 Initiative',\n",
       "       'Organic,EU Organic,de:Bio 7 Initiative,de:EG-Öko-Verordnung,EU Agriculture,DE-ÖKO-006',\n",
       "       'Organic,EU Organic,de:Bio 7 Initiative,DE-ÖKO-006',\n",
       "       'Organic,EU Organic,DE-ÖKO-001,fr:Bio7-initiative',\n",
       "       'Organic,Vegetarian,EU Organic,Vegan,de:Bio 7 Initiative',\n",
       "       'Organic,EU Organic,DE-ÖKO-003,No GMOs,de:Philippinische-landwirtschaft',\n",
       "       'Organic,de:Vegetalien,de:Vegetarien',\n",
       "       'Organic,EU Organic,de:Bio 7 Initiative,de:EG-Öko-Verordnung,FR-BIO-01',\n",
       "       'Organic,Vegetarian,EU Organic,Vegan,de:Bio 7 Initiative,de:EG-Öko-Verordnung,IT-BIO-007',\n",
       "       'Organic,EU Organic,de:EG-Öko-Verordnung,IT-BIO-006',\n",
       "       'Organic,EU Organic,EU/non-EU Agriculture,DE-ÖKO-001',\n",
       "       'Organic,Vegetarian,EU Organic,Vegan,de:Bio 7 Initiative,IT-BIO-007',\n",
       "       'Organic,Vegetarian,EU Organic,Vegan,de:Bio 7 Initiative,de:EG-Öko-Verordnung,EU Agriculture,DE-ÖKO-024',\n",
       "       'Organic,Vegetarian,EU Organic,Vegan,de:Bio 7 Initiative,DE-ÖKO-024',\n",
       "       'Organic,Vegetarian,EU Organic,Vegan,de:Bio 7 Initiative,de:EG-Öko-Verordnung,Bioland,DE-ÖKO-001',\n",
       "       'Organic,EU Organic,EU Agriculture,Biokreis,NL-BIO-01,No GMOs',\n",
       "       'Organic,de:Bio 7 Initiative,de:Lk-bio-149',\n",
       "       'Organic,Vegetarian,EU Organic,Vegan,de:EG-Öko-Verordnung,EU Agriculture,DE-ÖKO-024',\n",
       "       'Organic,Vegetarian,EU Organic,Vegan,de:Bio 7 Initiative,de:EG-Öko-Verordnung,Bioland,DE-ÖKO-024,The Vegan Society',\n",
       "       'Organic,Vegetarian,EU Organic,Vegan,de:Bio 7 Initiative,de:Deutsches Bio-Siegel,DE-ÖKO-013',\n",
       "       'Organic,fr:Bio-7-initiative',\n",
       "       'Organic,Vegetarian,EU Organic,Vegan,DE-ÖKO-001,Eg-oko-verordnung',\n",
       "       'Organic,Vegetarian,EU Organic,FSC,Vegan,de:Bio 7 Initiative,de:EG-Öko-Verordnung,DE-ÖKO-001,FSC-C107894,FSC Mix,The Vegan Society',\n",
       "       'Organic,EU Organic,Non-EU Agriculture,DE-ÖKO-001,No GMOs',\n",
       "       'Organic,Vegetarian,EU Organic,Vegan,de:EG-Öko-Verordnung,EU/non-EU Agriculture,DE-ÖKO-001',\n",
       "       'Organic,EU Organic,EU/non-EU Agriculture,NL-BIO-01,fr:Bio-allemand',\n",
       "       'Organic,EU Organic,de:Bio 7 Initiative,de:EG-Öko-Verordnung,Gluten-free,NL-BIO-01',\n",
       "       'Organic,EU Organic,de:Bio 7 Initiative,de:EG-Öko-Verordnung,Bioland,DE-ÖKO-001',\n",
       "       'Organic,Vegetarian,EU Organic,Vegan,de:Bio 7 Initiative,de:EG-Öko-Verordnung,BE-BIO-02',\n",
       "       'Organic,EU Organic,de:Bio 7 Initiative,de:Deutsches Bio-Siegel,Biodynamic agriculture,DE-ÖKO-006,Demeter',\n",
       "       'Organic,EU Organic,FSC,de:Bio 7 Initiative,DE-ÖKO-001,de:Fsc-c022873',\n",
       "       'Organic,EU Organic,de:EG-Öko-Verordnung,DE-ÖKO-006',\n",
       "       'Organic,EU Organic,de:Bio 7 Initiative,de:EG-Öko-Verordnung,EU/non-EU Agriculture,DE-ÖKO-001',\n",
       "       'Organic,EU Organic,DE-ÖKO-001,fr:Bio-7-initiative,fr:Eg-oko-verordnung,fr:Eu-oko-verordnung',\n",
       "       'Organic,EU Organic,de:Bio 7 Initiative,EU/non-EU Agriculture,DE-ÖKO-001',\n",
       "       'Organic,de:Bio 7 Initiative,de:EG-Öko-Verordnung',\n",
       "       'Organic,EU Organic,DE-ÖKO-001,fr:Eg-oko-verordnung,fr:Eu-oko-verordnung,fr:Geschutzte-geografische-angabe',\n",
       "       'Organic,Vegetarian,EU Organic,Vegan,de:Bio 7 Initiative,de:EG-Öko-Verordnung,CH-BIO-006,The Vegan Society',\n",
       "       'Organic,EU Organic,de:Bio 7 Initiative,BE-BIO-01',\n",
       "       'Organic,EU Organic,AT-BIO-901',\n",
       "       'Organic,Vegetarian,EU Organic,Vegan,de:Bio 7 Initiative,IT-BIO-005',\n",
       "       'Organic,Vegetarian,EU Organic,Vegan,DE-ÖKO-007,The Vegan Society,fr:Bio-7-initiative,fr:Eg-oko-verordnung',\n",
       "       'Organic,Vegetarian,EU Organic,Vegan,de:EG-Öko-Verordnung,EU/non-EU Agriculture,DE-ÖKO-007',\n",
       "       'Organic,Vegetarian,EU Organic,Vegan,de:Bio 7 Initiative,de:EG-Öko-Verordnung,AT-BIO-301,The Vegan Society',\n",
       "       'Organic,EU Organic,DE-ÖKO-001,Gluten-free,No milk,de:Rumanische-landwirtschaft,de:Ohne-zuckerusatz',\n",
       "       'Organic,EU Organic,de:Bio 7 Initiative,No added sugar,Biodynamic agriculture,DE-ÖKO-001,Demeter,No milk,de:Deutsche-landwirtschaft,de:Glutenhaltig',\n",
       "       'Organic,EU Organic,de:Bio 7 Initiative,de:EG-Öko-Verordnung,EU/non-EU Agriculture,DE-ÖKO-001,de:Ungesusst',\n",
       "       'Organic,EU Organic,de:Bio 7 Initiative,DE-ÖKO-006,de:Bio-europeen,de:Vegetalien,de:Vegetarien',\n",
       "       'Organic,Vegetarian,EU Organic,Vegan,de:Bio 7 Initiative,de:EG-Öko-Verordnung,AT-BIO-301,The Vegan Society,de:Osterreichische-landwirtschaft',\n",
       "       'Organic,Vegetarian,Vegan,The Vegan Society,fr:Bio-7-initiative,fr:Eg-oko-verordnung,fr:Vegetarisch',\n",
       "       'Organic,EU Organic,de:Bio 7 Initiative,de:EG-Öko-Verordnung,DE-ÖKO-013',\n",
       "       'Vegetarian,Vegan,The Vegan Society,fr:Vegetarisch',\n",
       "       'Organic,Vegetarian,EU Organic,FSC,Vegan,DE-ÖKO-013,FSC-C014047,FSC Mix,The Vegan Society,fr:Bio-7-initiative,fr:Eg-oko-verordnung,fr:Eu-oko-verordnung,fr:Vegetarisch',\n",
       "       'Vegetarian,Vegan',\n",
       "       'Organic,Vegetarian,EU Organic,FSC,Vegan,de:Bio 7 Initiative,de:EG-Öko-Verordnung,EU/non-EU Agriculture,DE-ÖKO-001,FSC-C107894',\n",
       "       'Organic,EU Organic,de:Bio 7 Initiative,de:EG-Öko-Verordnung,IT-BIO-006',\n",
       "       'Organic,EU Organic,DE-ÖKO-001,fr:Bio-7-initiative',\n",
       "       'Bio,Vegetalien', 'Organic,Bio-7-initiative',\n",
       "       'Organic,Vegetarian,EU Organic,Vegan,de:Bio 7 Initiative,de:EG-Öko-Verordnung,DE-ÖKO-001',\n",
       "       'Organic,Vegetarian,EU Organic,Vegan,de:EG-Öko-Verordnung,NL-BIO-01',\n",
       "       'Organic,EU Organic,DE-ÖKO-013',\n",
       "       'Organic,Vegetarian,EU Organic,Vegan,DE-ÖKO-006',\n",
       "       'Organic,Vegetarian,EU Organic,Vegan,de:Bio 7 Initiative,de:EG-Öko-Verordnung,Bioland,DE-ÖKO-006,The Vegan Society',\n",
       "       'Organic,EU Organic,FSC,de:Bio 7 Initiative,DE-ÖKO-006,FSC-C014047,FSC Mix',\n",
       "       'Organic,EU Organic,de:Bio 7 Initiative,AT-BIO-301',\n",
       "       'Organic,Vegetarian,EU Organic,Vegan,DE-ÖKO-006,fr:Bio7-initiative,fr:Eu-landwirtschaft,fr:Eu-oko-verordnung,fr:Vegetarisch',\n",
       "       'Organic,EU Organic,de:Bio 7 Initiative,DE-ÖKO-013',\n",
       "       'Organic,EU Organic,de:Bio 7 Initiative,EU/non-EU Agriculture,NL-BIO-01',\n",
       "       'Organic,FSC,FSC-C014047,FSC Mix,fr:Bio-7-initiative',\n",
       "       'Organic,EU Organic,de:Bio 7 Initiative,de:EG-Öko-Verordnung,Biodynamic agriculture,DE-ÖKO-001,Demeter',\n",
       "       'Organic,Vegetarian,EU Organic,Vegan,de:Bio 7 Initiative,DE-ÖKO-013',\n",
       "       'Organic,Vegetarian,EU Organic,Vegan,EU/non-EU Agriculture,DE-ÖKO-003',\n",
       "       'Organic,EU Organic,DE-ÖKO-001,fr:Bio-7-initiative,fr:Eu-oko-verordnung',\n",
       "       'Organic,EU Organic,DE-ÖKO-001,fr:Bio-7-initiative,fr:Eg-oko-verordnung',\n",
       "       'Organic,Vegetarian,EU Organic,Vegan,de:Bio 7 Initiative,de:Deutsches Bio-Siegel,DE-ÖKO-006',\n",
       "       'Organic,EU Organic,de:Bio 7 Initiative,DE-ÖKO-009,Eu-agriculture',\n",
       "       'Organic,EU Organic,PL-EKO-07,fr:Bio-7-initiative,fr:Eg-oko-verordnung',\n",
       "       'Organic,EU Organic,de:Deutsches Bio-Siegel,de:EG-Öko-Verordnung,DE-ÖKO-001',\n",
       "       'Organic,EU Organic,EU Agriculture,DE-ÖKO-001,fr:Eg-oko-verordnung',\n",
       "       'Organic,Vegetarian,EU Organic,Vegan,de:Bio 7 Initiative,de:EG-Öko-Verordnung,DE-ÖKO-001,The Vegan Society',\n",
       "       'Organic,Vegetarian,EU Organic,Vegan,de:Bio 7 Initiative,EU/non-EU Agriculture,DE-ÖKO-001',\n",
       "       'Organic,Vegetarian,Vegan,Vegan Society,fr:Bio-7-initiative,fr:Eg-oko-verordnung,fr:Vegetarisch',\n",
       "       'Organic,Vegetarian,EU Organic,Vegan,DE-ÖKO-007,The Vegan Society,fr:Bio-7-initiative',\n",
       "       'Organic,Pure juice',\n",
       "       'Vegetarian,Vegan,Gluten-free,No GMOs,No soy',\n",
       "       'Vegetarian,Vegan,fr:Europaische-vegetarier-union,fr:Europaische-vegetarier-union-vegan,fr:Gruner-punkt,fr:Vegetarisch',\n",
       "       'Organic,Vegetarian,EU Organic,Vegan,GB-ORG-05,Gluten-free,Green Dot',\n",
       "       'Vegetarian,No preservatives,No artificial colors', 'New',\n",
       "       'Halal,Halal Food Authority,Beth-din-de-londres,Kascher,Point-vert,Vegetarien',\n",
       "       'Sustainable farming,UTZ Certified,Green Dot,UTZ Certified Cacao',\n",
       "       'Not advised for specific people,Not advised for pregnant women,fr:By-appointment-to-her-majesty-the-queen',\n",
       "       'Green Dot,fr:Classic-malts-of-scotland,fr:Tidyman-recycle',\n",
       "       'Sans-arome-artificiel,Sans-colorant-artificiel,Sans-matiere-grasse-hydrogenee',\n",
       "       'de:Point-vert,de:Sans-aromes-artificiels,de:Sans-colorants,de:Sans-colorants-ni-aromes-artificiels',\n",
       "       'de:Point-vert,de:Vegetarien',\n",
       "       '100% natural,Green Dot,fr:Riche en fibres',\n",
       "       'Point-vert,Vegetarien',\n",
       "       'Vegetarian,No colorings,No preservatives,No artificial flavors',\n",
       "       'fr:The-world-s-finest-bourbon',\n",
       "       'Low or no salt,FSC,No colorings,No preservatives,No added salt,No GMOs',\n",
       "       'Low or no sugar,Organic,Certified by Ecocert,EU Organic,FSC,No added sugar,FR-BIO-01,GB-ORG-05,Soil Association Organic,fr:AB Agriculture Biologique',\n",
       "       'Non-chill-filtered', 'Organic,Kosher,No additives',\n",
       "       'Rainforest Alliance', 'Vegetarian,Vegan,Vegetarisch',\n",
       "       'Fair trade,Fairtrade International',\n",
       "       'Vegetarian,Kosher,Vegan,Orthodox Union Kosher',\n",
       "       'Low or no sugar,FSC,100% natural,No added sugar,FSC-C014047,FSC Mix',\n",
       "       'FSC,FSC Mix', 'FSC,FSC-C095196,FSC Mix,de:Nouveau',\n",
       "       'No hydrogenated fats', 'fr:Riche en fibres',\n",
       "       'German Agricultural Society,de:Dlg-pramiert-2014',\n",
       "       'Fabrique-dans-l-ue,Vegetarien',\n",
       "       'nl:Sans-huile-de-palme,nl:Vegetalien,nl:Vegetarien',\n",
       "       'Vegetarian,Vegan,fr:Gruner-punkt,fr:Vegetarisch',\n",
       "       'Vegetarian,Vegan,Gluten-free,Wheat-free',\n",
       "       'No colorings,No preservatives,fr:Sans-extrait',\n",
       "       'Organic,PDO,Green Dot,fr:Eco-emballages,fr:London-golden-world-cheese-award-2005',\n",
       "       'fr:Fabrique-en-grece', 'Low or no sugar,Low sugar,Reduced sugar',\n",
       "       'No colorings,No preservatives,Green Dot',\n",
       "       'Vegetarian,Green Dot,fr:Tidyman-wastebasket',\n",
       "       'Europaische-vegetarier-union-vegan,Gruner-punkt', 'es:Kascher',\n",
       "       'Pure butter', 'Gluten-free', 'fr:Sans-agent-de-blanchiment',\n",
       "       'Not advised for specific people,Authentic Trappist Product,Not advised for pregnant women',\n",
       "       'es:Consigne,es:Deconseille-aux-femmes-enceintes,es:Produit-trappiste-authentique,es:Statiegeld,es:Vegetalien,es:Vegetarien',\n",
       "       'Authentic Trappist Product',\n",
       "       'Organic,Vegetarian,EU Organic,FSC,Vegan,FSC-C014047,Gluten-free,No lactose,fr:AB Agriculture Biologique',\n",
       "       'Vegetarian,FSC,Vegan,fr:Glutenfrei,fr:Lactosefrei,fr:Vegetarisch',\n",
       "       'Vegetarian,FSC,Vegan,European Vegetarian Union,European Vegetarian Union Vegan,FSC-C014047,Gluten-free,Green Dot,No GMOs,de:Kuhmilcheiweissfrei',\n",
       "       'Vegetarian,FSC,Vegan,FSC-C014047,No lactose',\n",
       "       'Not advised for specific people,Green Dot,Not advised for pregnant women,fr:Consigne-be,fr:Consigne-nl-0-10,fr:Tidyman-wastebasket',\n",
       "       'fr:Belgian-family-brewers,fr:Consigne', 'Organic,Gluten-free',\n",
       "       'Gluten-free,fr:Riche en fibres',\n",
       "       'Organic,EU Organic,BE-BIO-01,Gluten-free',\n",
       "       'Low or no sugar,Low sugar,Reduced sugar,30% less sugar,fr:30-de-calories',\n",
       "       'Low or no sugar,Low sugar,No colorings,No preservatives,Reduced sugar,30% less sugar',\n",
       "       'Low or no sugar,Low sugar,No colorings,No preservatives,Reduced sugar,Made in France,Natural flavors',\n",
       "       'Made in Swiss',\n",
       "       'Low or no sugar,Low sugar,Reduced sugar,No caffeine,No sugar',\n",
       "       'Made in Italy,With sweeteners',\n",
       "       'de:Peche-durable,de:Peche-durable-msc',\n",
       "       'Low or no salt,Low or no sugar,Organic,Palm-oil-free',\n",
       "       'fr:Fabricado-em-portugal', 'Green Dot,Made in Portugal',\n",
       "       'Dolphin Safe', '100% natural', 'Fabrique-au-portugal',\n",
       "       'Incorrect data on label,Incorrect nutrition facts on label,Green Dot',\n",
       "       'No colorings,No preservatives,fr:Portugal-sou-eu',\n",
       "       'Made in Portugal,fr:28-medailles-d-or,fr:Medaille-d-or,fr:Produto-de-portugal,fr:Winner-of-more-than-32-medals-monde-selection',\n",
       "       'Low or no fat,High proteins,Gluten-free,No fat',\n",
       "       'fr:Europaische-vegetarier-union-vegan', 'Fair trade',\n",
       "       'Fair trade,Fairtrade International,Green Dot',\n",
       "       'fr:Ch-043-001,fr:Certifie-sans-gluten-par-coeliac-uk,fr:Glutenfrei',\n",
       "       'Not advised for specific people,Green Dot,Not advised for pregnant women,fr:AOC',\n",
       "       'Sustainable farming,UTZ Certified,fr:Utz-certified-kakao',\n",
       "       'Not advised for specific people,Green Dot,Not advised for pregnant women,fr:Recycle,fr:Tidyman-wastebasket,no:Skatteklasse-d',\n",
       "       'es:Deconseille-aux-femmes-enceintes,es:Deconseille-a-certaines-categories-de-personnes,es:No-car,es:Point-vert,es:Tidyman-recycle',\n",
       "       'Green Dot,Made in Swiss',\n",
       "       'No colorings,fr:Sans-ajout-d-exhausteur-de-gout',\n",
       "       'fr:Nachhaltige-fischerei,fr:Zertifizierte-nachhaltige-fischerei-msc',\n",
       "       'FSC,FSC-C014047', 'New,fr:Sans-ble', 'EAC,Green Dot,fr:Tidy man',\n",
       "       'EAC,Green Dot,No artificial additives,No artificial flavors,fr:Tidy man,fr:Contient-de-l-alcool',\n",
       "       'Low or no sugar,No added sugar',\n",
       "       'EAC,Green Dot,fr:Tidy man,fr:Conformite-eurasienne',\n",
       "       'de:Migros \"Aus der Region\"',\n",
       "       'Sustainable farming,Sustainable Palm Oil,UTZ Certified,UTZ Certified Cacao',\n",
       "       'FSC,100-natural,FSC-C014047,fr:Fabrique-en-suisse', 'de:Pur-jus',\n",
       "       'Green Dot,fr:Riche en fibres',\n",
       "       'No colorings,No preservatives,With sweeteners',\n",
       "       'de:Oeufs-de-ponte-au-sol',\n",
       "       'de:Avec-edulcorants,de:Peu-ou-pas-de-matiere-grasse,de:Sans-matiere-grasse',\n",
       "       'fr:Utz-certified-kaffee',\n",
       "       'Sustainable farming,UTZ Certified,fr:Utz-certified-kaffee',\n",
       "       'Vegetarian,Vegan,European Vegetarian Union',\n",
       "       'fr:Gruner-punkt,fr:Utz-certified-kakao',\n",
       "       'Sustainable farming,UTZ Certified,Gluten-free,fr:Aha',\n",
       "       'Fair trade,Max Havelaar', 'Vegetarian,Vegan,fr:Riche en fibres',\n",
       "       'fr:Vendange-a-la-main', 'No lactose', 'Gluten-free,fr:Sans-ble',\n",
       "       'Vegetarian,Vegan,Carbon-footprint',\n",
       "       'Vegetarian,Carbon footprint,European Vegetarian Union,Carbon-footprint',\n",
       "       'Sustainable farming,UTZ Certified,UTZ Certified Coffee',\n",
       "       'Gluten-free,No lactose,fr:Aha', 'Vegetarian,FSC,FSC Mix',\n",
       "       'Natural flavors',\n",
       "       'Low or no fat,Low fat,Reduced fat,50% less fat,fr:50-de-calories',\n",
       "       'Organic,EU Organic,CH-BIO-006,fr:M-bio,Carbon-footprint',\n",
       "       'FSC,FSC-C020428,FSC Mix,No lactose', 'Gluten-free,fr:Aha',\n",
       "       'With sulfites', 'PDO,fr:Sel-des-alpes',\n",
       "       'Organic,Vegetarian,EU Organic,Vegan,CH-BIO-006,No milk,fr:AB Agriculture Biologique',\n",
       "       'EAC,Green Dot',\n",
       "       'Green Dot,Made in Swiss,fr:Chocolats-suisses,fr:Extra-fin',\n",
       "       'Sustainable farming,Green Dot', 'FSC,Suisse Garantie', 'Kosher',\n",
       "       'Fair trade,Organic,EU Organic,CH-BIO-006,Fairtrade International',\n",
       "       'FSC,de:Migros \"Aus der Region\"',\n",
       "       'No preservatives,Green Dot,No flavour enhancer',\n",
       "       'Low or no sugar,No sugar,With sweeteners',\n",
       "       'Low or no sugar,No sugar,fr:Zahnfreundlich',\n",
       "       'Organic,fr:Bourgeon-bio',\n",
       "       'Fair trade,Organic,EU Organic,FSC,CH-BIO-006,Fairtrade International,FSC Mix',\n",
       "       'Lacto-vegetarian,Organic,Ovo-vegetarian,Ovo-lacto-vegetarian',\n",
       "       'Organic,Bio Suisse,Naturaplan',\n",
       "       'Fair trade,Max Havelaar,xx:Bio,xx:Bourgeon-bio',\n",
       "       'Organic,Bio Suisse,fr:Bourgeon-bio-suisse', 'fr:Betty-bossi',\n",
       "       'Organic,fr:Bourgeon-de-reconversion',\n",
       "       'Organic,fr:Bourgeon-bio-suisse', 'Made in Italy',\n",
       "       'Organic,EU Organic,CH-BIO-006,Made in Italy',\n",
       "       'Fair trade,Organic,Max Havelaar,fr:Bourgen-bio',\n",
       "       'Organic,FSC,Bio Suisse,fr:Bourgeon-bio-suisse',\n",
       "       'Fair trade,Organic,Fairtrade International',\n",
       "       'Organic,FSC,fr:Bourgeon-bio',\n",
       "       'Fair trade,Organic,Max Havelaar,fr:Bourgeon-bio',\n",
       "       'Organic,Vegetarian,European Vegetarian Union,fr:Bourgeon-bio',\n",
       "       'fr:Europaische-vegetarier-union', 'fr:Bio-suisse-naturaplan',\n",
       "       'Europaische-vegetarier-union', 'fr:Lactosefrei', 'Pro Montagna',\n",
       "       'Fair trade,Organic,Max Havelaar,Fairtrade International,fr:Bourgeon-bio',\n",
       "       'Organic,Vegetarian,Vegan,No lactose,fr:Bourgeon-bio',\n",
       "       'Organic,Vegetarian,FSC,Vegan,FSC Mix,fr:Fsc-c105569',\n",
       "       'Organic,Vegetarian,Vegan,fr:Bourgeon-bio',\n",
       "       'Organic,fr:Max-havelaar-suisse',\n",
       "       'Fair trade,Max Havelaar,fr:Bourgeon-de-reconversion',\n",
       "       'Fair trade,Organic,Max Havelaar,fr:Bourgeon-de-reconversion',\n",
       "       'Organic,EU Organic,Green Dot,fr:AB Agriculture Biologique,fr:Emballage-compense-carbone',\n",
       "       'Vegetarian,High proteins', 'Organic,fr:Cn-bio-141',\n",
       "       'Organic,fr:Bourgeon-bio,fr:Bourgeon-bio-gourmet',\n",
       "       'Bio,Bourgeon-bio',\n",
       "       'Fair trade,Fairtrade International,fr:Fsc-c017205',\n",
       "       'Fair trade,Organic',\n",
       "       'Fair trade,Max Havelaar,fr:Max Havelaar France', 'fr:Glutenfrei',\n",
       "       'Fair trade,Max Havelaar,Fairtrade International,Pure juice',\n",
       "       'Organic,EU Organic,Eu-non-eu-agriculture,No lactose',\n",
       "       'Organic,Vegetarian,European Vegetarian Union,Migros Bio,fr:Aha',\n",
       "       'No preservatives,No flavour enhancer', 'fr:Terre-vaudoise',\n",
       "       'Low or no salt,Gluten-free,No added salt', 'Gluten-free,No eggs',\n",
       "       'Fair trade,Max Havelaar,fr:Fsc-c017205',\n",
       "       'Fair trade,Organic,Max Havelaar,Bio,Bourgeon-bio',\n",
       "       'Fair trade,FSC,Fairtrade International,FSC-C010395,FSC Mix',\n",
       "       'Organic,EU Organic,Ab-agriculture-biologique', 'fr:Tidy man',\n",
       "       'Sustainable farming,UTZ Certified,Green Dot,Made in Swiss,UTZ Certified Cacao',\n",
       "       'Green Dot,fr:Croustillant',\n",
       "       'Organic,EU Organic,Biodynamic agriculture,CH-BIO-006,Demeter',\n",
       "       'Sustainable farming,UTZ Certified,fr:Gruner-punkt,fr:Utz-certified-kakao',\n",
       "       'Sustainable farming,UTZ Certified,fr:Nestle-cocoa-plan',\n",
       "       'Sustainable farming,UTZ Certified,Green Dot,Pure cocoa butter,UTZ Certified Cacao,fr:Nestle-cocoa-plan',\n",
       "       'Sustainable fishery,Sustainable Seafood MSC,fr:Msc-c-50054',\n",
       "       'Green Dot,Made in France,Pure pork,fr:Eco-emballages,fr:Herta-s-engage,fr:Nutritional-compass,fr:Saveur-et-qualite',\n",
       "       'Green Dot,No artificial colors,fr:Sans-aomes-artificiel',\n",
       "       'Gluten-free,Green Dot,Made in France,fr:Eco-emballages,fr:Herta-s-engage,fr:Qualite-superieure-source-naturelle-de-proteines',\n",
       "       'Sustainable farming,UTZ Certified,Green Dot,UTZ Certified Cacao,fr:Cocoa-plan',\n",
       "       'Gluten-free,Green Dot,New recipe,Superior quality,fr:Eco-emballages,fr:Herta-s-engage',\n",
       "       'Sustainable farming,UTZ Certified,Green Dot,Pure cocoa butter,UTZ Certified Cacao',\n",
       "       'Sustainable farming,UTZ Certified,Green Dot,New,UTZ Certified Cacao',\n",
       "       'fr:Sans-adjonction-d-exhausteurs-de-gout', 'fr:Naturel',\n",
       "       'Sustainable farming,UTZ Certified,UTZ Certified Cacao,fr:Nestle-cocoa-plan',\n",
       "       'Gluten-free,fr:Ch-043-004',\n",
       "       'Green Dot,No artificial colors,fr:Quality-for-kids',\n",
       "       'fr:7-vitamines-et-mineraux,fr:Ble-complet', 'Green Dot,New',\n",
       "       'Sustainable farming,UTZ Certified,UTZ Certified Cacao,fr:Cocoa-plan',\n",
       "       'New,With sweeteners', 'With sweeteners', 'TerraSuisse',\n",
       "       'Fair trade,Max Havelaar,xx:Bio', 'de:Riche-en-fibres',\n",
       "       'Sustainable farming,FSC,UTZ Certified,Carbon-footprint',\n",
       "       'Sustainable farming,UTZ Certified,Carbon-footprint',\n",
       "       'Sustainable farming,FSC,UTZ Certified', 'fr:Migros',\n",
       "       'Fair trade,Organic,EU Organic,Max Havelaar,CH-BIO-006',\n",
       "       'fr:Viande-suisse', 'FSC,TerraSuisse',\n",
       "       'Sustainable fishery,Sustainable Seafood MSC,fr:Msc-c-52839',\n",
       "       'FSC,Carbon footprint,Carbon-footprint',\n",
       "       'de:Sans-ble,de:Sans-gluten,de:Sans-lactose',\n",
       "       'Green Dot,fr:Fabrique-en-europe', 'it:Peche-durable-msc',\n",
       "       'Organic,EU Organic,FSC,FSC-C014047,IT-BIO-009,Made in Italy,No milk',\n",
       "       'Low or no sugar,Low sugar,Reduced sugar,Made in Swiss',\n",
       "       'fr:Sans-calories',\n",
       "       'fr:D-o-p,fr:Denominazione-di-origine-protetta',\n",
       "       'Vegetarian,Vegan,European Vegetarian Union,European Vegetarian Union Vegan',\n",
       "       'fr:Europaische-vegetarier-union-lacto-vegetarisch',\n",
       "       'fr:Ca-org-006',\n",
       "       'Responsible aquaculture,Responsible aquaculture ASC',\n",
       "       'Gluten-free,No lactose', 'FSC,Gluten-free,No lactose,fr:Aha',\n",
       "       'FSC,FSC-C014047,FSC Mix,No lactose', 'FSC,FSC Mix,No lactose',\n",
       "       'No preservatives,Natural flavors', 'FSC,fr:Fsc-c115463',\n",
       "       'Vegetarian,fr:Sans-agents-conservateurs', 'Ovo-vegetarian',\n",
       "       'Vegetarian,fr:Sans-agent-conservateur',\n",
       "       'fr:Denominazione-di-origine-protetta', 'Low or no fat,No fat',\n",
       "       'fr:Rspo-1106123',\n",
       "       'Organic,Vegetarian,Vegan,Migros Bio,No lactose,fr:Aha',\n",
       "       'Low or no fat,High proteins,No fat', 'Organic,Vegetarian',\n",
       "       'FSC,FSC Mix,Made in Swiss', 'High-proteins',\n",
       "       'Gluten-free,No lactose,fr:Sans-ble', 'High proteins',\n",
       "       'Fair trade,Organic,Max Havelaar,Migros Bio',\n",
       "       'IP-Suisse,TerraSuisse',\n",
       "       'Sustainable farming,FSC,UTZ Certified,FSC Mix,UTZ Certified Cacao',\n",
       "       'fr:Suisse', 'fr:Fsc-c018946', 'FSC,FSC Mix,fr:Fsc-c018946',\n",
       "       'No preservatives,Gluten-free,No lactose,fr:Afdiag,fr:Sans-ble,fr:Sans-celeri,fr:Sans-moutarde',\n",
       "       'Vegetarian,Vegan,Made in Italy,No lactose,No milk',\n",
       "       'Fair trade,Vegetarian,Max Havelaar,Vegan',\n",
       "       'Gluten-free,No eggs,fr:Sans-ble',\n",
       "       'Fair trade,FSC,Fairtrade International,FSC-C020428,FSC Mix',\n",
       "       'Vegetarian,Vegan,Gluten-free,No lactose,No milk',\n",
       "       'de:Sans-matiere-grasse,de:Vegetarien',\n",
       "       'Vegetarian,Vegan,Made in Italy',\n",
       "       'Fair trade,FSC,Max Havelaar,Fairtrade International,FSC-C014047,FSC Mix',\n",
       "       'Organic,Vegetarian,EU Organic,Vegan,CH-BIO-006,Gluten-free,No eggs,No lactose,fr:Sans-celeri,fr:Sans-moutarde',\n",
       "       'Organic,Vegetarian,EU Organic,CH-BIO-006,European Vegetarian Union',\n",
       "       'Vegetarian,Vegan,High fibres,High-proteins',\n",
       "       'Low or no sugar,Vegetarian,Vegan,High fibres,No-added-sugar',\n",
       "       'Organic,Vegetarian,Vegan,Gluten-free,fr:Bourgeon-bio',\n",
       "       'Vegetarian,Gluten-free,Vegan,fr:Sans-ble',\n",
       "       'Fair trade,Vegetarian,Vegan,Fairtrade International,Pure juice,Rich in vitamin C',\n",
       "       'Organic,No added sugar,fr:Bourgeon-bio',\n",
       "       'Low-or-no-fat,Low-fat,30% less fat,Reduced-fat',\n",
       "       'Organic,Vegetarian,EU Organic,Vegan,CH-BIO-006',\n",
       "       'Vegetarian,Gluten-free,Vegan,No lactose,fr:Sans-ble',\n",
       "       'Low or no sugar,Organic,No-added-sugar', 'Fair trade,Bio',\n",
       "       'Organic,Vegetarian,EU Organic,EU Agriculture,FR-BIO-01,Gluten-free,Made in France',\n",
       "       'Low or no sugar,Organic,EU Organic,No added sugar,FR-BIO-01,Gluten-free',\n",
       "       'Vegetarian,Gluten-free,New,No flavour enhancer,No lactose',\n",
       "       'No colorings', 'fr:Garantie-d-excellence-kambly',\n",
       "       'Sustainable farming,UTZ Certified,Carbon footprint',\n",
       "       'Sustainable farming,UTZ Certified,Carbon footprint,Carbon-footprint',\n",
       "       'Sustainable farming,FSC,UTZ Certified,Carbon footprint,FSC Mix,UTZ Certified Cacao,Carbon-footprint',\n",
       "       'Sustainable farming,FSC,UTZ Certified,FSC Mix,UTZ Certified Cacao,fr:Fsc-c017205',\n",
       "       'Sustainable farming,FSC,UTZ Certified,FSC Mix,fr:Utz-certified-kakao',\n",
       "       'Fabrique-en-suisse,Sans-sucre',\n",
       "       'FSC,FSC-C017110,fr:Fsc-c017205,fr:Utz-certified-kakao',\n",
       "       'Sustainable farming,FSC,UTZ Certified,No added sugar,FSC Mix,UTZ Certified Cacao,With sweeteners',\n",
       "       'Vegetarian,FSC,Vegan,fr:Aha',\n",
       "       'Organic,EU Organic,CH-BIO-006,fr:M-bio',\n",
       "       'Sustainable farming,UTZ Certified,fr:Aha',\n",
       "       'FSC,FSC Mix,fr:Europaische-vegetarier-union-vegan',\n",
       "       'Fair trade,Organic,EU Organic,CH-BIO-006,Fairtrade International,fr:M-bio',\n",
       "       'Fair trade,Max Havelaar,Fairtrade International',\n",
       "       'FSC,FSC Mix,Fsc-c018946', 'FSC,FSC Mix,fr:Fsc-c023094',\n",
       "       'IP-Suisse,TerraSuisse,Carbon-footprint',\n",
       "       'FSC,de:Migros \"Aus der Region\",fr:Geneve-region',\n",
       "       'Made in Swiss,Carbon-footprint', 'FSC,FSC Mix,fr:Fsc-c018948',\n",
       "       'IP-Suisse', 'Low or no fat,Low fat,Reduced fat,30% less fat',\n",
       "       'Vegetarian,Vegan,fr:Sans-gluten-ohne-gluten',\n",
       "       'Organic,de:Pur-jus', 'Rich in vitamin C',\n",
       "       'Sustainable farming,UTZ Certified,UTZ Certified Coffee,de:Point-vert,de:Triman',\n",
       "       'Sustainable farming,UTZ Certified,fr:Swiss-made',\n",
       "       'Sustainable farming,FSC,UTZ Certified,EAC,FSC-C010395,FSC Mix,Green Dot,UTZ Certified Coffee,fr:Tidy man,fr:Pur-arabica',\n",
       "       'Gruner-punkt,Utz-certified-kaffee',\n",
       "       'Fair trade,Fairtrade International,fr:Fairer-handel',\n",
       "       'FSC,Sustainable fishery,FSC Mix,Sustainable Seafood MSC,fr:Fsc-c106875,fr:Msc-c-50763',\n",
       "       'FSC,FSC Mix,fr:Fsc-c0109331',\n",
       "       'Organic,EU Organic,CH-BIO-004,fr:Imo', 'No lactose,fr:Aha',\n",
       "       'Class II', 'Organic,EU Organic,BE-BIO-02', 'Swiss AOC',\n",
       "       'fr:Animaux-eleves-en-plein-air', 'FSC,FSC Mix,de:Fsc-c023094',\n",
       "       'FSC,FSC Mix,fr:Fsc-c099972',\n",
       "       'FSC,No added sugar,FSC Mix,Made in Swiss,fr:Fsc-c018946',\n",
       "       'No hydrogenated fats,With Sunflower oil',\n",
       "       'de:Sans-colorants,de:Sans-conservateurs',\n",
       "       'Sustainable farming,FSC,UTZ Certified,FSC Mix,UTZ Certified Cacao,fr:Fsc-c018946',\n",
       "       'Made in France,Natural colorings,Natural flavors',\n",
       "       'Organic,EU Organic,FR-BIO-01,fr:AB Agriculture Biologique',\n",
       "       \"Saveurs de l'Année (France),Charte LU Harmony,Green Dot,fr:Saveurs de l'Année 2015,fr:Eco-emballages\",\n",
       "       'fr:Eco-emballages',\n",
       "       'fr:Fromages-au-lait-thermise,fr:Fromages-de-suisse,fr:Fromages-de-vache,fr:Fromages-a-pate-molle-a-croute-naturelle,fr:Produits-laitiers',\n",
       "       'fr:Oic', 'fr:Lait-des-pres-lait-de-non-ensilage,fr:Oic',\n",
       "       'Organic,EU Organic,Bio Suisse,Biodynamic agriculture,CH-BIO-006,Demeter,de:Bio-dynamie',\n",
       "       'Gluten-free,No lactose,No milk,fr:Aha,fr:Sans-ble',\n",
       "       'No preservatives,100% natural,No added sugar,No additives',\n",
       "       'FSC,FSC-C014047,FSC Mix,Pure juice',\n",
       "       'No preservatives,Palm oil free,High proteins,Made in Swiss,No artificial colors,No artificial flavour enhancer',\n",
       "       'fr:Riche-en-cuivre,fr:Riche-en-selenium,fr:Riche-en-vitamine-b2',\n",
       "       'fr:Cn-bio-154', 'Vegetarian,Green Dot,Made in Italy',\n",
       "       'No preservatives,fr:100-mozzarella',\n",
       "       'EAC,Green Dot,Made in Italy', 'Gluten-free,Rainforest Alliance',\n",
       "       'Gluten-free,fr:Sans-huile', 'Green Dot,Made in Italy,No GMOs',\n",
       "       'EAC,fr:Gruner-punkt', 'fr:Tréfilage au bronze',\n",
       "       'Organic,Made in Italy', 'PDO,PGI', 'it:Fattorie-di-osella',\n",
       "       'FSC,No preservatives,Palm oil free,FSC-C115580,No hydrogenated fats',\n",
       "       'FSC,Palm oil free,FSC-C115580',\n",
       "       'FSC,FSC-C115580,FSC Mix,fr:Gruner-punkt', 'es:N-1-in-italia',\n",
       "       'No preservatives,Made in Italy',\n",
       "       'Fair trade,Organic,EU Organic,Fairtrade International,IT-BIO-006',\n",
       "       'Gluten-free,Green Dot,Made in Italy',\n",
       "       'No hydrogenated fats,fr:Sans-matieres-grasses-animales',\n",
       "       'ISO 9001', 'Green Dot,Made in Belgium', 'fr:N-1-en-italie',\n",
       "       'fr:Certifié par bureau Veritas',\n",
       "       'Gluten-free,Green Dot,No lactose,fr:Sans-ble',\n",
       "       'de:Point-vert,de:Sans-gluten,de:Sans-lactose',\n",
       "       'EAC,Gluten-free,fr:It-016-053,fr:Teste-et-approuve-par-les-internautes-marmiton',\n",
       "       'FACE,Gluten-free,it:Sans-conservateurs,it:Sans-gluten,it:Sans-lactose,it:Vegetarien',\n",
       "       'Vegetarian,Gluten-free,No lactose,fr:Wheat-free,fr:Rich-in-fibre,nl:It-016-188',\n",
       "       'Organic,EU Organic,EU/non-EU Agriculture,No added sugar,IT-BIO-007',\n",
       "       'Organic,Vegetarian,EU Organic,FSC,Kosher,EU/non-EU Agriculture,No added sugar,FSC-C014047,FSC Mix,Gluten-free,Green Dot,IT-BIO-006,Kosher-parve,No lactose,fr:AB Agriculture Biologique,fr:Icea',\n",
       "       'Organic,EU Organic,IT-BIO-007,fr:Agriculture-italie',\n",
       "       'Green Dot,Made in Italy', 'it:Vegetalien,it:Vegetarien',\n",
       "       'PGI,fr:Viande Française,Gluten-free,Green Dot,Made in Italy,No lactose',\n",
       "       'fr:Importe-d-italie', 'fr:Carton-100-recyclable,fr:N-1-in-italia',\n",
       "       'fr:Importe-d-italie,fr:N-1-in-italia',\n",
       "       'de:Fabrique-en-italie,de:Point-vert',\n",
       "       'fr:Importe-d-italie,fr:N-1-in-italia,fr:Source-de-fibres-naturelles',\n",
       "       'fr:Tréfilage au bronze,fr:Prodotto-d-italia',\n",
       "       'fr:Sans-gluten-en-ue',\n",
       "       'Organic,EU Organic,EU/non-EU Agriculture,Green Dot,IT-BIO-009',\n",
       "       'fr:Produit-d-espagne', 'Made in Spain', 'Green Dot,Made in Spain',\n",
       "       'Spanish protected product,Designated Origin Denomination,es:Do-rueda',\n",
       "       'Organic,Bio',\n",
       "       'FSC,No colorings,No preservatives,FSC-C081801,FSC Mix,Gluten-free,No additives',\n",
       "       'Organic,Vegetarian,EU Organic,Vegan,EU/non-EU Agriculture,ES-ECO-021-EX,The Vegan Society,fr:Ecologico,fr:Ecologico-ue,fr:Punto-verde,fr:Sin-lactosa,fr:Vegano,fr:Vegetariano,fr:Sin-gluten',\n",
       "       '100% natural,Green Dot,Made in Spain',\n",
       "       'No preservatives,Gluten-free,fr:Afdiag,fr:Certification-sans-gluten',\n",
       "       'fr:Certification-sans-gluten', 'fr:7-annees-d-age',\n",
       "       'Low or no sugar,Fair trade,Organic,Kosher,EU/non-EU Agriculture,No added sugar,Orthodox Union Kosher,Pure juice',\n",
       "       'Green Dot,Natural colorings',\n",
       "       'Green Dot,Lowers cholesterol,fr:Eco-emballages',\n",
       "       'Green Dot,Rainforest Alliance',\n",
       "       'Fair trade,Fairtrade International,fr:Caring-dairy,fr:Fairer-handel,fr:Gruner-punkt,fr:K-dairy',\n",
       "       'Fair trade,Fairtrade International,de:Commerce-equitable,de:Kascher,de:Point-vert',\n",
       "       'Fair trade,Fairtrade International,Caring-dairy,Kosher-dairy',\n",
       "       'No colorings,No preservatives,Green Dot,No flavour enhancer',\n",
       "       'Fair trade,Kosher,Fairtrade International,Kof-K,Caring-dairy',\n",
       "       'Vegetarian,Vegan,Gluten-free,Green Dot',\n",
       "       'Kosher,Manchester Beth Din',\n",
       "       'No preservatives,No thickening agent',\n",
       "       'Organic,EU Organic,No colorings,No preservatives,No added thickener,NL-BIO-01',\n",
       "       'Low or no salt,Low or no sugar,Low salt,Low sugar,Reduced salt,Reduced sugar',\n",
       "       'es:Beth-din-de-manchester,es:Kascher',\n",
       "       'Kascher,Moins-50-de-sucre', 'fr:Ketchup,fr:Tomate',\n",
       "       'fr:Eg-oko-verordnung',\n",
       "       'Lacto-vegetarian,FSC,No preservatives,No lactose,fr:Vaches-en-paturages',\n",
       "       'nl:Gruner-punkt', 'es:Vegetarien', 'Halal',\n",
       "       'No-msg-added,Sans-acides-gras-trans',\n",
       "       'th:Point-vert,th:Tidyman-wastebasket', 'Sans-sucre'], dtype=object)"
      ]
     },
     "execution_count": 88,
     "metadata": {},
     "output_type": "execute_result"
    }
   ],
   "source": [
    "switz_df.labels_en.unique()"
   ]
  },
  {
   "cell_type": "markdown",
   "metadata": {
    "heading_collapsed": true
   },
   "source": [
    "## fruits, veg, nuts"
   ]
  },
  {
   "cell_type": "code",
   "execution_count": 89,
   "metadata": {
    "hidden": true
   },
   "outputs": [
    {
     "data": {
      "text/plain": [
       "71"
      ]
     },
     "execution_count": 89,
     "metadata": {},
     "output_type": "execute_result"
    },
    {
     "data": {
      "text/plain": [
       "57"
      ]
     },
     "execution_count": 89,
     "metadata": {},
     "output_type": "execute_result"
    }
   ],
   "source": [
    "switz_df['fruits-vegetables-nuts-estimate_100g'].notnull().sum()\n",
    "\n",
    "switz_df['fruits-vegetables-nuts_100g'].notnull().sum()"
   ]
  },
  {
   "cell_type": "markdown",
   "metadata": {
    "heading_collapsed": true,
    "run_control": {
     "frozen": false,
     "read_only": false
    }
   },
   "source": [
    "## groups"
   ]
  },
  {
   "cell_type": "code",
   "execution_count": 90,
   "metadata": {
    "hidden": true
   },
   "outputs": [
    {
     "data": {
      "text/plain": [
       "16366"
      ]
     },
     "execution_count": 90,
     "metadata": {},
     "output_type": "execute_result"
    },
    {
     "data": {
      "text/plain": [
       "5288"
      ]
     },
     "execution_count": 90,
     "metadata": {},
     "output_type": "execute_result"
    },
    {
     "data": {
      "text/plain": [
       "5528"
      ]
     },
     "execution_count": 90,
     "metadata": {},
     "output_type": "execute_result"
    }
   ],
   "source": [
    "switz_df.shape[0]\n",
    "switz_df.pnns_groups_1.notnull().sum()\n",
    "switz_df.pnns_groups_2.notnull().sum() "
   ]
  },
  {
   "cell_type": "code",
   "execution_count": 91,
   "metadata": {
    "cell_style": "split",
    "hidden": true,
    "run_control": {
     "frozen": false,
     "read_only": false
    }
   },
   "outputs": [
    {
     "data": {
      "text/plain": [
       "unknown                    2322\n",
       "Sugary snacks               608\n",
       "Cereals and potatoes        452\n",
       "Milk and dairy products     431\n",
       "Beverages                   352\n",
       "Composite foods             337\n",
       "Fat and sauces              225\n",
       "Fish Meat Eggs              218\n",
       "Fruits and vegetables       181\n",
       "Salty snacks                102\n",
       "sugary-snacks                39\n",
       "fruits-and-vegetables        21\n",
       "Name: pnns_groups_1, dtype: int64"
      ]
     },
     "execution_count": 91,
     "metadata": {},
     "output_type": "execute_result"
    }
   ],
   "source": [
    "switz_df.pnns_groups_1.value_counts()"
   ]
  },
  {
   "cell_type": "code",
   "execution_count": 92,
   "metadata": {
    "cell_style": "split",
    "hidden": true,
    "run_control": {
     "frozen": false,
     "read_only": false
    }
   },
   "outputs": [
    {
     "data": {
      "text/plain": [
       "unknown                             2322\n",
       "One-dish meals                       261\n",
       "Alcoholic beverages                  240\n",
       "Biscuits and cakes                   232\n",
       "Cereals                              207\n",
       "Sweets                               207\n",
       "Milk and yogurt                      175\n",
       "Chocolate products                   169\n",
       "Dressings and sauces                 167\n",
       "Cheese                               166\n",
       "Sweetened beverages                  154\n",
       "Bread                                105\n",
       "Breakfast cereals                     90\n",
       "Appetizers                            84\n",
       "Fruit juices                          79\n",
       "Vegetables                            79\n",
       "Non-sugared beverages                 74\n",
       "Processed meat                        72\n",
       "Fish and seafood                      68\n",
       "Fruits                                66\n",
       "Fats                                  58\n",
       "Pizza pies and quiche                 53\n",
       "Ice cream                             52\n",
       "Meat                                  40\n",
       "pastries                              39\n",
       "Eggs                                  38\n",
       "Dairy desserts                        38\n",
       "Artificially sweetened beverages      31\n",
       "Dried fruits                          28\n",
       "Potatoes                              25\n",
       "Legumes                               25\n",
       "Sandwich                              23\n",
       "vegetables                            21\n",
       "Nuts                                  17\n",
       "Fruit nectars                         14\n",
       "Soups                                  8\n",
       "Salty and fatty products               1\n",
       "Name: pnns_groups_2, dtype: int64"
      ]
     },
     "execution_count": 92,
     "metadata": {},
     "output_type": "execute_result"
    }
   ],
   "source": [
    "switz_df.pnns_groups_2.value_counts()"
   ]
  },
  {
   "cell_type": "markdown",
   "metadata": {
    "heading_collapsed": true,
    "run_control": {
     "frozen": false,
     "read_only": false
    }
   },
   "source": [
    "## categories"
   ]
  },
  {
   "cell_type": "code",
   "execution_count": 93,
   "metadata": {
    "hidden": true
   },
   "outputs": [
    {
     "data": {
      "text/plain": [
       "4318"
      ]
     },
     "execution_count": 93,
     "metadata": {},
     "output_type": "execute_result"
    }
   ],
   "source": [
    "switz_df.categories.notnull().sum()"
   ]
  },
  {
   "cell_type": "code",
   "execution_count": 94,
   "metadata": {
    "hidden": true,
    "run_control": {
     "frozen": false,
     "read_only": false
    },
    "scrolled": true
   },
   "outputs": [
    {
     "data": {
      "text/plain": [
       "['en:moutardes',\n",
       " 'en:groceries',\n",
       " 'en:petit-dejeuners',\n",
       " 'en:sugary-snacks',\n",
       " 'en:plant-based-foods-and-beverages',\n",
       " 'en:aliments-d-origine-vegetale',\n",
       " 'en:sweeteners',\n",
       " 'en:beverages',\n",
       " 'en:fromages',\n",
       " 'en:desserts',\n",
       " 'en:salty-snacks',\n",
       " 'en:dietary-supplements',\n",
       " 'en:ale',\n",
       " 'en:dairies',\n",
       " 'en:meals',\n",
       " 'en:pickles',\n",
       " 'en:fresh-foods',\n",
       " 'en:pie-dough',\n",
       " 'en:meats',\n",
       " 'en:farming-products',\n",
       " 'en:seafood',\n",
       " 'en:frozen-foods',\n",
       " 'en:fromage-a-pate-dure',\n",
       " 'en:terrine',\n",
       " 'en:chorizo',\n",
       " 'en:yaourt',\n",
       " 'en:olives',\n",
       " 'en:whole-olives',\n",
       " 'en:labeled-products',\n",
       " 'en:fruit-juices',\n",
       " 'en:breakfasts',\n",
       " 'en:canned-foods',\n",
       " 'en:fish-and-meat-and-eggs',\n",
       " 'en:vinegars',\n",
       " 'en:green-olives',\n",
       " 'en:fruits-en-conserve',\n",
       " 'en:spreads',\n",
       " 'en:chips-and-fries',\n",
       " 'en:pies',\n",
       " 'en:tabbouleh',\n",
       " 'en:fats',\n",
       " 'en:oeufs-de-poisson',\n",
       " 'en:crepes-and-galettes',\n",
       " 'en:fruit-juices-and-nectars',\n",
       " 'en:dried-products',\n",
       " 'en:schokoladen',\n",
       " 'en:chocolats-au-lait-fourres',\n",
       " 'en:milchschokoladen',\n",
       " 'en:christmas-foods-and-drinks',\n",
       " 'en:bonbons-gelifies',\n",
       " 'en:pizzas-et-tartes-surgelees',\n",
       " 'en:baby-foods',\n",
       " 'en:pflanzliche-brotaufstriche',\n",
       " 'en:waffles',\n",
       " 'en:biscuits-au-chocolat',\n",
       " 'en:plats-prepares-d-origine-vegetale',\n",
       " 'en:gins',\n",
       " 'en:boissons-chaudes-instantanees',\n",
       " 'en:aliments-et-boissons-a-base-de-vegetaux',\n",
       " 'en:cornflakes',\n",
       " 'en:cereales-pour-petit-dejeuner',\n",
       " 'en:bieres',\n",
       " 'en:snacks',\n",
       " 'en:brotaufstriche',\n",
       " 'en:fusili',\n",
       " 'en:sel-de-cuisine',\n",
       " 'en:boissons',\n",
       " 'en:mueslis-aux-fruits',\n",
       " 'en:cooking-helpers',\n",
       " 'en:artichauts-en-conserve',\n",
       " 'en:cafe-en-dosettes',\n",
       " 'en:saumons-fumes',\n",
       " 'en:chocolats',\n",
       " 'en:sandwiches',\n",
       " 'en:rahm',\n",
       " 'en:pizza-dough',\n",
       " 'en:poissons',\n",
       " 'en:food-additives',\n",
       " 'en:kase',\n",
       " 'en:fruhstucke',\n",
       " 'en:breaded-products',\n",
       " 'en:cocktail-sauces',\n",
       " 'en:cereales',\n",
       " 'en:fish-eggs',\n",
       " 'en:epices',\n",
       " 'en:onigri',\n",
       " 'en:cottage-cheeses',\n",
       " 'en:confitures-allegees',\n",
       " 'en:lait',\n",
       " 'en:kaffees',\n",
       " 'en:bee-products',\n",
       " 'en:syrups',\n",
       " 'en:chocolat',\n",
       " 'en:ricotta',\n",
       " 'en:huiles-aromatisees',\n",
       " 'en:pates-a-tartiner-aux-noisettes-et-au-cacao',\n",
       " 'en:saucen',\n",
       " 'en:sliced-jalapenos',\n",
       " 'en:milk-substitute',\n",
       " 'en:thes-glaces',\n",
       " 'en:sauce-salsa',\n",
       " 'en:rice-crackers']"
      ]
     },
     "execution_count": 94,
     "metadata": {},
     "output_type": "execute_result"
    }
   ],
   "source": [
    "[my_cat for my_cat in switz_df.main_category.astype('str').unique() if ('en:' in my_cat) ]"
   ]
  },
  {
   "cell_type": "markdown",
   "metadata": {
    "heading_collapsed": true,
    "run_control": {
     "frozen": false,
     "read_only": false
    }
   },
   "source": [
    "## barcode "
   ]
  },
  {
   "cell_type": "markdown",
   "metadata": {
    "hidden": true,
    "run_control": {
     "frozen": false,
     "read_only": false
    }
   },
   "source": [
    "find good products identifier that match with our dataset"
   ]
  },
  {
   "cell_type": "code",
   "execution_count": 7,
   "metadata": {
    "hidden": true,
    "run_control": {
     "frozen": false,
     "read_only": false
    }
   },
   "outputs": [
    {
     "data": {
      "text/plain": [
       "1    16366\n",
       "Name: code, dtype: int64"
      ]
     },
     "execution_count": 7,
     "metadata": {},
     "output_type": "execute_result"
    }
   ],
   "source": [
    "# barcode is imported as num ...\n",
    "switz_df.code = switz_df.code.astype('int',copy=False).astype('str',copy=False)\n",
    "\n",
    "# check uniqueness\n",
    "switz_df.code.value_counts().value_counts()"
   ]
  },
  {
   "cell_type": "markdown",
   "metadata": {
    "heading_collapsed": true,
    "run_control": {
     "frozen": false,
     "read_only": false
    }
   },
   "source": [
    "## stores"
   ]
  },
  {
   "cell_type": "code",
   "execution_count": 8,
   "metadata": {
    "hidden": true,
    "run_control": {
     "frozen": false,
     "read_only": false
    }
   },
   "outputs": [
    {
     "data": {
      "text/plain": [
       "1974"
      ]
     },
     "execution_count": 8,
     "metadata": {},
     "output_type": "execute_result"
    }
   ],
   "source": [
    "switz_df.stores.notnull().sum()"
   ]
  },
  {
   "cell_type": "code",
   "execution_count": 9,
   "metadata": {
    "hidden": true,
    "run_control": {
     "frozen": false,
     "read_only": false
    },
    "scrolled": true
   },
   "outputs": [
    {
     "data": {
      "text/plain": [
       "Migros                                                                              942\n",
       "Coop                                                                                226\n",
       "Carrefour                                                                            66\n",
       "Lidl                                                                                 41\n",
       "Leclerc                                                                              29\n",
       "migros                                                                               28\n",
       "Franprix                                                                             27\n",
       "sky                                                                                  25\n",
       "Super U                                                                              25\n",
       "Auchan                                                                               24\n",
       "Cora                                                                                 22\n",
       "Edeka                                                                                22\n",
       "Intermarché                                                                          21\n",
       "Le Marché des Corbeaux                                                               19\n",
       "Monoprix                                                                             18\n",
       "Irma.dk                                                                              15\n",
       "Denner                                                                               14\n",
       "REWE                                                                                 13\n",
       "Le marché des Corbeaux                                                               13\n",
       "Carrefour Market                                                                     13\n",
       "dm                                                                                   11\n",
       "coop                                                                                  9\n",
       "Simply Market                                                                         8\n",
       "Epicerie de Le Vaud                                                                   8\n",
       "Casino                                                                                7\n",
       "Aligro                                                                                7\n",
       "Suisse                                                                                6\n",
       "Aldi                                                                                  5\n",
       "Carrefour market                                                                      5\n",
       "COOP                                                                                  4\n",
       "                                                                                   ... \n",
       "Leclerc,Le Marché des Corbeaux,Franprix                                               1\n",
       "Intermarché,Franprix,Edeka                                                            1\n",
       "Super U,Carrefour                                                                     1\n",
       "Monoprix,Franprix                                                                     1\n",
       "AhorraMás,Carrefour,Hipercor,El Corte Inglés,Irma.dk                                  1\n",
       "dm,sky                                                                                1\n",
       "Auchan,leclerc,Franprix                                                               1\n",
       "Magasin de la Chocolaterie Villars Route de la Fonderie 2 1701 Fribourg - Suisse      1\n",
       "Billa                                                                                 1\n",
       "Tabac Presse,Irma.dk                                                                  1\n",
       "Franprix,Auchan,Casino,Carrefour Market                                               1\n",
       "Dia,Géant,Carrefour,Intermarché                                                       1\n",
       "Le comptoir irlandais                                                                 1\n",
       "Casino, Franprix                                                                      1\n",
       "Coles,Woolworths                                                                      1\n",
       "Countdown                                                                             1\n",
       "Coop,Carrefour,Bio14                                                                  1\n",
       "Famille Mary                                                                          1\n",
       "Franprix,Leader Price                                                                 1\n",
       "Carrefour,Carrefour Market                                                            1\n",
       "Carrefour TNL,Irma.dk                                                                 1\n",
       "Irma.dk,Ica                                                                           1\n",
       "Irma.dk,Leclerc,Cora                                                                  1\n",
       "Auchan,Hyper U                                                                        1\n",
       "Franprix,Monoprix                                                                     1\n",
       "Intermarché,Carrefour,Carrefour Market,Auchan                                         1\n",
       "Ikea                                                                                  1\n",
       "Cora,Irma.dk,Leader Price                                                             1\n",
       "Franprix,Casino,Carrefour Market                                                      1\n",
       "Edeka,sky                                                                             1\n",
       "Name: stores, Length: 258, dtype: int64"
      ]
     },
     "execution_count": 9,
     "metadata": {},
     "output_type": "execute_result"
    }
   ],
   "source": [
    "switz_df.stores.value_counts()"
   ]
  },
  {
   "cell_type": "markdown",
   "metadata": {
    "heading_collapsed": true,
    "run_control": {
     "frozen": false,
     "read_only": false
    }
   },
   "source": [
    "## name"
   ]
  },
  {
   "cell_type": "code",
   "execution_count": 11,
   "metadata": {
    "hidden": true,
    "run_control": {
     "frozen": false,
     "read_only": false
    }
   },
   "outputs": [
    {
     "name": "stdout",
     "output_type": "stream",
     "text": [
      "1594\n",
      "12173\n"
     ]
    }
   ],
   "source": [
    "print(switz_df.generic_name.nunique())\n",
    "print(switz_df.product_name.nunique())"
   ]
  },
  {
   "cell_type": "markdown",
   "metadata": {
    "hidden": true,
    "run_control": {
     "frozen": false,
     "read_only": false
    }
   },
   "source": [
    "mind that `product_name` is __NOT unique__"
   ]
  },
  {
   "cell_type": "code",
   "execution_count": 12,
   "metadata": {
    "hidden": true,
    "run_control": {
     "frozen": false,
     "read_only": false
    }
   },
   "outputs": [
    {
     "data": {
      "text/plain": [
       "13        1\n",
       "12        1\n",
       "10        1\n",
       "9         1\n",
       "8         1\n",
       "7         5\n",
       "6         9\n",
       "5        15\n",
       "4        47\n",
       "3       102\n",
       "2       428\n",
       "1     11562\n",
       "Name: product_name, dtype: int64"
      ]
     },
     "execution_count": 12,
     "metadata": {},
     "output_type": "execute_result"
    }
   ],
   "source": [
    "switz_df.product_name.value_counts().value_counts().sort_values()"
   ]
  },
  {
   "cell_type": "markdown",
   "metadata": {
    "run_control": {
     "frozen": false,
     "read_only": false
    }
   },
   "source": [
    "# NS comparison"
   ]
  },
  {
   "cell_type": "markdown",
   "metadata": {
    "run_control": {
     "frozen": false,
     "read_only": false
    }
   },
   "source": [
    "load our nutri-score"
   ]
  },
  {
   "cell_type": "code",
   "execution_count": 13,
   "metadata": {
    "run_control": {
     "frozen": false,
     "read_only": false
    }
   },
   "outputs": [
    {
     "data": {
      "text/plain": [
       "(24233, 58)"
      ]
     },
     "execution_count": 13,
     "metadata": {},
     "output_type": "execute_result"
    }
   ],
   "source": [
    "our_df = pd.read_csv('./nutr_&_categ.csv')\n",
    "our_df.shape"
   ]
  },
  {
   "cell_type": "markdown",
   "metadata": {
    "run_control": {
     "frozen": false,
     "read_only": false
    }
   },
   "source": [
    "back to OFF dataset:"
   ]
  },
  {
   "cell_type": "markdown",
   "metadata": {
    "run_control": {
     "frozen": false,
     "read_only": false
    }
   },
   "source": [
    "mind that `nutrition_grade_uk` is empty ...so we can remove it"
   ]
  },
  {
   "cell_type": "code",
   "execution_count": 14,
   "metadata": {
    "run_control": {
     "frozen": false,
     "read_only": false
    }
   },
   "outputs": [
    {
     "name": "stdout",
     "output_type": "stream",
     "text": [
      "0\n"
     ]
    }
   ],
   "source": [
    "print(switz_df.nutrition_grade_uk.notnull().sum())\n",
    "\n",
    "switz_df.drop('nutrition_grade_uk',axis=1,inplace=True)"
   ]
  },
  {
   "cell_type": "markdown",
   "metadata": {
    "run_control": {
     "frozen": false,
     "read_only": false
    }
   },
   "source": [
    "fix useful cols names in OFF dataframe"
   ]
  },
  {
   "cell_type": "code",
   "execution_count": 15,
   "metadata": {
    "run_control": {
     "frozen": false,
     "read_only": false
    }
   },
   "outputs": [],
   "source": [
    "# rename bacode in OFF dataset\n",
    "switz_df.rename(columns=({'code':'barcode'}),inplace=True)\n",
    "\n",
    "# rename ns in OFF dataset\n",
    "switz_df.rename(columns=({'nutrition-score-fr_100g':'off_ns_score'}),inplace=True)"
   ]
  },
  {
   "cell_type": "markdown",
   "metadata": {
    "heading_collapsed": true,
    "run_control": {
     "frozen": false,
     "read_only": false
    }
   },
   "source": [
    "## label VS score"
   ]
  },
  {
   "cell_type": "markdown",
   "metadata": {
    "hidden": true
   },
   "source": [
    "OFF have computed NS for not so many products..."
   ]
  },
  {
   "cell_type": "code",
   "execution_count": 16,
   "metadata": {
    "cell_style": "center",
    "hidden": true,
    "run_control": {
     "frozen": false,
     "read_only": false
    }
   },
   "outputs": [
    {
     "name": "stdout",
     "output_type": "stream",
     "text": [
      "3301\n",
      "3301\n"
     ]
    }
   ],
   "source": [
    "print(switz_df.nutrition_grade_fr.notnull().sum())\n",
    "print(switz_df.off_ns_score.notnull().sum())"
   ]
  },
  {
   "cell_type": "markdown",
   "metadata": {
    "hidden": true
   },
   "source": [
    "first labels in both df"
   ]
  },
  {
   "cell_type": "code",
   "execution_count": 17,
   "metadata": {
    "hidden": true
   },
   "outputs": [],
   "source": [
    "switz_df.sort_values(['nutrition_grade_fr'],inplace=True)\n",
    "\n",
    "our_df.sort_values(['ns_label'],inplace=True)"
   ]
  },
  {
   "cell_type": "code",
   "execution_count": 18,
   "metadata": {
    "cell_style": "split",
    "hidden": true,
    "run_control": {
     "frozen": false,
     "read_only": false
    }
   },
   "outputs": [
    {
     "data": {
      "image/png": "[encoded data removed]",
      "text/plain": [
       "<Figure size 432x288 with 1 Axes>"
      ]
     },
     "metadata": {
      "image/png": {
       "height": 273,
       "width": 387
      }
     },
     "output_type": "display_data"
    }
   ],
   "source": [
    "# OFF data\n",
    "sns.boxplot(data=switz_df,\n",
    "            orient='h',\n",
    "            x='off_ns_score',\n",
    "            y='nutrition_grade_fr')\n",
    "\n",
    "plt.xlabel('OFF french ns point',size=16)\n",
    "plt.ylabel('OFF french ns label',size=16);"
   ]
  },
  {
   "cell_type": "code",
   "execution_count": 21,
   "metadata": {
    "cell_style": "split",
    "hidden": true,
    "run_control": {
     "frozen": false,
     "read_only": false
    }
   },
   "outputs": [
    {
     "data": {
      "image/png": "[encoded data removed]",
      "text/plain": [
       "<Figure size 432x288 with 1 Axes>"
      ]
     },
     "metadata": {
      "image/png": {
       "height": 273,
       "width": 388
      }
     },
     "output_type": "display_data"
    }
   ],
   "source": [
    "# GR data \n",
    "sns.boxplot(data=our_df,\n",
    "            orient='h',\n",
    "            x='nutri_score',\n",
    "            y='ns_label')\n",
    "\n",
    "plt.xlabel('our french ns point',size=16)\n",
    "plt.ylabel('our french ns label',size=16);"
   ]
  },
  {
   "cell_type": "markdown",
   "metadata": {
    "heading_collapsed": true
   },
   "source": [
    "## merging dfs"
   ]
  },
  {
   "cell_type": "markdown",
   "metadata": {
    "hidden": true
   },
   "source": [
    "identify _how many unique barcodes_ there are, with nonnull NS – OFF DF is limiting "
   ]
  },
  {
   "cell_type": "code",
   "execution_count": 22,
   "metadata": {
    "hidden": true
   },
   "outputs": [
    {
     "name": "stdout",
     "output_type": "stream",
     "text": [
      "3301\n",
      "24233\n"
     ]
    }
   ],
   "source": [
    "print(switz_df[switz_df.off_ns_score.notnull()].barcode.nunique())\n",
    "print(our_df[our_df.nutri_score.notnull()].barcode.nunique())"
   ]
  },
  {
   "cell_type": "markdown",
   "metadata": {
    "hidden": true,
    "run_control": {
     "frozen": false,
     "read_only": false
    }
   },
   "source": [
    "merge has to be based on __barcode__"
   ]
  },
  {
   "cell_type": "code",
   "execution_count": 23,
   "metadata": {
    "hidden": true,
    "run_control": {
     "frozen": false,
     "read_only": false
    }
   },
   "outputs": [],
   "source": [
    "merged_df = our_df.merge(switz_df[['barcode','off_ns_score','nutrition_grade_fr']],\n",
    "                         on='barcode');\n",
    "# ,'nutrition_grade_fr'"
   ]
  },
  {
   "cell_type": "markdown",
   "metadata": {
    "hidden": true
   },
   "source": [
    "show changes __after merging__..."
   ]
  },
  {
   "cell_type": "code",
   "execution_count": 24,
   "metadata": {
    "cell_style": "center",
    "hidden": true,
    "run_control": {
     "frozen": false,
     "read_only": false
    }
   },
   "outputs": [
    {
     "name": "stdout",
     "output_type": "stream",
     "text": [
      "(24233, 58)\n",
      "(16366, 172)\n",
      "(14240, 60)\n"
     ]
    }
   ],
   "source": [
    "print(our_df.shape)\n",
    "print(switz_df.shape)\n",
    "print(merged_df.shape)"
   ]
  },
  {
   "cell_type": "code",
   "execution_count": 25,
   "metadata": {
    "cell_style": "center",
    "hidden": true,
    "run_control": {
     "frozen": false,
     "read_only": false
    }
   },
   "outputs": [
    {
     "name": "stdout",
     "output_type": "stream",
     "text": [
      "3301\n",
      "2816\n"
     ]
    }
   ],
   "source": [
    "# OFF ns after merging\n",
    "print(switz_df.off_ns_score.notnull().sum())\n",
    "print(merged_df.off_ns_score.notnull().sum())"
   ]
  },
  {
   "cell_type": "code",
   "execution_count": 26,
   "metadata": {
    "cell_style": "center",
    "hidden": true,
    "run_control": {
     "frozen": false,
     "read_only": false
    }
   },
   "outputs": [
    {
     "name": "stdout",
     "output_type": "stream",
     "text": [
      "24233\n",
      "14240\n"
     ]
    }
   ],
   "source": [
    "# GR ns after merging\n",
    "print(our_df.nutri_score.notnull().sum())\n",
    "print(merged_df.nutri_score.notnull().sum())"
   ]
  },
  {
   "cell_type": "markdown",
   "metadata": {
    "heading_collapsed": true
   },
   "source": [
    "## label VS label"
   ]
  },
  {
   "cell_type": "code",
   "execution_count": null,
   "metadata": {
    "hidden": true
   },
   "outputs": [],
   "source": [
    "# good_labels = merged_df.nutrition_grade_fr.notnull() & merged_df.ns_label.notnull()\n",
    "\n",
    "# sns.jointplot(x=merged_df[good_labels].nutrition_grade_fr,y=merged_df[good_labels].ns_label)\n",
    "\n",
    "# plt.xlabel('OFF labels',size=16)\n",
    "# plt.ylabel('our labels',size=16)"
   ]
  },
  {
   "cell_type": "markdown",
   "metadata": {
    "run_control": {
     "frozen": false,
     "read_only": false
    }
   },
   "source": [
    "## score VS score"
   ]
  },
  {
   "cell_type": "markdown",
   "metadata": {},
   "source": [
    "keep only non null for OFF and GR score"
   ]
  },
  {
   "cell_type": "code",
   "execution_count": 27,
   "metadata": {},
   "outputs": [],
   "source": [
    "good_scores = merged_df.off_ns_score.notnull() & merged_df.nutri_score.notnull()\n",
    "\n",
    "my_upp = max(merged_df.nutri_score.max(),merged_df.off_ns_score.max())\n",
    "my_low = min(merged_df.nutri_score.min(),merged_df.off_ns_score.min())"
   ]
  },
  {
   "cell_type": "code",
   "execution_count": 31,
   "metadata": {
    "cell_style": "center",
    "run_control": {
     "frozen": false,
     "read_only": false
    }
   },
   "outputs": [
    {
     "data": {
      "image/png": "[encoded data removed]",
      "text/plain": [
       "<Figure size 432x288 with 1 Axes>"
      ]
     },
     "metadata": {
      "image/png": {
       "height": 273,
       "width": 284
      }
     },
     "output_type": "display_data"
    }
   ],
   "source": [
    "my_plot = merged_df[good_scores].plot(x='off_ns_score',y='nutri_score',\n",
    "                                      marker='.',linestyle='',legend=None,ms=3)\n",
    "\n",
    "\n",
    "plt.xlim(my_low,my_upp)\n",
    "plt.ylim(my_low,my_upp)\n",
    "\n",
    "my_plot.set_aspect('equal')\n",
    "\n",
    "# plt.legend()\n",
    "\n",
    "plt.xlabel('OFF score',size=16)\n",
    "plt.ylabel('OUR score',size=16);"
   ]
  },
  {
   "cell_type": "markdown",
   "metadata": {},
   "source": [
    "see how much they differ ..."
   ]
  },
  {
   "cell_type": "markdown",
   "metadata": {},
   "source": [
    "`off_ns_score` > `nutri_score` means that we are being 'more generous' == better nutritional values\n",
    "\n",
    "( doesn't mean we are wrong...)"
   ]
  },
  {
   "cell_type": "markdown",
   "metadata": {},
   "source": [
    "add difference column and plot its hist"
   ]
  },
  {
   "cell_type": "code",
   "execution_count": 32,
   "metadata": {},
   "outputs": [
    {
     "data": {
      "image/png": "[encoded data removed]",
      "text/plain": [
       "<Figure size 432x288 with 1 Axes>"
      ]
     },
     "metadata": {
      "image/png": {
       "height": 273,
       "width": 406
      }
     },
     "output_type": "display_data"
    }
   ],
   "source": [
    "merged_df['difference'] = merged_df.off_ns_score - merged_df.nutri_score\n",
    "\n",
    "#...and  sort df by difference\n",
    "merged_df.sort_values(by='difference',inplace=True,ascending=False)\n",
    "\n",
    "merged_df.difference.hist()\n",
    "plt.ylabel('n. of products',size=16)\n",
    "plt.xlabel('off score - our score',size=16);"
   ]
  },
  {
   "cell_type": "markdown",
   "metadata": {},
   "source": [
    "products for which we are 'too genereous' "
   ]
  },
  {
   "cell_type": "code",
   "execution_count": 33,
   "metadata": {
    "run_control": {
     "frozen": false,
     "read_only": false
    }
   },
   "outputs": [
    {
     "data": {
      "text/html": [
       "<div>\n",
       "<style scoped>\n",
       "    .dataframe tbody tr th:only-of-type {\n",
       "        vertical-align: middle;\n",
       "    }\n",
       "\n",
       "    .dataframe tbody tr th {\n",
       "        vertical-align: top;\n",
       "    }\n",
       "\n",
       "    .dataframe thead th {\n",
       "        text-align: right;\n",
       "    }\n",
       "</style>\n",
       "<table border=\"1\" class=\"dataframe\">\n",
       "  <thead>\n",
       "    <tr style=\"text-align: right;\">\n",
       "      <th></th>\n",
       "      <th>id</th>\n",
       "      <th>name_simple</th>\n",
       "      <th>barcode</th>\n",
       "      <th>off_ns_score</th>\n",
       "      <th>nutri_score</th>\n",
       "      <th>difference</th>\n",
       "    </tr>\n",
       "  </thead>\n",
       "  <tbody>\n",
       "    <tr>\n",
       "      <th>5252</th>\n",
       "      <td>12951</td>\n",
       "      <td>Migros Léger Joghurt Drink Banane</td>\n",
       "      <td>22140807</td>\n",
       "      <td>28.0</td>\n",
       "      <td>-1</td>\n",
       "      <td>29.0</td>\n",
       "    </tr>\n",
       "    <tr>\n",
       "      <th>1324</th>\n",
       "      <td>5838</td>\n",
       "      <td>Kikkoman Teriyaki Marinade &amp; Sauce</td>\n",
       "      <td>8715035210301</td>\n",
       "      <td>28.0</td>\n",
       "      <td>-1</td>\n",
       "      <td>29.0</td>\n",
       "    </tr>\n",
       "    <tr>\n",
       "      <th>7205</th>\n",
       "      <td>15280</td>\n",
       "      <td>Ferrero Kinder</td>\n",
       "      <td>4008400511825</td>\n",
       "      <td>28.0</td>\n",
       "      <td>0</td>\n",
       "      <td>28.0</td>\n",
       "    </tr>\n",
       "    <tr>\n",
       "      <th>3667</th>\n",
       "      <td>11015</td>\n",
       "      <td>Alnatura Bretzels à l'épeautre et au chocolat</td>\n",
       "      <td>4104420145245</td>\n",
       "      <td>25.0</td>\n",
       "      <td>-3</td>\n",
       "      <td>28.0</td>\n",
       "    </tr>\n",
       "    <tr>\n",
       "      <th>4909</th>\n",
       "      <td>23127</td>\n",
       "      <td>NaN</td>\n",
       "      <td>3046920084000</td>\n",
       "      <td>27.0</td>\n",
       "      <td>0</td>\n",
       "      <td>27.0</td>\n",
       "    </tr>\n",
       "    <tr>\n",
       "      <th>5188</th>\n",
       "      <td>23364</td>\n",
       "      <td>NaN</td>\n",
       "      <td>7610036003703</td>\n",
       "      <td>27.0</td>\n",
       "      <td>0</td>\n",
       "      <td>27.0</td>\n",
       "    </tr>\n",
       "    <tr>\n",
       "      <th>4235</th>\n",
       "      <td>19733</td>\n",
       "      <td>Milka</td>\n",
       "      <td>7622300185015</td>\n",
       "      <td>27.0</td>\n",
       "      <td>0</td>\n",
       "      <td>27.0</td>\n",
       "    </tr>\n",
       "    <tr>\n",
       "      <th>5280</th>\n",
       "      <td>12947</td>\n",
       "      <td>Migros Léger Joghurt Drink Moka</td>\n",
       "      <td>22140814</td>\n",
       "      <td>26.0</td>\n",
       "      <td>-1</td>\n",
       "      <td>27.0</td>\n",
       "    </tr>\n",
       "    <tr>\n",
       "      <th>7802</th>\n",
       "      <td>3897</td>\n",
       "      <td>Lindt Crunchy Nougat</td>\n",
       "      <td>4000539221705</td>\n",
       "      <td>26.0</td>\n",
       "      <td>0</td>\n",
       "      <td>26.0</td>\n",
       "    </tr>\n",
       "    <tr>\n",
       "      <th>5272</th>\n",
       "      <td>15757</td>\n",
       "      <td>Nutella</td>\n",
       "      <td>4008400404127</td>\n",
       "      <td>26.0</td>\n",
       "      <td>0</td>\n",
       "      <td>26.0</td>\n",
       "    </tr>\n",
       "    <tr>\n",
       "      <th>4374</th>\n",
       "      <td>3443</td>\n",
       "      <td>Morga Bananes-Chips</td>\n",
       "      <td>7610491921840</td>\n",
       "      <td>26.0</td>\n",
       "      <td>0</td>\n",
       "      <td>26.0</td>\n",
       "    </tr>\n",
       "    <tr>\n",
       "      <th>5451</th>\n",
       "      <td>9252</td>\n",
       "      <td>Nicolas Feuillatte Champagne</td>\n",
       "      <td>3282946100083</td>\n",
       "      <td>25.0</td>\n",
       "      <td>0</td>\n",
       "      <td>25.0</td>\n",
       "    </tr>\n",
       "    <tr>\n",
       "      <th>5187</th>\n",
       "      <td>23363</td>\n",
       "      <td>NaN</td>\n",
       "      <td>7610036000429</td>\n",
       "      <td>25.0</td>\n",
       "      <td>0</td>\n",
       "      <td>25.0</td>\n",
       "    </tr>\n",
       "    <tr>\n",
       "      <th>4614</th>\n",
       "      <td>2560</td>\n",
       "      <td>Nestlé Cailler of Switzerland NAPOLITAINS Asso...</td>\n",
       "      <td>7613031079506</td>\n",
       "      <td>25.0</td>\n",
       "      <td>0</td>\n",
       "      <td>25.0</td>\n",
       "    </tr>\n",
       "    <tr>\n",
       "      <th>335</th>\n",
       "      <td>14707</td>\n",
       "      <td>Labeyrie Salade &amp; Entrée Magrets de Canard Fumé</td>\n",
       "      <td>3033610060635</td>\n",
       "      <td>23.0</td>\n",
       "      <td>-1</td>\n",
       "      <td>24.0</td>\n",
       "    </tr>\n",
       "    <tr>\n",
       "      <th>5138</th>\n",
       "      <td>6755</td>\n",
       "      <td>Kinder Pingui Schoko</td>\n",
       "      <td>4008400290423</td>\n",
       "      <td>23.0</td>\n",
       "      <td>0</td>\n",
       "      <td>23.0</td>\n",
       "    </tr>\n",
       "    <tr>\n",
       "      <th>5034</th>\n",
       "      <td>22548</td>\n",
       "      <td>Galettes de riz complet</td>\n",
       "      <td>7610200284426</td>\n",
       "      <td>22.0</td>\n",
       "      <td>0</td>\n",
       "      <td>22.0</td>\n",
       "    </tr>\n",
       "    <tr>\n",
       "      <th>6621</th>\n",
       "      <td>9794</td>\n",
       "      <td>Carrefour Palets bretons</td>\n",
       "      <td>3245414238244</td>\n",
       "      <td>23.0</td>\n",
       "      <td>2</td>\n",
       "      <td>21.0</td>\n",
       "    </tr>\n",
       "    <tr>\n",
       "      <th>2339</th>\n",
       "      <td>5560</td>\n",
       "      <td>Knorr Mix pour Spaghetti Bolognese</td>\n",
       "      <td>7611100101547</td>\n",
       "      <td>17.0</td>\n",
       "      <td>-4</td>\n",
       "      <td>21.0</td>\n",
       "    </tr>\n",
       "  </tbody>\n",
       "</table>\n",
       "</div>"
      ],
      "text/plain": [
       "         id                                        name_simple        barcode  \\\n",
       "5252  12951                  Migros Léger Joghurt Drink Banane       22140807   \n",
       "1324   5838                 Kikkoman Teriyaki Marinade & Sauce  8715035210301   \n",
       "7205  15280                                    Ferrero Kinder   4008400511825   \n",
       "3667  11015      Alnatura Bretzels à l'épeautre et au chocolat  4104420145245   \n",
       "4909  23127                                                NaN  3046920084000   \n",
       "5188  23364                                                NaN  7610036003703   \n",
       "4235  19733                                              Milka  7622300185015   \n",
       "5280  12947                    Migros Léger Joghurt Drink Moka       22140814   \n",
       "7802   3897                               Lindt Crunchy Nougat  4000539221705   \n",
       "5272  15757                                            Nutella  4008400404127   \n",
       "4374   3443                                Morga Bananes-Chips  7610491921840   \n",
       "5451   9252                       Nicolas Feuillatte Champagne  3282946100083   \n",
       "5187  23363                                                NaN  7610036000429   \n",
       "4614   2560  Nestlé Cailler of Switzerland NAPOLITAINS Asso...  7613031079506   \n",
       "335   14707    Labeyrie Salade & Entrée Magrets de Canard Fumé  3033610060635   \n",
       "5138   6755                               Kinder Pingui Schoko  4008400290423   \n",
       "5034  22548                            Galettes de riz complet  7610200284426   \n",
       "6621   9794                           Carrefour Palets bretons  3245414238244   \n",
       "2339   5560                 Knorr Mix pour Spaghetti Bolognese  7611100101547   \n",
       "\n",
       "      off_ns_score  nutri_score  difference  \n",
       "5252          28.0           -1        29.0  \n",
       "1324          28.0           -1        29.0  \n",
       "7205          28.0            0        28.0  \n",
       "3667          25.0           -3        28.0  \n",
       "4909          27.0            0        27.0  \n",
       "5188          27.0            0        27.0  \n",
       "4235          27.0            0        27.0  \n",
       "5280          26.0           -1        27.0  \n",
       "7802          26.0            0        26.0  \n",
       "5272          26.0            0        26.0  \n",
       "4374          26.0            0        26.0  \n",
       "5451          25.0            0        25.0  \n",
       "5187          25.0            0        25.0  \n",
       "4614          25.0            0        25.0  \n",
       "335           23.0           -1        24.0  \n",
       "5138          23.0            0        23.0  \n",
       "5034          22.0            0        22.0  \n",
       "6621          23.0            2        21.0  \n",
       "2339          17.0           -4        21.0  "
      ]
     },
     "execution_count": 33,
     "metadata": {},
     "output_type": "execute_result"
    }
   ],
   "source": [
    "merged_df.loc[merged_df.difference > 20,\\\n",
    "              ['id','name_simple','barcode','off_ns_score','nutri_score','difference']]\n",
    "\n",
    "# merged_df.loc[good_scores,"
   ]
  },
  {
   "cell_type": "markdown",
   "metadata": {},
   "source": [
    "products for which they are 'too genereous' "
   ]
  },
  {
   "cell_type": "code",
   "execution_count": 34,
   "metadata": {},
   "outputs": [
    {
     "data": {
      "text/html": [
       "<div>\n",
       "<style scoped>\n",
       "    .dataframe tbody tr th:only-of-type {\n",
       "        vertical-align: middle;\n",
       "    }\n",
       "\n",
       "    .dataframe tbody tr th {\n",
       "        vertical-align: top;\n",
       "    }\n",
       "\n",
       "    .dataframe thead th {\n",
       "        text-align: right;\n",
       "    }\n",
       "</style>\n",
       "<table border=\"1\" class=\"dataframe\">\n",
       "  <thead>\n",
       "    <tr style=\"text-align: right;\">\n",
       "      <th></th>\n",
       "      <th>id</th>\n",
       "      <th>name_simple</th>\n",
       "      <th>barcode</th>\n",
       "      <th>off_ns_score</th>\n",
       "      <th>nutri_score</th>\n",
       "      <th>difference</th>\n",
       "    </tr>\n",
       "  </thead>\n",
       "  <tbody>\n",
       "    <tr>\n",
       "      <th>8053</th>\n",
       "      <td>19369</td>\n",
       "      <td>Cremo - Choky</td>\n",
       "      <td>76123542</td>\n",
       "      <td>0.0</td>\n",
       "      <td>1</td>\n",
       "      <td>-1.0</td>\n",
       "    </tr>\n",
       "    <tr>\n",
       "      <th>3533</th>\n",
       "      <td>1347</td>\n",
       "      <td>Migros Bolets séches</td>\n",
       "      <td>7610200082336</td>\n",
       "      <td>-8.0</td>\n",
       "      <td>-7</td>\n",
       "      <td>-1.0</td>\n",
       "    </tr>\n",
       "    <tr>\n",
       "      <th>10925</th>\n",
       "      <td>8073</td>\n",
       "      <td>Boursault Fromage crémeux affiné</td>\n",
       "      <td>3175460000611</td>\n",
       "      <td>13.0</td>\n",
       "      <td>14</td>\n",
       "      <td>-1.0</td>\n",
       "    </tr>\n",
       "    <tr>\n",
       "      <th>8717</th>\n",
       "      <td>4365</td>\n",
       "      <td>UCAL chocolate milk</td>\n",
       "      <td>5601226041386</td>\n",
       "      <td>-3.0</td>\n",
       "      <td>-2</td>\n",
       "      <td>-1.0</td>\n",
       "    </tr>\n",
       "    <tr>\n",
       "      <th>259</th>\n",
       "      <td>14150</td>\n",
       "      <td>Croquettes de pomme de terre au four</td>\n",
       "      <td>7616800214030</td>\n",
       "      <td>-4.0</td>\n",
       "      <td>-3</td>\n",
       "      <td>-1.0</td>\n",
       "    </tr>\n",
       "    <tr>\n",
       "      <th>14208</th>\n",
       "      <td>6181</td>\n",
       "      <td>Coop Beurre</td>\n",
       "      <td>7610848046271</td>\n",
       "      <td>18.0</td>\n",
       "      <td>19</td>\n",
       "      <td>-1.0</td>\n",
       "    </tr>\n",
       "    <tr>\n",
       "      <th>14063</th>\n",
       "      <td>6194</td>\n",
       "      <td>FLORALP BEURRE DE CHOIX</td>\n",
       "      <td>7612300011223</td>\n",
       "      <td>18.0</td>\n",
       "      <td>19</td>\n",
       "      <td>-1.0</td>\n",
       "    </tr>\n",
       "    <tr>\n",
       "      <th>260</th>\n",
       "      <td>14149</td>\n",
       "      <td>Croquettes de rösti</td>\n",
       "      <td>7616800214078</td>\n",
       "      <td>-2.0</td>\n",
       "      <td>-1</td>\n",
       "      <td>-1.0</td>\n",
       "    </tr>\n",
       "    <tr>\n",
       "      <th>7187</th>\n",
       "      <td>1522</td>\n",
       "      <td>Léger Choco drink</td>\n",
       "      <td>22087164</td>\n",
       "      <td>-1.0</td>\n",
       "      <td>0</td>\n",
       "      <td>-1.0</td>\n",
       "    </tr>\n",
       "    <tr>\n",
       "      <th>11344</th>\n",
       "      <td>12399</td>\n",
       "      <td>Extra Gelée Framboises</td>\n",
       "      <td>7616800106045</td>\n",
       "      <td>12.0</td>\n",
       "      <td>13</td>\n",
       "      <td>-1.0</td>\n",
       "    </tr>\n",
       "    <tr>\n",
       "      <th>7273</th>\n",
       "      <td>13011</td>\n",
       "      <td>Migros Yogourt Vanille</td>\n",
       "      <td>22140616</td>\n",
       "      <td>1.0</td>\n",
       "      <td>2</td>\n",
       "      <td>-1.0</td>\n",
       "    </tr>\n",
       "    <tr>\n",
       "      <th>11510</th>\n",
       "      <td>2210</td>\n",
       "      <td>Malabar</td>\n",
       "      <td>3509140020314</td>\n",
       "      <td>13.0</td>\n",
       "      <td>14</td>\n",
       "      <td>-1.0</td>\n",
       "    </tr>\n",
       "    <tr>\n",
       "      <th>13507</th>\n",
       "      <td>1321</td>\n",
       "      <td>MIGROS BEURRE À RÔTIR</td>\n",
       "      <td>7617300720809</td>\n",
       "      <td>19.0</td>\n",
       "      <td>20</td>\n",
       "      <td>-1.0</td>\n",
       "    </tr>\n",
       "    <tr>\n",
       "      <th>13515</th>\n",
       "      <td>3948</td>\n",
       "      <td>Sarotti HERZ Kirschen ZARTBITTER-PRALINEN</td>\n",
       "      <td>4030387004366</td>\n",
       "      <td>23.0</td>\n",
       "      <td>24</td>\n",
       "      <td>-1.0</td>\n",
       "    </tr>\n",
       "    <tr>\n",
       "      <th>4827</th>\n",
       "      <td>22898</td>\n",
       "      <td>NaN</td>\n",
       "      <td>5411188080091</td>\n",
       "      <td>-1.0</td>\n",
       "      <td>0</td>\n",
       "      <td>-1.0</td>\n",
       "    </tr>\n",
       "    <tr>\n",
       "      <th>13525</th>\n",
       "      <td>2519</td>\n",
       "      <td>Villars Lait Pur</td>\n",
       "      <td>7610036002751</td>\n",
       "      <td>25.0</td>\n",
       "      <td>26</td>\n",
       "      <td>-1.0</td>\n",
       "    </tr>\n",
       "    <tr>\n",
       "      <th>3290</th>\n",
       "      <td>11862</td>\n",
       "      <td>Migros Bio Lentilles à la sauce tomate</td>\n",
       "      <td>7616800823485</td>\n",
       "      <td>-6.0</td>\n",
       "      <td>-5</td>\n",
       "      <td>-1.0</td>\n",
       "    </tr>\n",
       "    <tr>\n",
       "      <th>745</th>\n",
       "      <td>15076</td>\n",
       "      <td>Indonesian bami goreng with vegetables</td>\n",
       "      <td>7613269501954</td>\n",
       "      <td>-5.0</td>\n",
       "      <td>-4</td>\n",
       "      <td>-1.0</td>\n",
       "    </tr>\n",
       "    <tr>\n",
       "      <th>11816</th>\n",
       "      <td>13045</td>\n",
       "      <td>Tartare Coffret 4 Saveurs</td>\n",
       "      <td>3272770093750</td>\n",
       "      <td>13.0</td>\n",
       "      <td>14</td>\n",
       "      <td>-1.0</td>\n",
       "    </tr>\n",
       "    <tr>\n",
       "      <th>7671</th>\n",
       "      <td>1314</td>\n",
       "      <td>AGNESI FRISCHER BASILIKUM</td>\n",
       "      <td>8001200044933</td>\n",
       "      <td>-1.0</td>\n",
       "      <td>0</td>\n",
       "      <td>-1.0</td>\n",
       "    </tr>\n",
       "    <tr>\n",
       "      <th>10784</th>\n",
       "      <td>971</td>\n",
       "      <td>Chocolat noir aux éclats d'amande 60% de cacao</td>\n",
       "      <td>7610848493136</td>\n",
       "      <td>12.0</td>\n",
       "      <td>13</td>\n",
       "      <td>-1.0</td>\n",
       "    </tr>\n",
       "    <tr>\n",
       "      <th>3078</th>\n",
       "      <td>11948</td>\n",
       "      <td>Subito à la carte Petits pois et carottes</td>\n",
       "      <td>7616800906508</td>\n",
       "      <td>-8.0</td>\n",
       "      <td>-7</td>\n",
       "      <td>-1.0</td>\n",
       "    </tr>\n",
       "    <tr>\n",
       "      <th>13038</th>\n",
       "      <td>13046</td>\n",
       "      <td>Migros Beurre de cuisine</td>\n",
       "      <td>7617027159074</td>\n",
       "      <td>18.0</td>\n",
       "      <td>19</td>\n",
       "      <td>-1.0</td>\n",
       "    </tr>\n",
       "    <tr>\n",
       "      <th>12153</th>\n",
       "      <td>1548</td>\n",
       "      <td>La vache qui rit Pik &amp; Croq</td>\n",
       "      <td>3073780809061</td>\n",
       "      <td>11.0</td>\n",
       "      <td>12</td>\n",
       "      <td>-1.0</td>\n",
       "    </tr>\n",
       "    <tr>\n",
       "      <th>9134</th>\n",
       "      <td>11467</td>\n",
       "      <td>Migros Favorit Saltin Confiture de framboises ...</td>\n",
       "      <td>7613312073636</td>\n",
       "      <td>9.0</td>\n",
       "      <td>10</td>\n",
       "      <td>-1.0</td>\n",
       "    </tr>\n",
       "    <tr>\n",
       "      <th>12412</th>\n",
       "      <td>3152</td>\n",
       "      <td>Bonne Maman Abricots Confiture Extra</td>\n",
       "      <td>3045320002621</td>\n",
       "      <td>11.0</td>\n",
       "      <td>12</td>\n",
       "      <td>-1.0</td>\n",
       "    </tr>\n",
       "    <tr>\n",
       "      <th>13026</th>\n",
       "      <td>13066</td>\n",
       "      <td>FLORALP BEURRE DE CHOIX</td>\n",
       "      <td>7610200369604</td>\n",
       "      <td>18.0</td>\n",
       "      <td>19</td>\n",
       "      <td>-1.0</td>\n",
       "    </tr>\n",
       "    <tr>\n",
       "      <th>2567</th>\n",
       "      <td>10449</td>\n",
       "      <td>Alnatura Bio Soja Schnetzel fein</td>\n",
       "      <td>4104420094703</td>\n",
       "      <td>-4.0</td>\n",
       "      <td>-3</td>\n",
       "      <td>-1.0</td>\n",
       "    </tr>\n",
       "    <tr>\n",
       "      <th>8825</th>\n",
       "      <td>12677</td>\n",
       "      <td>Pur jus pasteurisé de tomates</td>\n",
       "      <td>3608580774501</td>\n",
       "      <td>0.0</td>\n",
       "      <td>1</td>\n",
       "      <td>-1.0</td>\n",
       "    </tr>\n",
       "    <tr>\n",
       "      <th>4262</th>\n",
       "      <td>10345</td>\n",
       "      <td>La Trattoria antipasti Tomate cerises semi-séc...</td>\n",
       "      <td>7617027975391</td>\n",
       "      <td>-1.0</td>\n",
       "      <td>0</td>\n",
       "      <td>-1.0</td>\n",
       "    </tr>\n",
       "    <tr>\n",
       "      <th>...</th>\n",
       "      <td>...</td>\n",
       "      <td>...</td>\n",
       "      <td>...</td>\n",
       "      <td>...</td>\n",
       "      <td>...</td>\n",
       "      <td>...</td>\n",
       "    </tr>\n",
       "    <tr>\n",
       "      <th>10663</th>\n",
       "      <td>5230</td>\n",
       "      <td>Seeberger Wertvolle Snacks Dried Figs</td>\n",
       "      <td>4008258235003</td>\n",
       "      <td>6.0</td>\n",
       "      <td>13</td>\n",
       "      <td>-7.0</td>\n",
       "    </tr>\n",
       "    <tr>\n",
       "      <th>13696</th>\n",
       "      <td>10274</td>\n",
       "      <td>Migros Huile de noix</td>\n",
       "      <td>7613312076323</td>\n",
       "      <td>10.0</td>\n",
       "      <td>17</td>\n",
       "      <td>-7.0</td>\n",
       "    </tr>\n",
       "    <tr>\n",
       "      <th>12087</th>\n",
       "      <td>15732</td>\n",
       "      <td>Seeberger Mangue</td>\n",
       "      <td>4008258276006</td>\n",
       "      <td>7.0</td>\n",
       "      <td>14</td>\n",
       "      <td>-7.0</td>\n",
       "    </tr>\n",
       "    <tr>\n",
       "      <th>11931</th>\n",
       "      <td>14541</td>\n",
       "      <td>M Classic Vanille Pistache Cacao Noisette</td>\n",
       "      <td>7617400042641</td>\n",
       "      <td>4.0</td>\n",
       "      <td>11</td>\n",
       "      <td>-7.0</td>\n",
       "    </tr>\n",
       "    <tr>\n",
       "      <th>11865</th>\n",
       "      <td>13337</td>\n",
       "      <td>Alnatura Vielfrucht</td>\n",
       "      <td>42096221</td>\n",
       "      <td>4.0</td>\n",
       "      <td>11</td>\n",
       "      <td>-7.0</td>\n",
       "    </tr>\n",
       "    <tr>\n",
       "      <th>10288</th>\n",
       "      <td>2160</td>\n",
       "      <td>Sun Queen : Abricots</td>\n",
       "      <td>7610200010322</td>\n",
       "      <td>1.0</td>\n",
       "      <td>8</td>\n",
       "      <td>-7.0</td>\n",
       "    </tr>\n",
       "    <tr>\n",
       "      <th>11864</th>\n",
       "      <td>13334</td>\n",
       "      <td>Alnatura Barre à la noix de coco bio</td>\n",
       "      <td>42305880</td>\n",
       "      <td>10.0</td>\n",
       "      <td>17</td>\n",
       "      <td>-7.0</td>\n",
       "    </tr>\n",
       "    <tr>\n",
       "      <th>10669</th>\n",
       "      <td>5233</td>\n",
       "      <td>Seeberger Abricots non sulfurises</td>\n",
       "      <td>4008258365045</td>\n",
       "      <td>4.0</td>\n",
       "      <td>12</td>\n",
       "      <td>-8.0</td>\n",
       "    </tr>\n",
       "    <tr>\n",
       "      <th>13669</th>\n",
       "      <td>10305</td>\n",
       "      <td>ALNATURA, Huile d'olive vierge extra</td>\n",
       "      <td>4104420031050</td>\n",
       "      <td>12.0</td>\n",
       "      <td>20</td>\n",
       "      <td>-8.0</td>\n",
       "    </tr>\n",
       "    <tr>\n",
       "      <th>13689</th>\n",
       "      <td>10312</td>\n",
       "      <td>M Classic Huile de tournesol</td>\n",
       "      <td>7610200040503</td>\n",
       "      <td>11.0</td>\n",
       "      <td>19</td>\n",
       "      <td>-8.0</td>\n",
       "    </tr>\n",
       "    <tr>\n",
       "      <th>13700</th>\n",
       "      <td>10283</td>\n",
       "      <td>Alnatura Huile de lin</td>\n",
       "      <td>4104420170698</td>\n",
       "      <td>11.0</td>\n",
       "      <td>19</td>\n",
       "      <td>-8.0</td>\n",
       "    </tr>\n",
       "    <tr>\n",
       "      <th>13233</th>\n",
       "      <td>4628</td>\n",
       "      <td>La Organic Oro Select Extra-Virgin Olive Oil O...</td>\n",
       "      <td>8437005613140</td>\n",
       "      <td>11.0</td>\n",
       "      <td>20</td>\n",
       "      <td>-9.0</td>\n",
       "    </tr>\n",
       "    <tr>\n",
       "      <th>14236</th>\n",
       "      <td>2896</td>\n",
       "      <td>Nescafé Dolce Gusto Café Au Lait</td>\n",
       "      <td>7613033174667</td>\n",
       "      <td>6.0</td>\n",
       "      <td>15</td>\n",
       "      <td>-9.0</td>\n",
       "    </tr>\n",
       "    <tr>\n",
       "      <th>13250</th>\n",
       "      <td>1121</td>\n",
       "      <td>Lou mas : Huile de tournesol</td>\n",
       "      <td>3490390201014</td>\n",
       "      <td>11.0</td>\n",
       "      <td>20</td>\n",
       "      <td>-9.0</td>\n",
       "    </tr>\n",
       "    <tr>\n",
       "      <th>11045</th>\n",
       "      <td>10898</td>\n",
       "      <td>M-Classic Noix de coco râpée</td>\n",
       "      <td>7610200010544</td>\n",
       "      <td>5.0</td>\n",
       "      <td>14</td>\n",
       "      <td>-9.0</td>\n",
       "    </tr>\n",
       "    <tr>\n",
       "      <th>12762</th>\n",
       "      <td>1336</td>\n",
       "      <td>Monini Classico Olio Extra Vergine Di Oliva</td>\n",
       "      <td>8005510005950</td>\n",
       "      <td>11.0</td>\n",
       "      <td>20</td>\n",
       "      <td>-9.0</td>\n",
       "    </tr>\n",
       "    <tr>\n",
       "      <th>13816</th>\n",
       "      <td>2123</td>\n",
       "      <td>Natruaplan : Huile d'Olive Italienne</td>\n",
       "      <td>7610809021767</td>\n",
       "      <td>11.0</td>\n",
       "      <td>20</td>\n",
       "      <td>-9.0</td>\n",
       "    </tr>\n",
       "    <tr>\n",
       "      <th>13136</th>\n",
       "      <td>4604</td>\n",
       "      <td>Puget Extra Virgin Olive Oil</td>\n",
       "      <td>3265475092005</td>\n",
       "      <td>11.0</td>\n",
       "      <td>20</td>\n",
       "      <td>-9.0</td>\n",
       "    </tr>\n",
       "    <tr>\n",
       "      <th>13150</th>\n",
       "      <td>4607</td>\n",
       "      <td>Coop Prix Garantie Huile d'olive</td>\n",
       "      <td>7610846891736</td>\n",
       "      <td>11.0</td>\n",
       "      <td>20</td>\n",
       "      <td>-9.0</td>\n",
       "    </tr>\n",
       "    <tr>\n",
       "      <th>13673</th>\n",
       "      <td>10300</td>\n",
       "      <td>Monini GranFruttato Olio Extra Vergine Di Oliva</td>\n",
       "      <td>80056591</td>\n",
       "      <td>11.0</td>\n",
       "      <td>20</td>\n",
       "      <td>-9.0</td>\n",
       "    </tr>\n",
       "    <tr>\n",
       "      <th>13672</th>\n",
       "      <td>10301</td>\n",
       "      <td>Monini Aromatizzato Tartufo Bianco Condimento ...</td>\n",
       "      <td>80481508</td>\n",
       "      <td>11.0</td>\n",
       "      <td>20</td>\n",
       "      <td>-9.0</td>\n",
       "    </tr>\n",
       "    <tr>\n",
       "      <th>13172</th>\n",
       "      <td>4591</td>\n",
       "      <td>Lesieur Topping for Speciaal Pizza Hot &amp; Spicy</td>\n",
       "      <td>3210178715003</td>\n",
       "      <td>11.0</td>\n",
       "      <td>20</td>\n",
       "      <td>-9.0</td>\n",
       "    </tr>\n",
       "    <tr>\n",
       "      <th>13158</th>\n",
       "      <td>4583</td>\n",
       "      <td>Sabo - Huile de sésame toasté</td>\n",
       "      <td>7611690309248</td>\n",
       "      <td>11.0</td>\n",
       "      <td>20</td>\n",
       "      <td>-9.0</td>\n",
       "    </tr>\n",
       "    <tr>\n",
       "      <th>10539</th>\n",
       "      <td>12051</td>\n",
       "      <td>Pelican Filets de carrelets légèrement panés</td>\n",
       "      <td>7613312010396</td>\n",
       "      <td>-1.0</td>\n",
       "      <td>9</td>\n",
       "      <td>-10.0</td>\n",
       "    </tr>\n",
       "    <tr>\n",
       "      <th>11371</th>\n",
       "      <td>19092</td>\n",
       "      <td>NaN</td>\n",
       "      <td>20763961</td>\n",
       "      <td>3.0</td>\n",
       "      <td>13</td>\n",
       "      <td>-10.0</td>\n",
       "    </tr>\n",
       "    <tr>\n",
       "      <th>10377</th>\n",
       "      <td>2183</td>\n",
       "      <td>Naturaplan : Mélange de fruits secs</td>\n",
       "      <td>7613331335982</td>\n",
       "      <td>0.0</td>\n",
       "      <td>10</td>\n",
       "      <td>-10.0</td>\n",
       "    </tr>\n",
       "    <tr>\n",
       "      <th>10660</th>\n",
       "      <td>5236</td>\n",
       "      <td>Seeberger Cerneaux de noix</td>\n",
       "      <td>4008258130018</td>\n",
       "      <td>5.0</td>\n",
       "      <td>15</td>\n",
       "      <td>-10.0</td>\n",
       "    </tr>\n",
       "    <tr>\n",
       "      <th>9785</th>\n",
       "      <td>1024</td>\n",
       "      <td>Mani Sweet Cocktail</td>\n",
       "      <td>5425032900008</td>\n",
       "      <td>0.0</td>\n",
       "      <td>10</td>\n",
       "      <td>-10.0</td>\n",
       "    </tr>\n",
       "    <tr>\n",
       "      <th>10011</th>\n",
       "      <td>996</td>\n",
       "      <td>Naturaplan Bio whole Almonds</td>\n",
       "      <td>7610818970506</td>\n",
       "      <td>-4.0</td>\n",
       "      <td>6</td>\n",
       "      <td>-10.0</td>\n",
       "    </tr>\n",
       "    <tr>\n",
       "      <th>12490</th>\n",
       "      <td>2888</td>\n",
       "      <td>Nestlé NESCAFÉ Dolce Gusto CAPPUCCINO</td>\n",
       "      <td>7613034732828</td>\n",
       "      <td>0.0</td>\n",
       "      <td>17</td>\n",
       "      <td>-17.0</td>\n",
       "    </tr>\n",
       "  </tbody>\n",
       "</table>\n",
       "<p>230 rows × 6 columns</p>\n",
       "</div>"
      ],
      "text/plain": [
       "          id                                        name_simple  \\\n",
       "8053   19369                                      Cremo - Choky   \n",
       "3533    1347                               Migros Bolets séches   \n",
       "10925   8073                   Boursault Fromage crémeux affiné   \n",
       "8717    4365                                UCAL chocolate milk   \n",
       "259    14150               Croquettes de pomme de terre au four   \n",
       "14208   6181                                        Coop Beurre   \n",
       "14063   6194                            FLORALP BEURRE DE CHOIX   \n",
       "260    14149                                Croquettes de rösti   \n",
       "7187    1522                                  Léger Choco drink   \n",
       "11344  12399                             Extra Gelée Framboises   \n",
       "7273   13011                             Migros Yogourt Vanille   \n",
       "11510   2210                                            Malabar   \n",
       "13507   1321                              MIGROS BEURRE À RÔTIR   \n",
       "13515   3948          Sarotti HERZ Kirschen ZARTBITTER-PRALINEN   \n",
       "4827   22898                                                NaN   \n",
       "13525   2519                                   Villars Lait Pur   \n",
       "3290   11862             Migros Bio Lentilles à la sauce tomate   \n",
       "745    15076             Indonesian bami goreng with vegetables   \n",
       "11816  13045                         Tartare Coffret 4 Saveurs    \n",
       "7671    1314                          AGNESI FRISCHER BASILIKUM   \n",
       "10784    971     Chocolat noir aux éclats d'amande 60% de cacao   \n",
       "3078   11948          Subito à la carte Petits pois et carottes   \n",
       "13038  13046                           Migros Beurre de cuisine   \n",
       "12153   1548                        La vache qui rit Pik & Croq   \n",
       "9134   11467  Migros Favorit Saltin Confiture de framboises ...   \n",
       "12412   3152               Bonne Maman Abricots Confiture Extra   \n",
       "13026  13066                            FLORALP BEURRE DE CHOIX   \n",
       "2567   10449                   Alnatura Bio Soja Schnetzel fein   \n",
       "8825   12677                      Pur jus pasteurisé de tomates   \n",
       "4262   10345  La Trattoria antipasti Tomate cerises semi-séc...   \n",
       "...      ...                                                ...   \n",
       "10663   5230              Seeberger Wertvolle Snacks Dried Figs   \n",
       "13696  10274                               Migros Huile de noix   \n",
       "12087  15732                                   Seeberger Mangue   \n",
       "11931  14541          M Classic Vanille Pistache Cacao Noisette   \n",
       "11865  13337                                Alnatura Vielfrucht   \n",
       "10288   2160                               Sun Queen : Abricots   \n",
       "11864  13334               Alnatura Barre à la noix de coco bio   \n",
       "10669   5233                  Seeberger Abricots non sulfurises   \n",
       "13669  10305               ALNATURA, Huile d'olive vierge extra   \n",
       "13689  10312                       M Classic Huile de tournesol   \n",
       "13700  10283                              Alnatura Huile de lin   \n",
       "13233   4628  La Organic Oro Select Extra-Virgin Olive Oil O...   \n",
       "14236   2896                   Nescafé Dolce Gusto Café Au Lait   \n",
       "13250   1121                       Lou mas : Huile de tournesol   \n",
       "11045  10898                       M-Classic Noix de coco râpée   \n",
       "12762   1336        Monini Classico Olio Extra Vergine Di Oliva   \n",
       "13816   2123               Natruaplan : Huile d'Olive Italienne   \n",
       "13136   4604                       Puget Extra Virgin Olive Oil   \n",
       "13150   4607                   Coop Prix Garantie Huile d'olive   \n",
       "13673  10300    Monini GranFruttato Olio Extra Vergine Di Oliva   \n",
       "13672  10301  Monini Aromatizzato Tartufo Bianco Condimento ...   \n",
       "13172   4591     Lesieur Topping for Speciaal Pizza Hot & Spicy   \n",
       "13158   4583                      Sabo - Huile de sésame toasté   \n",
       "10539  12051       Pelican Filets de carrelets légèrement panés   \n",
       "11371  19092                                                NaN   \n",
       "10377   2183                Naturaplan : Mélange de fruits secs   \n",
       "10660   5236                         Seeberger Cerneaux de noix   \n",
       "9785    1024                                Mani Sweet Cocktail   \n",
       "10011    996                      Naturaplan Bio whole Almonds    \n",
       "12490   2888              Nestlé NESCAFÉ Dolce Gusto CAPPUCCINO   \n",
       "\n",
       "             barcode  off_ns_score  nutri_score  difference  \n",
       "8053        76123542           0.0            1        -1.0  \n",
       "3533   7610200082336          -8.0           -7        -1.0  \n",
       "10925  3175460000611          13.0           14        -1.0  \n",
       "8717   5601226041386          -3.0           -2        -1.0  \n",
       "259    7616800214030          -4.0           -3        -1.0  \n",
       "14208  7610848046271          18.0           19        -1.0  \n",
       "14063  7612300011223          18.0           19        -1.0  \n",
       "260    7616800214078          -2.0           -1        -1.0  \n",
       "7187        22087164          -1.0            0        -1.0  \n",
       "11344  7616800106045          12.0           13        -1.0  \n",
       "7273        22140616           1.0            2        -1.0  \n",
       "11510  3509140020314          13.0           14        -1.0  \n",
       "13507  7617300720809          19.0           20        -1.0  \n",
       "13515  4030387004366          23.0           24        -1.0  \n",
       "4827   5411188080091          -1.0            0        -1.0  \n",
       "13525  7610036002751          25.0           26        -1.0  \n",
       "3290   7616800823485          -6.0           -5        -1.0  \n",
       "745    7613269501954          -5.0           -4        -1.0  \n",
       "11816  3272770093750          13.0           14        -1.0  \n",
       "7671   8001200044933          -1.0            0        -1.0  \n",
       "10784  7610848493136          12.0           13        -1.0  \n",
       "3078   7616800906508          -8.0           -7        -1.0  \n",
       "13038  7617027159074          18.0           19        -1.0  \n",
       "12153  3073780809061          11.0           12        -1.0  \n",
       "9134   7613312073636           9.0           10        -1.0  \n",
       "12412  3045320002621          11.0           12        -1.0  \n",
       "13026  7610200369604          18.0           19        -1.0  \n",
       "2567   4104420094703          -4.0           -3        -1.0  \n",
       "8825   3608580774501           0.0            1        -1.0  \n",
       "4262   7617027975391          -1.0            0        -1.0  \n",
       "...              ...           ...          ...         ...  \n",
       "10663  4008258235003           6.0           13        -7.0  \n",
       "13696  7613312076323          10.0           17        -7.0  \n",
       "12087  4008258276006           7.0           14        -7.0  \n",
       "11931  7617400042641           4.0           11        -7.0  \n",
       "11865       42096221           4.0           11        -7.0  \n",
       "10288  7610200010322           1.0            8        -7.0  \n",
       "11864       42305880          10.0           17        -7.0  \n",
       "10669  4008258365045           4.0           12        -8.0  \n",
       "13669  4104420031050          12.0           20        -8.0  \n",
       "13689  7610200040503          11.0           19        -8.0  \n",
       "13700  4104420170698          11.0           19        -8.0  \n",
       "13233  8437005613140          11.0           20        -9.0  \n",
       "14236  7613033174667           6.0           15        -9.0  \n",
       "13250  3490390201014          11.0           20        -9.0  \n",
       "11045  7610200010544           5.0           14        -9.0  \n",
       "12762  8005510005950          11.0           20        -9.0  \n",
       "13816  7610809021767          11.0           20        -9.0  \n",
       "13136  3265475092005          11.0           20        -9.0  \n",
       "13150  7610846891736          11.0           20        -9.0  \n",
       "13673       80056591          11.0           20        -9.0  \n",
       "13672       80481508          11.0           20        -9.0  \n",
       "13172  3210178715003          11.0           20        -9.0  \n",
       "13158  7611690309248          11.0           20        -9.0  \n",
       "10539  7613312010396          -1.0            9       -10.0  \n",
       "11371       20763961           3.0           13       -10.0  \n",
       "10377  7613331335982           0.0           10       -10.0  \n",
       "10660  4008258130018           5.0           15       -10.0  \n",
       "9785   5425032900008           0.0           10       -10.0  \n",
       "10011  7610818970506          -4.0            6       -10.0  \n",
       "12490  7613034732828           0.0           17       -17.0  \n",
       "\n",
       "[230 rows x 6 columns]"
      ]
     },
     "execution_count": 34,
     "metadata": {},
     "output_type": "execute_result"
    }
   ],
   "source": [
    "merged_df.loc[merged_df.difference < 0,\\\n",
    "              ['id','name_simple','barcode','off_ns_score','nutri_score','difference']]"
   ]
  },
  {
   "cell_type": "code",
   "execution_count": null,
   "metadata": {},
   "outputs": [],
   "source": []
  },
  {
   "cell_type": "code",
   "execution_count": null,
   "metadata": {},
   "outputs": [],
   "source": []
  },
  {
   "cell_type": "markdown",
   "metadata": {
    "heading_collapsed": true,
    "run_control": {
     "frozen": false,
     "read_only": false
    }
   },
   "source": [
    "# OTHER CODE "
   ]
  },
  {
   "cell_type": "code",
   "execution_count": null,
   "metadata": {
    "hidden": true,
    "run_control": {
     "frozen": false,
     "read_only": false
    }
   },
   "outputs": [],
   "source": [
    "# GR and Kirtan score compared - GR still missing some parts\n",
    "\n",
    "sns.jointplot(data=merged_df,x='nutri_score',y='kir_score')"
   ]
  },
  {
   "cell_type": "code",
   "execution_count": null,
   "metadata": {
    "hidden": true,
    "run_control": {
     "frozen": false,
     "read_only": false
    }
   },
   "outputs": [],
   "source": []
  }
 ],
 "metadata": {
  "kernelspec": {
   "display_name": "Python 3",
   "language": "python",
   "name": "python3"
  },
  "language_info": {
   "codemirror_mode": {
    "name": "ipython",
    "version": 3
   },
   "file_extension": ".py",
   "mimetype": "text/x-python",
   "name": "python",
   "nbconvert_exporter": "python",
   "pygments_lexer": "ipython3",
   "version": "3.6.0"
  },
  "toc": {
   "base_numbering": 1,
   "nav_menu": {
    "height": "30px",
    "width": "252px"
   },
   "number_sections": false,
   "sideBar": false,
   "skip_h1_title": false,
   "title_cell": "Table of Contents",
   "title_sidebar": "Contents",
   "toc_cell": true,
   "toc_position": {
    "height": "165px",
    "left": "1314px",
    "right": "115.5999984741211px",
    "top": "73.5999984741211px",
    "width": "165px"
   },
   "toc_section_display": true,
   "toc_window_display": true
  }
 },
 "nbformat": 4,
 "nbformat_minor": 2
}
