{
 "cells": [
  {
   "cell_type": "markdown",
   "metadata": {
    "toc": true
   },
   "source": [
    "<h1>Table of Contents<span class=\"tocSkip\"></span></h1>\n",
    "<div class=\"toc\"><ul class=\"toc-item\"><li><span><a href=\"#Quicker-API-use,-thanks-to-DJ\" data-toc-modified-id=\"Quicker-API-use,-thanks-to-DJ-1\">Quicker API use, thanks to DJ</a></span></li></ul></div>"
   ]
  },
  {
   "cell_type": "code",
   "execution_count": 1,
   "metadata": {},
   "outputs": [],
   "source": [
    "#!/usr/bin/python\n",
    "# -*- coding: utf-8 -*-\n",
    "\n",
    "import json\n",
    "import pandas as pd\n",
    "import pprint\n",
    "import requests\n",
    "pp = pprint.PrettyPrinter(indent=4)"
   ]
  },
  {
   "cell_type": "markdown",
   "metadata": {},
   "source": [
    "## Quicker API use, thanks to DJ"
   ]
  },
  {
   "cell_type": "code",
   "execution_count": null,
   "metadata": {},
   "outputs": [],
   "source": [
    "%%time\n",
    "BASE_URL='https://www.openfood.ch/api/v3'\n",
    "KEY='your_API_key'\n",
    "dInfo = {}\n",
    "dIngredients = {}\n",
    "dNutrients = {}\n",
    "\n",
    "ENDPOINT='/products'\n",
    "\n",
    "url = BASE_URL + ENDPOINT\n",
    "\n",
    "headers = {\n",
    "  'Authorization': 'Token token=' + KEY,\n",
    "  'Accept': 'application/json',\n",
    "  'Content-Type': 'application/vnd.api+json',\n",
    "  'Accept-Encoding': 'gzip,deflate'\n",
    "}\n",
    "\n",
    "r = requests.get(url, headers=headers)\n",
    "links = r.json()['links']\n",
    "data = r.json()['links']\n",
    "\n",
    "for data_item in data : \n",
    "    if r.status_code == 200:\n",
    "#             print('Successful call {}'.format(data_item['id']))\n",
    "        item = {}\n",
    "        item_ing = {}\n",
    "        item_nut = {}\n",
    "        try:\n",
    "            item['name'] = item_ing['name'] = item_nut['name'] = data_item['display_name_translations']\n",
    "            item['id'] = item_ing['id'] = item_nut['id'] = data_item['id']\n",
    "            #item['barcode'] = item_ing['barcode'] = item_nut['barcode'] = data['barcode']\n",
    "\n",
    "            item['quantity'] = data_item['quantity']\n",
    "            item['unit'] = data_item['unit']\n",
    "            item['portion'] = data_item['portion_quantity']\n",
    "            item['portion unit'] = data_item['portion_unit']\n",
    "            item['alcohol'] = data_item['alcohol_by_volume']\n",
    "\n",
    "            item_ing['ingredients'] = data_item['ingredients_translations']\n",
    "\n",
    "            nuts = {}\n",
    "            for nut in data_item['nutrients'].keys():\n",
    "                nuts[nut] = {'per_day':data_item['nutrients'][nut]['per_day'],\n",
    "                             'per_hundred':data_item['nutrients'][nut]['per_hundred'],\n",
    "                             'per_portion':data_item['nutrients'][nut]['per_portion']}\n",
    "            item_nut['nutrients'] = nuts\n",
    "            dInfo[data_item['barcode']] = item    \n",
    "            dIngredients[data_item['barcode']] = item_ing\n",
    "            dNutrients[data_item['barcode']] = item_nut\n",
    "\n",
    "        except:\n",
    "            pass\n",
    "        \n",
    "while (links['next']!=links['last']):\n",
    "    \n",
    "    r = requests.get(links['next'],headers=headers)\n",
    "    links = r.json()['links']\n",
    "    data = r.json()['data']\n",
    "    \n",
    "    for data_item in data : \n",
    "        if r.status_code == 200:\n",
    "#             print('Successful call {}'.format(data_item['id']))\n",
    "            item = {}\n",
    "            item_ing = {}\n",
    "            item_nut = {}\n",
    "            try:\n",
    "                item['name'] = item_ing['name'] = item_nut['name'] = data_item['display_name_translations']\n",
    "                item['id'] = item_ing['id'] = item_nut['id'] = data_item['id']\n",
    "                #item['barcode'] = item_ing['barcode'] = item_nut['barcode'] = data['barcode']\n",
    "\n",
    "                item['quantity'] = data_item['quantity']\n",
    "                item['unit'] = data_item['unit']\n",
    "                item['portion'] = data_item['portion_quantity']\n",
    "                item['portion unit'] = data_item['portion_unit']\n",
    "                item['alcohol'] = data_item['alcohol_by_volume']\n",
    "\n",
    "                item_ing['ingredients'] = data_item['ingredients_translations']\n",
    "\n",
    "                nuts = {}\n",
    "                for nut in data_item['nutrients'].keys():\n",
    "                    nuts[nut] = {'per_day':data_item['nutrients'][nut]['per_day'],\n",
    "                                 'per_hundred':data_item['nutrients'][nut]['per_hundred'],\n",
    "                                 'per_portion':data_item['nutrients'][nut]['per_portion'],\n",
    "                                'unit':data_item['nutrients'][nut]['unit']}\n",
    "                item_nut['nutrients'] = nuts\n",
    "                dInfo[data_item['barcode']] = item    \n",
    "                dIngredients[data_item['barcode']] = item_ing\n",
    "                dNutrients[data_item['barcode']] = item_nut\n",
    "\n",
    "            except:\n",
    "                pass\n",
    "\n"
   ]
  },
  {
   "cell_type": "code",
   "execution_count": null,
   "metadata": {},
   "outputs": [],
   "source": []
  }
 ],
 "metadata": {
  "kernelspec": {
   "display_name": "Python 3",
   "language": "python",
   "name": "python3"
  },
  "language_info": {
   "codemirror_mode": {
    "name": "ipython",
    "version": 3
   },
   "file_extension": ".py",
   "mimetype": "text/x-python",
   "name": "python",
   "nbconvert_exporter": "python",
   "pygments_lexer": "ipython3",
   "version": "3.7.0"
  },
  "toc": {
   "base_numbering": 1,
   "nav_menu": {},
   "number_sections": false,
   "sideBar": false,
   "skip_h1_title": false,
   "title_cell": "Table of Contents",
   "title_sidebar": "Contents",
   "toc_cell": true,
   "toc_position": {
    "height": "100px",
    "left": "854.2000122070312px",
    "top": "105.4000015258789px",
    "width": "297.79998779296875px"
   },
   "toc_section_display": true,
   "toc_window_display": true
  }
 },
 "nbformat": 4,
 "nbformat_minor": 2
}
